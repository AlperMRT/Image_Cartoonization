{
 "cells": [
  {
   "metadata": {},
   "cell_type": "markdown",
   "source": [
    "# This is a sample Jupyter Notebook\n",
    "\n",
    "Below is an example of a code cell. \n",
    "Put your cursor into the cell and press Shift+Enter to execute it and select the next one, or click 'Run Cell' button.\n",
    "\n",
    "Press Double Shift to search everywhere for classes, files, tool windows, actions, and settings.\n",
    "\n",
    "To learn more about Jupyter Notebooks in PyCharm, see [help](https://www.jetbrains.com/help/pycharm/ipython-notebook-support.html).\n",
    "For an overview of PyCharm, go to Help -> Learn IDE features or refer to [our documentation](https://www.jetbrains.com/help/pycharm/getting-started.html)."
   ],
   "id": "8a77807f92f26ee"
  },
  {
   "metadata": {
    "ExecuteTime": {
     "end_time": "2025-05-27T14:10:34.932468Z",
     "start_time": "2025-05-27T14:10:26.430693Z"
    }
   },
   "cell_type": "code",
   "source": [
    "import os\n",
    "import torch\n",
    "import torchvision.transforms as transforms\n",
    "from PIL import Image\n",
    "import matplotlib.pyplot as plt\n",
    "import cv2\n",
    "import numpy as np\n",
    "import tensorflow as tf\n",
    "from tqdm import tqdm\n",
    "from yaml import warnings"
   ],
   "id": "fbc121e30a2defb3",
   "outputs": [],
   "execution_count": 1
  },
  {
   "metadata": {},
   "cell_type": "code",
   "outputs": [],
   "execution_count": null,
   "source": "",
   "id": "56574ff1917b0037"
  },
  {
   "metadata": {
    "ExecuteTime": {
     "end_time": "2025-05-12T12:27:33.883244Z",
     "start_time": "2025-05-12T12:27:09.282338Z"
    }
   },
   "cell_type": "code",
   "source": [
    "!pip install torch torchvision albumentations more-itertools tqdm gradio\n",
    "\n"
   ],
   "id": "4b899e6af46871d6",
   "outputs": [
    {
     "name": "stdout",
     "output_type": "stream",
     "text": [
      "Requirement already satisfied: torch in c:\\users\\alper\\miniconda3\\lib\\site-packages (2.5.1)\n",
      "Requirement already satisfied: torchvision in c:\\users\\alper\\miniconda3\\lib\\site-packages (0.20.1)\n",
      "Collecting albumentations\n",
      "  Downloading albumentations-2.0.6-py3-none-any.whl.metadata (43 kB)\n",
      "     ---------------------------------------- 0.0/43.1 kB ? eta -:--:--\n",
      "     --------- ------------------------------ 10.2/43.1 kB ? eta -:--:--\n",
      "     --------------------------- ---------- 30.7/43.1 kB 330.3 kB/s eta 0:00:01\n",
      "     ------------------------------------ - 41.0/43.1 kB 393.8 kB/s eta 0:00:01\n",
      "     -------------------------------------- 43.1/43.1 kB 232.8 kB/s eta 0:00:00\n",
      "Collecting more-itertools\n",
      "  Downloading more_itertools-10.7.0-py3-none-any.whl.metadata (37 kB)\n",
      "Requirement already satisfied: tqdm in c:\\users\\alper\\miniconda3\\lib\\site-packages (4.65.0)\n",
      "Collecting gradio\n",
      "  Downloading gradio-5.29.0-py3-none-any.whl.metadata (16 kB)\n",
      "Requirement already satisfied: filelock in c:\\users\\alper\\miniconda3\\lib\\site-packages (from torch) (3.13.1)\n",
      "Requirement already satisfied: typing-extensions>=4.8.0 in c:\\users\\alper\\miniconda3\\lib\\site-packages (from torch) (4.12.2)\n",
      "Requirement already satisfied: setuptools in c:\\users\\alper\\miniconda3\\lib\\site-packages (from torch) (75.1.0)\n",
      "Requirement already satisfied: sympy==1.13.1 in c:\\users\\alper\\miniconda3\\lib\\site-packages (from torch) (1.13.1)\n",
      "Requirement already satisfied: networkx in c:\\users\\alper\\miniconda3\\lib\\site-packages (from torch) (3.2.1)\n",
      "Requirement already satisfied: jinja2 in c:\\users\\alper\\miniconda3\\lib\\site-packages (from torch) (3.1.4)\n",
      "Requirement already satisfied: fsspec in c:\\users\\alper\\miniconda3\\lib\\site-packages (from torch) (2024.10.0)\n",
      "Requirement already satisfied: mpmath<1.4,>=1.1.0 in c:\\users\\alper\\miniconda3\\lib\\site-packages (from sympy==1.13.1->torch) (1.3.0)\n",
      "Requirement already satisfied: numpy in c:\\users\\alper\\miniconda3\\lib\\site-packages (from torchvision) (1.26.4)\n",
      "Requirement already satisfied: pillow!=8.3.*,>=5.3.0 in c:\\users\\alper\\miniconda3\\lib\\site-packages (from torchvision) (11.0.0)\n",
      "Requirement already satisfied: scipy>=1.10.0 in c:\\users\\alper\\miniconda3\\lib\\site-packages (from albumentations) (1.14.1)\n",
      "Requirement already satisfied: PyYAML in c:\\users\\alper\\miniconda3\\lib\\site-packages (from albumentations) (6.0.1)\n",
      "Requirement already satisfied: pydantic>=2.9.2 in c:\\users\\alper\\miniconda3\\lib\\site-packages (from albumentations) (2.10.4)\n",
      "Collecting albucore==0.0.24 (from albumentations)\n",
      "  Downloading albucore-0.0.24-py3-none-any.whl.metadata (5.3 kB)\n",
      "Collecting opencv-python-headless>=4.9.0.80 (from albumentations)\n",
      "  Downloading opencv_python_headless-4.11.0.86-cp37-abi3-win_amd64.whl.metadata (20 kB)\n",
      "Collecting stringzilla>=3.10.4 (from albucore==0.0.24->albumentations)\n",
      "  Downloading stringzilla-3.12.5-cp312-cp312-win_amd64.whl.metadata (81 kB)\n",
      "     ---------------------------------------- 0.0/81.9 kB ? eta -:--:--\n",
      "     ------------------- -------------------- 41.0/81.9 kB 1.9 MB/s eta 0:00:01\n",
      "     -------------------------------------- 81.9/81.9 kB 919.2 kB/s eta 0:00:00\n",
      "Collecting simsimd>=5.9.2 (from albucore==0.0.24->albumentations)\n",
      "  Downloading simsimd-6.2.1-cp312-cp312-win_amd64.whl.metadata (67 kB)\n",
      "     ---------------------------------------- 0.0/67.4 kB ? eta -:--:--\n",
      "     ------------------------------------ --- 61.4/67.4 kB ? eta -:--:--\n",
      "     ---------------------------------------- 67.4/67.4 kB 1.8 MB/s eta 0:00:00\n",
      "Requirement already satisfied: colorama in c:\\users\\alper\\miniconda3\\lib\\site-packages (from tqdm) (0.4.6)\n",
      "Collecting aiofiles<25.0,>=22.0 (from gradio)\n",
      "  Downloading aiofiles-24.1.0-py3-none-any.whl.metadata (10 kB)\n",
      "Requirement already satisfied: anyio<5.0,>=3.0 in c:\\users\\alper\\miniconda3\\lib\\site-packages (from gradio) (4.2.0)\n",
      "Collecting fastapi<1.0,>=0.115.2 (from gradio)\n",
      "  Downloading fastapi-0.115.12-py3-none-any.whl.metadata (27 kB)\n",
      "Collecting ffmpy (from gradio)\n",
      "  Downloading ffmpy-0.5.0-py3-none-any.whl.metadata (3.0 kB)\n",
      "Collecting gradio-client==1.10.0 (from gradio)\n",
      "  Downloading gradio_client-1.10.0-py3-none-any.whl.metadata (7.1 kB)\n",
      "Collecting groovy~=0.1 (from gradio)\n",
      "  Downloading groovy-0.1.2-py3-none-any.whl.metadata (6.1 kB)\n",
      "Requirement already satisfied: httpx>=0.24.1 in c:\\users\\alper\\miniconda3\\lib\\site-packages (from gradio) (0.27.0)\n",
      "Collecting huggingface-hub>=0.28.1 (from gradio)\n",
      "  Downloading huggingface_hub-0.31.1-py3-none-any.whl.metadata (13 kB)\n",
      "Requirement already satisfied: markupsafe<4.0,>=2.0 in c:\\users\\alper\\miniconda3\\lib\\site-packages (from gradio) (2.1.3)\n",
      "Collecting orjson~=3.0 (from gradio)\n",
      "  Downloading orjson-3.10.18-cp312-cp312-win_amd64.whl.metadata (43 kB)\n",
      "     ---------------------------------------- 0.0/43.0 kB ? eta -:--:--\n",
      "     ---------------------------------------- 43.0/43.0 kB ? eta 0:00:00\n",
      "Requirement already satisfied: packaging in c:\\users\\alper\\miniconda3\\lib\\site-packages (from gradio) (24.2)\n",
      "Requirement already satisfied: pandas<3.0,>=1.0 in c:\\users\\alper\\miniconda3\\lib\\site-packages (from gradio) (2.2.3)\n",
      "Collecting pydub (from gradio)\n",
      "  Downloading pydub-0.25.1-py2.py3-none-any.whl.metadata (1.4 kB)\n",
      "Collecting python-multipart>=0.0.18 (from gradio)\n",
      "  Downloading python_multipart-0.0.20-py3-none-any.whl.metadata (1.8 kB)\n",
      "Collecting ruff>=0.9.3 (from gradio)\n",
      "  Downloading ruff-0.11.9-py3-none-win_amd64.whl.metadata (26 kB)\n",
      "Collecting safehttpx<0.2.0,>=0.1.6 (from gradio)\n",
      "  Downloading safehttpx-0.1.6-py3-none-any.whl.metadata (4.2 kB)\n",
      "Collecting semantic-version~=2.0 (from gradio)\n",
      "  Using cached semantic_version-2.10.0-py2.py3-none-any.whl.metadata (9.7 kB)\n",
      "Collecting starlette<1.0,>=0.40.0 (from gradio)\n",
      "  Downloading starlette-0.46.2-py3-none-any.whl.metadata (6.2 kB)\n",
      "Collecting tomlkit<0.14.0,>=0.12.0 (from gradio)\n",
      "  Downloading tomlkit-0.13.2-py3-none-any.whl.metadata (2.7 kB)\n",
      "Collecting typer<1.0,>=0.12 (from gradio)\n",
      "  Downloading typer-0.15.3-py3-none-any.whl.metadata (15 kB)\n",
      "Collecting uvicorn>=0.14.0 (from gradio)\n",
      "  Downloading uvicorn-0.34.2-py3-none-any.whl.metadata (6.5 kB)\n",
      "Collecting websockets<16.0,>=10.0 (from gradio-client==1.10.0->gradio)\n",
      "  Downloading websockets-15.0.1-cp312-cp312-win_amd64.whl.metadata (7.0 kB)\n",
      "Requirement already satisfied: idna>=2.8 in c:\\users\\alper\\miniconda3\\lib\\site-packages (from anyio<5.0,>=3.0->gradio) (3.4)\n",
      "Requirement already satisfied: sniffio>=1.1 in c:\\users\\alper\\miniconda3\\lib\\site-packages (from anyio<5.0,>=3.0->gradio) (1.3.0)\n",
      "Requirement already satisfied: certifi in c:\\users\\alper\\miniconda3\\lib\\site-packages (from httpx>=0.24.1->gradio) (2025.4.26)\n",
      "Requirement already satisfied: httpcore==1.* in c:\\users\\alper\\miniconda3\\lib\\site-packages (from httpx>=0.24.1->gradio) (1.0.2)\n",
      "Requirement already satisfied: h11<0.15,>=0.13 in c:\\users\\alper\\miniconda3\\lib\\site-packages (from httpcore==1.*->httpx>=0.24.1->gradio) (0.14.0)\n",
      "Requirement already satisfied: requests in c:\\users\\alper\\miniconda3\\lib\\site-packages (from huggingface-hub>=0.28.1->gradio) (2.31.0)\n",
      "Requirement already satisfied: python-dateutil>=2.8.2 in c:\\users\\alper\\miniconda3\\lib\\site-packages (from pandas<3.0,>=1.0->gradio) (2.9.0.post0)\n",
      "Requirement already satisfied: pytz>=2020.1 in c:\\users\\alper\\miniconda3\\lib\\site-packages (from pandas<3.0,>=1.0->gradio) (2024.1)\n",
      "Requirement already satisfied: tzdata>=2022.7 in c:\\users\\alper\\miniconda3\\lib\\site-packages (from pandas<3.0,>=1.0->gradio) (2023.3)\n",
      "Requirement already satisfied: annotated-types>=0.6.0 in c:\\users\\alper\\miniconda3\\lib\\site-packages (from pydantic>=2.9.2->albumentations) (0.7.0)\n",
      "Requirement already satisfied: pydantic-core==2.27.2 in c:\\users\\alper\\miniconda3\\lib\\site-packages (from pydantic>=2.9.2->albumentations) (2.27.2)\n",
      "Requirement already satisfied: click>=8.0.0 in c:\\users\\alper\\miniconda3\\lib\\site-packages (from typer<1.0,>=0.12->gradio) (8.1.7)\n",
      "Collecting shellingham>=1.3.0 (from typer<1.0,>=0.12->gradio)\n",
      "  Downloading shellingham-1.5.4-py2.py3-none-any.whl.metadata (3.5 kB)\n",
      "Requirement already satisfied: rich>=10.11.0 in c:\\users\\alper\\miniconda3\\lib\\site-packages (from typer<1.0,>=0.12->gradio) (13.8.0)\n",
      "Requirement already satisfied: six>=1.5 in c:\\users\\alper\\miniconda3\\lib\\site-packages (from python-dateutil>=2.8.2->pandas<3.0,>=1.0->gradio) (1.16.0)\n",
      "Requirement already satisfied: markdown-it-py>=2.2.0 in c:\\users\\alper\\miniconda3\\lib\\site-packages (from rich>=10.11.0->typer<1.0,>=0.12->gradio) (2.2.0)\n",
      "Requirement already satisfied: pygments<3.0.0,>=2.13.0 in c:\\users\\alper\\miniconda3\\lib\\site-packages (from rich>=10.11.0->typer<1.0,>=0.12->gradio) (2.15.1)\n",
      "Requirement already satisfied: charset-normalizer<4,>=2 in c:\\users\\alper\\miniconda3\\lib\\site-packages (from requests->huggingface-hub>=0.28.1->gradio) (2.0.4)\n",
      "Requirement already satisfied: urllib3<3,>=1.21.1 in c:\\users\\alper\\miniconda3\\lib\\site-packages (from requests->huggingface-hub>=0.28.1->gradio) (2.1.0)\n",
      "Requirement already satisfied: mdurl~=0.1 in c:\\users\\alper\\miniconda3\\lib\\site-packages (from markdown-it-py>=2.2.0->rich>=10.11.0->typer<1.0,>=0.12->gradio) (0.1.0)\n",
      "Downloading albumentations-2.0.6-py3-none-any.whl (332 kB)\n",
      "   ---------------------------------------- 0.0/332.3 kB ? eta -:--:--\n",
      "   ------------- -------------------------- 112.6/332.3 kB 6.4 MB/s eta 0:00:01\n",
      "   ---------------------------------------- 332.3/332.3 kB 3.4 MB/s eta 0:00:00\n",
      "Downloading albucore-0.0.24-py3-none-any.whl (15 kB)\n",
      "Downloading more_itertools-10.7.0-py3-none-any.whl (65 kB)\n",
      "   ---------------------------------------- 0.0/65.3 kB ? eta -:--:--\n",
      "   ---------------------------------------- 65.3/65.3 kB 3.7 MB/s eta 0:00:00\n",
      "Downloading gradio-5.29.0-py3-none-any.whl (54.1 MB)\n",
      "   ---------------------------------------- 0.0/54.1 MB ? eta -:--:--\n",
      "   ---------------------------------------- 0.4/54.1 MB 12.6 MB/s eta 0:00:05\n",
      "    --------------------------------------- 0.9/54.1 MB 11.9 MB/s eta 0:00:05\n",
      "   - -------------------------------------- 1.6/54.1 MB 12.5 MB/s eta 0:00:05\n",
      "   - -------------------------------------- 2.6/54.1 MB 15.2 MB/s eta 0:00:04\n",
      "   -- ------------------------------------- 3.9/54.1 MB 19.2 MB/s eta 0:00:03\n",
      "   --- ------------------------------------ 5.2/54.1 MB 20.6 MB/s eta 0:00:03\n",
      "   --- ------------------------------------ 5.4/54.1 MB 21.6 MB/s eta 0:00:03\n",
      "   --- ------------------------------------ 5.4/54.1 MB 21.6 MB/s eta 0:00:03\n",
      "   ---- ----------------------------------- 5.8/54.1 MB 16.9 MB/s eta 0:00:03\n",
      "   ---- ----------------------------------- 6.4/54.1 MB 15.1 MB/s eta 0:00:04\n",
      "   ---- ----------------------------------- 6.4/54.1 MB 15.1 MB/s eta 0:00:04\n",
      "   ---- ----------------------------------- 6.7/54.1 MB 14.4 MB/s eta 0:00:04\n",
      "   ----- ---------------------------------- 7.1/54.1 MB 13.4 MB/s eta 0:00:04\n",
      "   ----- ---------------------------------- 7.5/54.1 MB 12.2 MB/s eta 0:00:04\n",
      "   ----- ---------------------------------- 7.5/54.1 MB 12.0 MB/s eta 0:00:04\n",
      "   ----- ---------------------------------- 7.8/54.1 MB 11.6 MB/s eta 0:00:04\n",
      "   ----- ---------------------------------- 7.9/54.1 MB 10.8 MB/s eta 0:00:05\n",
      "   ------ --------------------------------- 8.2/54.1 MB 11.1 MB/s eta 0:00:05\n",
      "   ------ --------------------------------- 8.5/54.1 MB 10.6 MB/s eta 0:00:05\n",
      "   ------ --------------------------------- 8.6/54.1 MB 10.2 MB/s eta 0:00:05\n",
      "   ------ --------------------------------- 8.8/54.1 MB 9.9 MB/s eta 0:00:05\n",
      "   ------ --------------------------------- 9.2/54.1 MB 9.8 MB/s eta 0:00:05\n",
      "   ------ --------------------------------- 9.2/54.1 MB 9.5 MB/s eta 0:00:05\n",
      "   ------- -------------------------------- 9.5/54.1 MB 9.5 MB/s eta 0:00:05\n",
      "   ------- -------------------------------- 10.0/54.1 MB 9.5 MB/s eta 0:00:05\n",
      "   ------- -------------------------------- 10.3/54.1 MB 9.8 MB/s eta 0:00:05\n",
      "   ------- -------------------------------- 10.3/54.1 MB 9.8 MB/s eta 0:00:05\n",
      "   -------- ------------------------------- 11.2/54.1 MB 9.6 MB/s eta 0:00:05\n",
      "   -------- ------------------------------- 11.2/54.1 MB 9.6 MB/s eta 0:00:05\n",
      "   -------- ------------------------------- 11.7/54.1 MB 9.4 MB/s eta 0:00:05\n",
      "   --------- ------------------------------ 12.2/54.1 MB 9.1 MB/s eta 0:00:05\n",
      "   --------- ------------------------------ 12.2/54.1 MB 9.1 MB/s eta 0:00:05\n",
      "   --------- ------------------------------ 12.8/54.1 MB 8.7 MB/s eta 0:00:05\n",
      "   --------- ------------------------------ 12.9/54.1 MB 8.4 MB/s eta 0:00:05\n",
      "   --------- ------------------------------ 13.4/54.1 MB 8.3 MB/s eta 0:00:05\n",
      "   --------- ------------------------------ 13.5/54.1 MB 8.1 MB/s eta 0:00:06\n",
      "   ---------- ----------------------------- 14.0/54.1 MB 7.8 MB/s eta 0:00:06\n",
      "   ---------- ----------------------------- 14.4/54.1 MB 7.7 MB/s eta 0:00:06\n",
      "   ---------- ----------------------------- 14.7/54.1 MB 7.5 MB/s eta 0:00:06\n",
      "   ----------- ---------------------------- 16.2/54.1 MB 8.3 MB/s eta 0:00:05\n",
      "   ------------ --------------------------- 17.5/54.1 MB 9.4 MB/s eta 0:00:04\n",
      "   ------------ --------------------------- 17.5/54.1 MB 9.4 MB/s eta 0:00:04\n",
      "   ------------ --------------------------- 17.5/54.1 MB 9.4 MB/s eta 0:00:04\n",
      "   ------------- -------------------------- 17.8/54.1 MB 8.7 MB/s eta 0:00:05\n",
      "   ---------------- ----------------------- 21.7/54.1 MB 15.6 MB/s eta 0:00:03\n",
      "   ---------------- ----------------------- 22.4/54.1 MB 16.4 MB/s eta 0:00:02\n",
      "   ----------------- ---------------------- 23.7/54.1 MB 20.5 MB/s eta 0:00:02\n",
      "   ------------------ --------------------- 24.7/54.1 MB 23.4 MB/s eta 0:00:02\n",
      "   ------------------- -------------------- 25.9/54.1 MB 25.2 MB/s eta 0:00:02\n",
      "   -------------------- ------------------- 27.1/54.1 MB 25.2 MB/s eta 0:00:02\n",
      "   -------------------- ------------------- 28.4/54.1 MB 34.4 MB/s eta 0:00:01\n",
      "   --------------------- ------------------ 29.7/54.1 MB 31.2 MB/s eta 0:00:01\n",
      "   ---------------------- ----------------- 31.1/54.1 MB 28.4 MB/s eta 0:00:01\n",
      "   ----------------------- ---------------- 32.4/54.1 MB 28.4 MB/s eta 0:00:01\n",
      "   ------------------------ --------------- 33.1/54.1 MB 27.3 MB/s eta 0:00:01\n",
      "   ------------------------- -------------- 34.4/54.1 MB 27.3 MB/s eta 0:00:01\n",
      "   -------------------------- ------------- 35.6/54.1 MB 27.3 MB/s eta 0:00:01\n",
      "   --------------------------- ------------ 37.1/54.1 MB 28.5 MB/s eta 0:00:01\n",
      "   ---------------------------- ----------- 38.5/54.1 MB 27.3 MB/s eta 0:00:01\n",
      "   ----------------------------- ---------- 39.3/54.1 MB 27.3 MB/s eta 0:00:01\n",
      "   ------------------------------ --------- 40.6/54.1 MB 27.3 MB/s eta 0:00:01\n",
      "   ------------------------------- -------- 42.0/54.1 MB 26.2 MB/s eta 0:00:01\n",
      "   ------------------------------- -------- 43.2/54.1 MB 27.3 MB/s eta 0:00:01\n",
      "   -------------------------------- ------- 44.4/54.1 MB 27.3 MB/s eta 0:00:01\n",
      "   --------------------------------- ------ 45.5/54.1 MB 26.2 MB/s eta 0:00:01\n",
      "   ---------------------------------- ----- 46.2/54.1 MB 25.2 MB/s eta 0:00:01\n",
      "   ----------------------------------- ---- 47.6/54.1 MB 26.2 MB/s eta 0:00:01\n",
      "   ------------------------------------ --- 48.7/54.1 MB 26.2 MB/s eta 0:00:01\n",
      "   ------------------------------------ --- 50.0/54.1 MB 25.2 MB/s eta 0:00:01\n",
      "   -------------------------------------- - 51.5/54.1 MB 26.2 MB/s eta 0:00:01\n",
      "   -------------------------------------- - 52.6/54.1 MB 26.2 MB/s eta 0:00:01\n",
      "   ---------------------------------------  53.7/54.1 MB 25.1 MB/s eta 0:00:01\n",
      "   ---------------------------------------  54.1/54.1 MB 25.2 MB/s eta 0:00:01\n",
      "   ---------------------------------------  54.1/54.1 MB 25.2 MB/s eta 0:00:01\n",
      "   ---------------------------------------  54.1/54.1 MB 25.2 MB/s eta 0:00:01\n",
      "   ---------------------------------------  54.1/54.1 MB 25.2 MB/s eta 0:00:01\n",
      "   ---------------------------------------  54.1/54.1 MB 25.2 MB/s eta 0:00:01\n",
      "   ---------------------------------------- 54.1/54.1 MB 16.4 MB/s eta 0:00:00\n",
      "Downloading gradio_client-1.10.0-py3-none-any.whl (322 kB)\n",
      "   ---------------------------------------- 0.0/322.9 kB ? eta -:--:--\n",
      "   --------------------------------------- 322.9/322.9 kB 20.8 MB/s eta 0:00:00\n",
      "Downloading aiofiles-24.1.0-py3-none-any.whl (15 kB)\n",
      "Downloading fastapi-0.115.12-py3-none-any.whl (95 kB)\n",
      "   ---------------------------------------- 0.0/95.2 kB ? eta -:--:--\n",
      "   ---------------------------------------- 95.2/95.2 kB ? eta 0:00:00\n",
      "Downloading groovy-0.1.2-py3-none-any.whl (14 kB)\n",
      "Downloading huggingface_hub-0.31.1-py3-none-any.whl (484 kB)\n",
      "   ---------------------------------------- 0.0/484.3 kB ? eta -:--:--\n",
      "   --------------------------------------- 484.3/484.3 kB 14.8 MB/s eta 0:00:00\n",
      "Downloading opencv_python_headless-4.11.0.86-cp37-abi3-win_amd64.whl (39.4 MB)\n",
      "   ---------------------------------------- 0.0/39.4 MB ? eta -:--:--\n",
      "    --------------------------------------- 1.0/39.4 MB 31.1 MB/s eta 0:00:02\n",
      "   - -------------------------------------- 1.8/39.4 MB 28.9 MB/s eta 0:00:02\n",
      "   -- ------------------------------------- 2.7/39.4 MB 24.9 MB/s eta 0:00:02\n",
      "   --- ------------------------------------ 3.7/39.4 MB 23.7 MB/s eta 0:00:02\n",
      "   ---- ----------------------------------- 4.7/39.4 MB 25.0 MB/s eta 0:00:02\n",
      "   ----- ---------------------------------- 5.2/39.4 MB 23.6 MB/s eta 0:00:02\n",
      "   ------ --------------------------------- 6.0/39.4 MB 22.6 MB/s eta 0:00:02\n",
      "   ------- -------------------------------- 7.0/39.4 MB 23.5 MB/s eta 0:00:02\n",
      "   ------- -------------------------------- 7.3/39.4 MB 23.3 MB/s eta 0:00:02\n",
      "   ------- -------------------------------- 7.7/39.4 MB 19.8 MB/s eta 0:00:02\n",
      "   --------- ------------------------------ 9.0/39.4 MB 20.5 MB/s eta 0:00:02\n",
      "   ---------- ----------------------------- 10.0/39.4 MB 21.3 MB/s eta 0:00:02\n",
      "   ---------- ----------------------------- 10.8/39.4 MB 21.1 MB/s eta 0:00:02\n",
      "   ---------- ----------------------------- 10.8/39.4 MB 21.1 MB/s eta 0:00:02\n",
      "   ----------- ---------------------------- 11.6/39.4 MB 18.7 MB/s eta 0:00:02\n",
      "   ------------ --------------------------- 12.6/39.4 MB 19.3 MB/s eta 0:00:02\n",
      "   ------------- -------------------------- 13.6/39.4 MB 19.2 MB/s eta 0:00:02\n",
      "   -------------- ------------------------- 14.0/39.4 MB 18.2 MB/s eta 0:00:02\n",
      "   --------------- ------------------------ 15.3/39.4 MB 18.7 MB/s eta 0:00:02\n",
      "   ---------------- ----------------------- 16.6/39.4 MB 19.8 MB/s eta 0:00:02\n",
      "   ----------------- ---------------------- 17.4/39.4 MB 19.8 MB/s eta 0:00:02\n",
      "   ------------------- -------------------- 18.9/39.4 MB 22.6 MB/s eta 0:00:01\n",
      "   -------------------- ------------------- 20.3/39.4 MB 22.6 MB/s eta 0:00:01\n",
      "   --------------------- ------------------ 21.6/39.4 MB 26.2 MB/s eta 0:00:01\n",
      "   ----------------------- ---------------- 22.9/39.4 MB 26.2 MB/s eta 0:00:01\n",
      "   ------------------------ --------------- 23.7/39.4 MB 25.2 MB/s eta 0:00:01\n",
      "   ------------------------- -------------- 25.1/39.4 MB 28.4 MB/s eta 0:00:01\n",
      "   -------------------------- ------------- 25.9/39.4 MB 28.4 MB/s eta 0:00:01\n",
      "   --------------------------- ------------ 27.2/39.4 MB 27.3 MB/s eta 0:00:01\n",
      "   ----------------------------- ---------- 28.6/39.4 MB 27.3 MB/s eta 0:00:01\n",
      "   ----------------------------- ---------- 29.4/39.4 MB 27.3 MB/s eta 0:00:01\n",
      "   ------------------------------ --------- 30.2/39.4 MB 27.3 MB/s eta 0:00:01\n",
      "   ------------------------------- -------- 30.9/39.4 MB 25.1 MB/s eta 0:00:01\n",
      "   -------------------------------- ------- 32.0/39.4 MB 25.2 MB/s eta 0:00:01\n",
      "   --------------------------------- ------ 33.2/39.4 MB 25.1 MB/s eta 0:00:01\n",
      "   ---------------------------------- ----- 34.2/39.4 MB 26.2 MB/s eta 0:00:01\n",
      "   ----------------------------------- ---- 35.1/39.4 MB 25.2 MB/s eta 0:00:01\n",
      "   ------------------------------------ --- 36.3/39.4 MB 27.3 MB/s eta 0:00:01\n",
      "   -------------------------------------- - 37.5/39.4 MB 26.2 MB/s eta 0:00:01\n",
      "   ---------------------------------------  38.5/39.4 MB 27.3 MB/s eta 0:00:01\n",
      "   ---------------------------------------  39.4/39.4 MB 26.2 MB/s eta 0:00:01\n",
      "   ---------------------------------------  39.4/39.4 MB 26.2 MB/s eta 0:00:01\n",
      "   ---------------------------------------  39.4/39.4 MB 26.2 MB/s eta 0:00:01\n",
      "   ---------------------------------------  39.4/39.4 MB 26.2 MB/s eta 0:00:01\n",
      "   ---------------------------------------  39.4/39.4 MB 26.2 MB/s eta 0:00:01\n",
      "   ---------------------------------------- 39.4/39.4 MB 17.7 MB/s eta 0:00:00\n",
      "Downloading orjson-3.10.18-cp312-cp312-win_amd64.whl (134 kB)\n",
      "   ---------------------------------------- 0.0/134.8 kB ? eta -:--:--\n",
      "   ---------------------------------------- 134.8/134.8 kB 7.8 MB/s eta 0:00:00\n",
      "Downloading python_multipart-0.0.20-py3-none-any.whl (24 kB)\n",
      "Downloading ruff-0.11.9-py3-none-win_amd64.whl (11.6 MB)\n",
      "   ---------------------------------------- 0.0/11.6 MB ? eta -:--:--\n",
      "   ---- ----------------------------------- 1.4/11.6 MB 43.3 MB/s eta 0:00:01\n",
      "   --------- ------------------------------ 2.6/11.6 MB 33.7 MB/s eta 0:00:01\n",
      "   ------------- -------------------------- 3.9/11.6 MB 31.4 MB/s eta 0:00:01\n",
      "   ------------------- -------------------- 5.6/11.6 MB 32.3 MB/s eta 0:00:01\n",
      "   --------------------- ------------------ 6.3/11.6 MB 28.9 MB/s eta 0:00:01\n",
      "   ----------------------- ---------------- 6.8/11.6 MB 27.1 MB/s eta 0:00:01\n",
      "   ------------------------ --------------- 7.3/11.6 MB 24.4 MB/s eta 0:00:01\n",
      "   -------------------------- ------------- 7.7/11.6 MB 22.5 MB/s eta 0:00:01\n",
      "   ---------------------------- ----------- 8.3/11.6 MB 21.3 MB/s eta 0:00:01\n",
      "   ------------------------------ --------- 8.8/11.6 MB 20.9 MB/s eta 0:00:01\n",
      "   -------------------------------- ------- 9.4/11.6 MB 19.5 MB/s eta 0:00:01\n",
      "   ---------------------------------- ----- 9.9/11.6 MB 19.2 MB/s eta 0:00:01\n",
      "   ----------------------------------- ---- 10.5/11.6 MB 17.7 MB/s eta 0:00:01\n",
      "   ------------------------------------- -- 11.0/11.6 MB 16.8 MB/s eta 0:00:01\n",
      "   ---------------------------------------  11.6/11.6 MB 16.0 MB/s eta 0:00:01\n",
      "   ---------------------------------------  11.6/11.6 MB 16.4 MB/s eta 0:00:01\n",
      "   ---------------------------------------- 11.6/11.6 MB 15.2 MB/s eta 0:00:00\n",
      "Downloading safehttpx-0.1.6-py3-none-any.whl (8.7 kB)\n",
      "Using cached semantic_version-2.10.0-py2.py3-none-any.whl (15 kB)\n",
      "Downloading starlette-0.46.2-py3-none-any.whl (72 kB)\n",
      "   ---------------------------------------- 0.0/72.0 kB ? eta -:--:--\n",
      "   ---------------------------------------- 72.0/72.0 kB 3.9 MB/s eta 0:00:00\n",
      "Downloading tomlkit-0.13.2-py3-none-any.whl (37 kB)\n",
      "Downloading typer-0.15.3-py3-none-any.whl (45 kB)\n",
      "   ---------------------------------------- 0.0/45.3 kB ? eta -:--:--\n",
      "   ---------------------------------------- 45.3/45.3 kB ? eta 0:00:00\n",
      "Downloading uvicorn-0.34.2-py3-none-any.whl (62 kB)\n",
      "   ---------------------------------------- 0.0/62.5 kB ? eta -:--:--\n",
      "   ---------------------------------------- 62.5/62.5 kB 3.5 MB/s eta 0:00:00\n",
      "Downloading ffmpy-0.5.0-py3-none-any.whl (6.0 kB)\n",
      "Downloading pydub-0.25.1-py2.py3-none-any.whl (32 kB)\n",
      "Downloading shellingham-1.5.4-py2.py3-none-any.whl (9.8 kB)\n",
      "Downloading simsimd-6.2.1-cp312-cp312-win_amd64.whl (87 kB)\n",
      "   ---------------------------------------- 0.0/87.1 kB ? eta -:--:--\n",
      "   ---------------------------------------- 87.1/87.1 kB 5.1 MB/s eta 0:00:00\n",
      "Downloading stringzilla-3.12.5-cp312-cp312-win_amd64.whl (80 kB)\n",
      "   ---------------------------------------- 0.0/80.1 kB ? eta -:--:--\n",
      "   ---------------------------------------- 80.1/80.1 kB 4.7 MB/s eta 0:00:00\n",
      "Downloading websockets-15.0.1-cp312-cp312-win_amd64.whl (176 kB)\n",
      "   ---------------------------------------- 0.0/176.8 kB ? eta -:--:--\n",
      "   --------------------------------------- 176.8/176.8 kB 10.4 MB/s eta 0:00:00\n",
      "Installing collected packages: stringzilla, simsimd, pydub, websockets, tomlkit, shellingham, semantic-version, ruff, python-multipart, orjson, opencv-python-headless, more-itertools, groovy, ffmpy, aiofiles, uvicorn, starlette, huggingface-hub, albucore, typer, safehttpx, gradio-client, fastapi, albumentations, gradio\n"
     ]
    },
    {
     "name": "stderr",
     "output_type": "stream",
     "text": [
      "ERROR: Could not install packages due to an OSError: [WinError 5] Erişim engellendi: 'C:\\\\Users\\\\alper\\\\miniconda3\\\\Lib\\\\site-packages\\\\cv2\\\\cv2.pyd'\n",
      "Consider using the `--user` option or check the permissions.\n",
      "\n"
     ]
    }
   ],
   "execution_count": 2
  },
  {
   "metadata": {
    "ExecuteTime": {
     "end_time": "2025-05-12T13:22:27.449396Z",
     "start_time": "2025-05-12T13:22:07.941983Z"
    }
   },
   "cell_type": "code",
   "source": "!pip install --user albumentations more-itertools gradio\n",
   "id": "8a7e2d1864e14621",
   "outputs": [
    {
     "name": "stdout",
     "output_type": "stream",
     "text": [
      "Collecting albumentations\n",
      "  Using cached albumentations-2.0.6-py3-none-any.whl.metadata (43 kB)\n",
      "Collecting more-itertools\n",
      "  Using cached more_itertools-10.7.0-py3-none-any.whl.metadata (37 kB)\n",
      "Collecting gradio\n",
      "  Using cached gradio-5.29.0-py3-none-any.whl.metadata (16 kB)\n",
      "Requirement already satisfied: numpy>=1.24.4 in c:\\users\\alper\\miniconda3\\lib\\site-packages (from albumentations) (1.26.4)\n",
      "Requirement already satisfied: scipy>=1.10.0 in c:\\users\\alper\\miniconda3\\lib\\site-packages (from albumentations) (1.14.1)\n",
      "Requirement already satisfied: PyYAML in c:\\users\\alper\\miniconda3\\lib\\site-packages (from albumentations) (6.0.1)\n",
      "Requirement already satisfied: pydantic>=2.9.2 in c:\\users\\alper\\miniconda3\\lib\\site-packages (from albumentations) (2.10.4)\n",
      "Collecting albucore==0.0.24 (from albumentations)\n",
      "  Using cached albucore-0.0.24-py3-none-any.whl.metadata (5.3 kB)\n",
      "Collecting opencv-python-headless>=4.9.0.80 (from albumentations)\n",
      "  Using cached opencv_python_headless-4.11.0.86-cp37-abi3-win_amd64.whl.metadata (20 kB)\n",
      "Requirement already satisfied: stringzilla>=3.10.4 in c:\\users\\alper\\miniconda3\\lib\\site-packages (from albucore==0.0.24->albumentations) (3.12.5)\n",
      "Requirement already satisfied: simsimd>=5.9.2 in c:\\users\\alper\\miniconda3\\lib\\site-packages (from albucore==0.0.24->albumentations) (6.2.1)\n",
      "Collecting aiofiles<25.0,>=22.0 (from gradio)\n",
      "  Using cached aiofiles-24.1.0-py3-none-any.whl.metadata (10 kB)\n",
      "Requirement already satisfied: anyio<5.0,>=3.0 in c:\\users\\alper\\miniconda3\\lib\\site-packages (from gradio) (4.2.0)\n",
      "Collecting fastapi<1.0,>=0.115.2 (from gradio)\n",
      "  Using cached fastapi-0.115.12-py3-none-any.whl.metadata (27 kB)\n",
      "Collecting ffmpy (from gradio)\n",
      "  Using cached ffmpy-0.5.0-py3-none-any.whl.metadata (3.0 kB)\n",
      "Collecting gradio-client==1.10.0 (from gradio)\n",
      "  Using cached gradio_client-1.10.0-py3-none-any.whl.metadata (7.1 kB)\n",
      "Collecting groovy~=0.1 (from gradio)\n",
      "  Using cached groovy-0.1.2-py3-none-any.whl.metadata (6.1 kB)\n",
      "Requirement already satisfied: httpx>=0.24.1 in c:\\users\\alper\\miniconda3\\lib\\site-packages (from gradio) (0.27.0)\n",
      "Collecting huggingface-hub>=0.28.1 (from gradio)\n",
      "  Using cached huggingface_hub-0.31.1-py3-none-any.whl.metadata (13 kB)\n",
      "Requirement already satisfied: jinja2<4.0 in c:\\users\\alper\\miniconda3\\lib\\site-packages (from gradio) (3.1.4)\n",
      "Requirement already satisfied: markupsafe<4.0,>=2.0 in c:\\users\\alper\\miniconda3\\lib\\site-packages (from gradio) (2.1.3)\n",
      "Requirement already satisfied: orjson~=3.0 in c:\\users\\alper\\miniconda3\\lib\\site-packages (from gradio) (3.10.18)\n",
      "Requirement already satisfied: packaging in c:\\users\\alper\\miniconda3\\lib\\site-packages (from gradio) (24.2)\n",
      "Requirement already satisfied: pandas<3.0,>=1.0 in c:\\users\\alper\\miniconda3\\lib\\site-packages (from gradio) (2.2.3)\n",
      "Requirement already satisfied: pillow<12.0,>=8.0 in c:\\users\\alper\\miniconda3\\lib\\site-packages (from gradio) (11.0.0)\n",
      "Requirement already satisfied: pydub in c:\\users\\alper\\miniconda3\\lib\\site-packages (from gradio) (0.25.1)\n",
      "Requirement already satisfied: python-multipart>=0.0.18 in c:\\users\\alper\\miniconda3\\lib\\site-packages (from gradio) (0.0.20)\n",
      "Requirement already satisfied: ruff>=0.9.3 in c:\\users\\alper\\miniconda3\\lib\\site-packages (from gradio) (0.11.9)\n",
      "Collecting safehttpx<0.2.0,>=0.1.6 (from gradio)\n",
      "  Using cached safehttpx-0.1.6-py3-none-any.whl.metadata (4.2 kB)\n",
      "Requirement already satisfied: semantic-version~=2.0 in c:\\users\\alper\\miniconda3\\lib\\site-packages (from gradio) (2.10.0)\n",
      "Collecting starlette<1.0,>=0.40.0 (from gradio)\n",
      "  Using cached starlette-0.46.2-py3-none-any.whl.metadata (6.2 kB)\n",
      "Requirement already satisfied: tomlkit<0.14.0,>=0.12.0 in c:\\users\\alper\\miniconda3\\lib\\site-packages (from gradio) (0.13.2)\n",
      "Collecting typer<1.0,>=0.12 (from gradio)\n",
      "  Using cached typer-0.15.3-py3-none-any.whl.metadata (15 kB)\n",
      "Requirement already satisfied: typing-extensions~=4.0 in c:\\users\\alper\\miniconda3\\lib\\site-packages (from gradio) (4.12.2)\n",
      "Collecting uvicorn>=0.14.0 (from gradio)\n",
      "  Using cached uvicorn-0.34.2-py3-none-any.whl.metadata (6.5 kB)\n",
      "Requirement already satisfied: fsspec in c:\\users\\alper\\miniconda3\\lib\\site-packages (from gradio-client==1.10.0->gradio) (2024.10.0)\n",
      "Requirement already satisfied: websockets<16.0,>=10.0 in c:\\users\\alper\\miniconda3\\lib\\site-packages (from gradio-client==1.10.0->gradio) (15.0.1)\n",
      "Requirement already satisfied: idna>=2.8 in c:\\users\\alper\\miniconda3\\lib\\site-packages (from anyio<5.0,>=3.0->gradio) (3.4)\n",
      "Requirement already satisfied: sniffio>=1.1 in c:\\users\\alper\\miniconda3\\lib\\site-packages (from anyio<5.0,>=3.0->gradio) (1.3.0)\n",
      "Requirement already satisfied: certifi in c:\\users\\alper\\miniconda3\\lib\\site-packages (from httpx>=0.24.1->gradio) (2025.4.26)\n",
      "Requirement already satisfied: httpcore==1.* in c:\\users\\alper\\miniconda3\\lib\\site-packages (from httpx>=0.24.1->gradio) (1.0.2)\n",
      "Requirement already satisfied: h11<0.15,>=0.13 in c:\\users\\alper\\miniconda3\\lib\\site-packages (from httpcore==1.*->httpx>=0.24.1->gradio) (0.14.0)\n",
      "Requirement already satisfied: filelock in c:\\users\\alper\\miniconda3\\lib\\site-packages (from huggingface-hub>=0.28.1->gradio) (3.13.1)\n",
      "Requirement already satisfied: requests in c:\\users\\alper\\miniconda3\\lib\\site-packages (from huggingface-hub>=0.28.1->gradio) (2.31.0)\n",
      "Requirement already satisfied: tqdm>=4.42.1 in c:\\users\\alper\\miniconda3\\lib\\site-packages (from huggingface-hub>=0.28.1->gradio) (4.65.0)\n",
      "Requirement already satisfied: python-dateutil>=2.8.2 in c:\\users\\alper\\miniconda3\\lib\\site-packages (from pandas<3.0,>=1.0->gradio) (2.9.0.post0)\n",
      "Requirement already satisfied: pytz>=2020.1 in c:\\users\\alper\\miniconda3\\lib\\site-packages (from pandas<3.0,>=1.0->gradio) (2024.1)\n",
      "Requirement already satisfied: tzdata>=2022.7 in c:\\users\\alper\\miniconda3\\lib\\site-packages (from pandas<3.0,>=1.0->gradio) (2023.3)\n",
      "Requirement already satisfied: annotated-types>=0.6.0 in c:\\users\\alper\\miniconda3\\lib\\site-packages (from pydantic>=2.9.2->albumentations) (0.7.0)\n",
      "Requirement already satisfied: pydantic-core==2.27.2 in c:\\users\\alper\\miniconda3\\lib\\site-packages (from pydantic>=2.9.2->albumentations) (2.27.2)\n",
      "Requirement already satisfied: click>=8.0.0 in c:\\users\\alper\\miniconda3\\lib\\site-packages (from typer<1.0,>=0.12->gradio) (8.1.7)\n",
      "Requirement already satisfied: shellingham>=1.3.0 in c:\\users\\alper\\miniconda3\\lib\\site-packages (from typer<1.0,>=0.12->gradio) (1.5.4)\n",
      "Requirement already satisfied: rich>=10.11.0 in c:\\users\\alper\\miniconda3\\lib\\site-packages (from typer<1.0,>=0.12->gradio) (13.8.0)\n",
      "Requirement already satisfied: colorama in c:\\users\\alper\\miniconda3\\lib\\site-packages (from click>=8.0.0->typer<1.0,>=0.12->gradio) (0.4.6)\n",
      "Requirement already satisfied: six>=1.5 in c:\\users\\alper\\miniconda3\\lib\\site-packages (from python-dateutil>=2.8.2->pandas<3.0,>=1.0->gradio) (1.16.0)\n",
      "Requirement already satisfied: markdown-it-py>=2.2.0 in c:\\users\\alper\\miniconda3\\lib\\site-packages (from rich>=10.11.0->typer<1.0,>=0.12->gradio) (2.2.0)\n",
      "Requirement already satisfied: pygments<3.0.0,>=2.13.0 in c:\\users\\alper\\miniconda3\\lib\\site-packages (from rich>=10.11.0->typer<1.0,>=0.12->gradio) (2.15.1)\n",
      "Requirement already satisfied: charset-normalizer<4,>=2 in c:\\users\\alper\\miniconda3\\lib\\site-packages (from requests->huggingface-hub>=0.28.1->gradio) (2.0.4)\n",
      "Requirement already satisfied: urllib3<3,>=1.21.1 in c:\\users\\alper\\miniconda3\\lib\\site-packages (from requests->huggingface-hub>=0.28.1->gradio) (2.1.0)\n",
      "Requirement already satisfied: mdurl~=0.1 in c:\\users\\alper\\miniconda3\\lib\\site-packages (from markdown-it-py>=2.2.0->rich>=10.11.0->typer<1.0,>=0.12->gradio) (0.1.0)\n",
      "Using cached albumentations-2.0.6-py3-none-any.whl (332 kB)\n",
      "Using cached albucore-0.0.24-py3-none-any.whl (15 kB)\n",
      "Using cached more_itertools-10.7.0-py3-none-any.whl (65 kB)\n",
      "Using cached gradio-5.29.0-py3-none-any.whl (54.1 MB)\n",
      "Using cached gradio_client-1.10.0-py3-none-any.whl (322 kB)\n",
      "Using cached aiofiles-24.1.0-py3-none-any.whl (15 kB)\n",
      "Using cached fastapi-0.115.12-py3-none-any.whl (95 kB)\n",
      "Using cached groovy-0.1.2-py3-none-any.whl (14 kB)\n",
      "Using cached huggingface_hub-0.31.1-py3-none-any.whl (484 kB)\n",
      "Using cached opencv_python_headless-4.11.0.86-cp37-abi3-win_amd64.whl (39.4 MB)\n",
      "Using cached safehttpx-0.1.6-py3-none-any.whl (8.7 kB)\n",
      "Using cached starlette-0.46.2-py3-none-any.whl (72 kB)\n",
      "Using cached typer-0.15.3-py3-none-any.whl (45 kB)\n",
      "Using cached uvicorn-0.34.2-py3-none-any.whl (62 kB)\n",
      "Using cached ffmpy-0.5.0-py3-none-any.whl (6.0 kB)\n",
      "Installing collected packages: opencv-python-headless, more-itertools, groovy, ffmpy, aiofiles, uvicorn, starlette, huggingface-hub, albucore, typer, safehttpx, gradio-client, fastapi, albumentations, gradio\n",
      "Successfully installed aiofiles-24.1.0 albucore-0.0.24 albumentations-2.0.6 fastapi-0.115.12 ffmpy-0.5.0 gradio-5.29.0 gradio-client-1.10.0 groovy-0.1.2 huggingface-hub-0.31.1 more-itertools-10.7.0 opencv-python-headless-4.11.0.86 safehttpx-0.1.6 starlette-0.46.2 typer-0.15.3 uvicorn-0.34.2\n"
     ]
    },
    {
     "name": "stderr",
     "output_type": "stream",
     "text": [
      "  WARNING: The script uvicorn.exe is installed in 'C:\\Users\\alper\\AppData\\Roaming\\Python\\Python312\\Scripts' which is not on PATH.\n",
      "  Consider adding this directory to PATH or, if you prefer to suppress this warning, use --no-warn-script-location.\n",
      "  WARNING: The script huggingface-cli.exe is installed in 'C:\\Users\\alper\\AppData\\Roaming\\Python\\Python312\\Scripts' which is not on PATH.\n",
      "  Consider adding this directory to PATH or, if you prefer to suppress this warning, use --no-warn-script-location.\n",
      "  WARNING: The script typer.exe is installed in 'C:\\Users\\alper\\AppData\\Roaming\\Python\\Python312\\Scripts' which is not on PATH.\n",
      "  Consider adding this directory to PATH or, if you prefer to suppress this warning, use --no-warn-script-location.\n",
      "  WARNING: The script fastapi.exe is installed in 'C:\\Users\\alper\\AppData\\Roaming\\Python\\Python312\\Scripts' which is not on PATH.\n",
      "  Consider adding this directory to PATH or, if you prefer to suppress this warning, use --no-warn-script-location.\n",
      "  WARNING: The scripts gradio.exe and upload_theme.exe are installed in 'C:\\Users\\alper\\AppData\\Roaming\\Python\\Python312\\Scripts' which is not on PATH.\n",
      "  Consider adding this directory to PATH or, if you prefer to suppress this warning, use --no-warn-script-location.\n"
     ]
    }
   ],
   "execution_count": 3
  },
  {
   "metadata": {
    "ExecuteTime": {
     "end_time": "2025-05-27T14:10:44.073422Z",
     "start_time": "2025-05-27T14:10:44.068412Z"
    }
   },
   "cell_type": "code",
   "source": [
    "from glob import glob\n",
    "dataset_path = \"data\"\n",
    "inputs = sorted(glob(os.path.join(dataset_path, \"*.jpg\")))"
   ],
   "id": "71ad74ec1024e5bc",
   "outputs": [],
   "execution_count": 2
  },
  {
   "metadata": {
    "ExecuteTime": {
     "end_time": "2025-05-27T14:10:45.175700Z",
     "start_time": "2025-05-27T14:10:45.163385Z"
    }
   },
   "cell_type": "code",
   "source": "print(inputs)",
   "id": "babc1706da056c0f",
   "outputs": [
    {
     "name": "stdout",
     "output_type": "stream",
     "text": [
      "['data\\\\1.jpg', 'data\\\\10.jpg', 'data\\\\11.jpg', 'data\\\\12.jpg', 'data\\\\13.jpg', 'data\\\\14.jpg', 'data\\\\15.jpg', 'data\\\\16.jpg', 'data\\\\17.jpg', 'data\\\\18.jpg', 'data\\\\19.jpg', 'data\\\\2.jpg', 'data\\\\20.jpg', 'data\\\\21.jpg', 'data\\\\22.jpg', 'data\\\\23.jpg', 'data\\\\24.jpg', 'data\\\\25.jpg', 'data\\\\26.jpg', 'data\\\\27.jpg', 'data\\\\28.jpg', 'data\\\\29.jpg', 'data\\\\3.jpg', 'data\\\\30.jpg', 'data\\\\31.jpg', 'data\\\\32.jpg', 'data\\\\33.jpg', 'data\\\\34.jpg', 'data\\\\35.jpg', 'data\\\\36.jpg', 'data\\\\37.jpg', 'data\\\\38.jpg', 'data\\\\39.jpg', 'data\\\\4.jpg', 'data\\\\40.jpg', 'data\\\\5.jpg', 'data\\\\6.jpg', 'data\\\\7.jpg', 'data\\\\8.jpg', 'data\\\\9.jpg']\n"
     ]
    }
   ],
   "execution_count": 3
  },
  {
   "metadata": {
    "ExecuteTime": {
     "end_time": "2025-05-27T14:10:47.512960Z",
     "start_time": "2025-05-27T14:10:47.508516Z"
    }
   },
   "cell_type": "code",
   "source": "print(\"Current path:\", os.getcwd())",
   "id": "1ad2094e864d4ed6",
   "outputs": [
    {
     "name": "stdout",
     "output_type": "stream",
     "text": [
      "Current path: C:\\Users\\alper\\PycharmProjects\\PhotographyProject\n"
     ]
    }
   ],
   "execution_count": 4
  },
  {
   "metadata": {
    "ExecuteTime": {
     "end_time": "2025-05-27T14:10:48.994711Z",
     "start_time": "2025-05-27T14:10:48.886704Z"
    }
   },
   "cell_type": "code",
   "source": [
    "!git clone https://github.com/vinesmsuic/White-box-Cartoonization-PyTorch.git\n",
    "%cd White-box-Cartoonization-PyTorch\n"
   ],
   "id": "e5cf2637ee66bf0e",
   "outputs": [
    {
     "name": "stdout",
     "output_type": "stream",
     "text": [
      "C:\\Users\\alper\\PycharmProjects\\PhotographyProject\\White-box-Cartoonization-PyTorch\n"
     ]
    },
    {
     "name": "stderr",
     "output_type": "stream",
     "text": [
      "fatal: destination path 'White-box-Cartoonization-PyTorch' already exists and is not an empty directory.\n",
      "C:\\Users\\alper\\miniconda3\\Lib\\site-packages\\IPython\\core\\magics\\osm.py:417: UserWarning: This is now an optional IPython functionality, setting dhist requires you to install the `pickleshare` library.\n",
      "  self.shell.db['dhist'] = compress_dhist(dhist)[-100:]\n"
     ]
    }
   ],
   "execution_count": 5
  },
  {
   "metadata": {
    "ExecuteTime": {
     "end_time": "2025-05-27T13:36:13.124480Z",
     "start_time": "2025-05-27T13:36:13.107922Z"
    }
   },
   "cell_type": "code",
   "source": [
    "print(os.path.exists(\"weights/sceneryonly.pth.tar\"))\n",
    "\n"
   ],
   "id": "ba3cdd7d2df61240",
   "outputs": [
    {
     "name": "stdout",
     "output_type": "stream",
     "text": [
      "True\n"
     ]
    }
   ],
   "execution_count": 6
  },
  {
   "metadata": {
    "ExecuteTime": {
     "end_time": "2025-05-27T13:36:16.454011Z",
     "start_time": "2025-05-27T13:36:16.446630Z"
    }
   },
   "cell_type": "code",
   "source": "print(\"Current path:\", os.getcwd())",
   "id": "944af8856e9698b1",
   "outputs": [
    {
     "name": "stdout",
     "output_type": "stream",
     "text": [
      "Current path: C:\\Users\\alper\\PycharmProjects\\PhotographyProject\\White-box-Cartoonization-PyTorch\n"
     ]
    }
   ],
   "execution_count": 7
  },
  {
   "metadata": {
    "ExecuteTime": {
     "end_time": "2025-05-27T14:10:52.750766Z",
     "start_time": "2025-05-27T14:10:52.745492Z"
    }
   },
   "cell_type": "code",
   "source": [
    "os.chdir(\"..\")\n",
    "print(\"Current path:\", os.getcwd())"
   ],
   "id": "61cf82851f633069",
   "outputs": [
    {
     "name": "stdout",
     "output_type": "stream",
     "text": [
      "Current path: C:\\Users\\alper\\PycharmProjects\\PhotographyProject\n"
     ]
    }
   ],
   "execution_count": 6
  },
  {
   "metadata": {
    "ExecuteTime": {
     "end_time": "2025-05-27T14:10:55.955662Z",
     "start_time": "2025-05-27T14:10:55.091823Z"
    }
   },
   "cell_type": "code",
   "source": [
    "from skimage.metrics import peak_signal_noise_ratio as psnr\n",
    "from skimage.metrics import structural_similarity as ssim\n",
    "from skimage.io import imread"
   ],
   "id": "fb74881c5de26eb3",
   "outputs": [],
   "execution_count": 7
  },
  {
   "metadata": {
    "ExecuteTime": {
     "end_time": "2025-05-27T14:10:57.223868Z",
     "start_time": "2025-05-27T14:10:56.901855Z"
    }
   },
   "cell_type": "code",
   "source": [
    "import gdown\n",
    "import os"
   ],
   "id": "cc19c380176a259a",
   "outputs": [],
   "execution_count": 8
  },
  {
   "metadata": {},
   "cell_type": "code",
   "outputs": [],
   "execution_count": null,
   "source": "##Animegan",
   "id": "f6de97356990d67a"
  },
  {
   "metadata": {
    "ExecuteTime": {
     "end_time": "2025-05-27T14:10:59.232927Z",
     "start_time": "2025-05-27T14:10:59.142746Z"
    }
   },
   "cell_type": "code",
   "source": [
    "!git clone https://github.com/bryandlee/animegan2-pytorch.git\n",
    "%cd animegan2-pytorch\n"
   ],
   "id": "24f570ae4c40ca1f",
   "outputs": [
    {
     "name": "stdout",
     "output_type": "stream",
     "text": [
      "C:\\Users\\alper\\PycharmProjects\\PhotographyProject\\animegan2-pytorch\n"
     ]
    },
    {
     "name": "stderr",
     "output_type": "stream",
     "text": [
      "fatal: destination path 'animegan2-pytorch' already exists and is not an empty directory.\n",
      "C:\\Users\\alper\\miniconda3\\Lib\\site-packages\\IPython\\core\\magics\\osm.py:417: UserWarning: This is now an optional IPython functionality, setting dhist requires you to install the `pickleshare` library.\n",
      "  self.shell.db['dhist'] = compress_dhist(dhist)[-100:]\n"
     ]
    }
   ],
   "execution_count": 9
  },
  {
   "metadata": {
    "ExecuteTime": {
     "end_time": "2025-05-27T14:11:01.704125Z",
     "start_time": "2025-05-27T14:11:01.693465Z"
    }
   },
   "cell_type": "code",
   "source": [
    "os.chdir(\"..\")\n",
    "print(\"Current path:\", os.getcwd())"
   ],
   "id": "c58a9e6f85e6cafb",
   "outputs": [
    {
     "name": "stdout",
     "output_type": "stream",
     "text": [
      "Current path: C:\\Users\\alper\\PycharmProjects\\PhotographyProject\n"
     ]
    }
   ],
   "execution_count": 10
  },
  {
   "metadata": {
    "ExecuteTime": {
     "end_time": "2025-05-27T14:11:03.369396Z",
     "start_time": "2025-05-27T14:11:03.352667Z"
    }
   },
   "cell_type": "code",
   "source": [
    "animegan_path = \"animegan2-pytorch\"\n",
    "whitebox_path = \"White-box-Cartoonization-PyTorch\"\n"
   ],
   "id": "2f36f3e17010205b",
   "outputs": [],
   "execution_count": 11
  },
  {
   "metadata": {
    "ExecuteTime": {
     "end_time": "2025-05-27T14:11:05.909044Z",
     "start_time": "2025-05-27T14:11:05.821221Z"
    }
   },
   "cell_type": "code",
   "source": [
    "import torch\n",
    "from PIL import Image\n",
    "import matplotlib.pyplot as plt\n",
    "anime_model=torch.hub.load(\"bryandlee/animegan2-pytorch:main\", \"generator\", pretrained=\"paprika\").eval()\n",
    "face2paint = torch.hub.load(\"bryandlee/animegan2-pytorch:main\", \"face2paint\", size=512)"
   ],
   "id": "3ed86c1453544204",
   "outputs": [
    {
     "name": "stderr",
     "output_type": "stream",
     "text": [
      "Using cache found in C:\\Users\\alper/.cache\\torch\\hub\\bryandlee_animegan2-pytorch_main\n",
      "Using cache found in C:\\Users\\alper/.cache\\torch\\hub\\bryandlee_animegan2-pytorch_main\n"
     ]
    }
   ],
   "execution_count": 12
  },
  {
   "metadata": {
    "ExecuteTime": {
     "end_time": "2025-05-27T14:16:17.891114Z",
     "start_time": "2025-05-27T14:11:09.418372Z"
    }
   },
   "cell_type": "code",
   "source": [
    "import time\n",
    "\n",
    "import warnings\n",
    "warnings.filterwarnings('ignore')\n",
    "warnings.filterwarnings(\"ignore\", category=FutureWarning)\n",
    "warnings.filterwarnings(\"ignore\", category=UserWarning, module=\"albumentations\")\n",
    "results=[]\n",
    "os.makedirs(\"whitebox_output\", exist_ok=True)\n",
    "os.makedirs(\"animegan_output\", exist_ok=True)\n",
    "def safe_imread(path):\n",
    "    img = imread(path)\n",
    "    if img.shape[-1] == 4:\n",
    "        img = img[:, :, :3]\n",
    "    return img\n",
    "def edge_density(image):\n",
    "    gray = cv2.cvtColor(image, cv2.COLOR_RGB2GRAY)\n",
    "    edges = cv2.Canny(gray, 100, 200)\n",
    "    return np.mean(edges > 0)\n",
    "def show_results(original, whitebox, animegan, psnr_w, ssim_w, psnr_a, ssim_a, title):\n",
    "    fig, axes = plt.subplots(1, 3, figsize=(24, 12))\n",
    "    for ax, img, label in zip(axes, [original, whitebox, animegan], [\"Original\", \"White-box\", \"AnimeGAN\"]):\n",
    "        ax.imshow(img)\n",
    "        ax.set_title(label)\n",
    "        ax.axis('off')\n",
    "    plt.suptitle(f\"{title}\\n\"\n",
    "                 f\"White-box → PSNR: {psnr_w:.2f}, SSIM: {ssim_w:.3f} | \"\n",
    "                 f\"AnimeGAN → PSNR: {psnr_a:.2f}, SSIM: {ssim_a:.3f}\",\n",
    "                 fontsize=14, y=0.95)\n",
    "    plt.tight_layout()\n",
    "    plt.show()\n",
    "\n",
    "for img_path in inputs:\n",
    "    filename = os.path.splitext(os.path.basename(img_path))[0]\n",
    "\n",
    "    start_w = time.time()\n",
    "    !python White-box-Cartoonization-PyTorch/inference.py -s {img_path} -w White-box-Cartoonization-PyTorch/weights/sceneryonly.pth.tar --dest_folder whitebox_output --suffix cartoon\n",
    "    end_w = time.time()\n",
    "\n",
    "    start_a = time.time()\n",
    "    img = Image.open(img_path).convert(\"RGB\")\n",
    "    output = face2paint(anime_model, img)\n",
    "    anime_out_path = f\"animegan_output/{filename}_cartoon.jpg\"\n",
    "    output.save(anime_out_path)\n",
    "    end_a = time.time()\n",
    "\n",
    "    original = safe_imread(img_path)\n",
    "    whitebox_out_path = os.path.splitext(img_path)[0] + \".jpgcartoon.png\"  # aynı klasörde oluşuyor\n",
    "    whitebox = imread(whitebox_out_path)\n",
    "    animegan = imread(anime_out_path)\n",
    "\n",
    "    target_size = (original.shape[1], original.shape[0])  # (width, height)\n",
    "    if whitebox.shape[:2] != original.shape[:2]:\n",
    "        whitebox = cv2.resize(whitebox, target_size, interpolation=cv2.INTER_AREA)\n",
    "    if animegan.shape[:2] != original.shape[:2]:\n",
    "        animegan = cv2.resize(animegan, target_size, interpolation=cv2.INTER_AREA)\n",
    "\n",
    "    psnr_w = psnr(original, whitebox, data_range=255)\n",
    "    ssim_w = ssim(original, whitebox, channel_axis=-1, data_range=255)\n",
    "    edge_w = edge_density(whitebox)\n",
    "    time_w = end_w - start_w\n",
    "\n",
    "    psnr_a = psnr(original, animegan, data_range=255)\n",
    "    ssim_a = ssim(original, animegan, channel_axis=-1, data_range=255)\n",
    "    edge_a = edge_density(animegan)\n",
    "    time_a = end_a - start_a\n",
    "\n",
    "    #show_results(original, whitebox, animegan, psnr_w, ssim_w, psnr_a, ssim_a, filename)\n",
    "    '''results.append({\n",
    "        \"image\": filename,\n",
    "        \"psnr_whitebox\": psnr_w,\n",
    "        \"ssim_whitebox\": ssim_w,\n",
    "        \"psnr_animegan\": psnr_a,\n",
    "        \"ssim_animegan\": ssim_a\n",
    "    })'''\n",
    "    results.append({\n",
    "        \"image\": filename,\n",
    "        \"psnr_whitebox\": psnr_w,\n",
    "        \"ssim_whitebox\": ssim_w,\n",
    "        \"edge_density_whitebox\": edge_w,\n",
    "        \"inference_time_whitebox\": time_w,\n",
    "        \"psnr_animegan\": psnr_a,\n",
    "        \"ssim_animegan\": ssim_a,\n",
    "        \"edge_density_animegan\": edge_a,\n",
    "        \"inference_time_animegan\": time_a\n",
    "    })\n",
    "\n",
    "   "
   ],
   "id": "d4ba9367b2180a91",
   "outputs": [
    {
     "name": "stdout",
     "output_type": "stream",
     "text": [
      "Using Device: cuda\n",
      "=> Loading checkpoint\n",
      "checkpoint file White-box-Cartoonization-PyTorch/weights/sceneryonly.pth.tar loaded.\n",
      "=> Finish Inference.\n"
     ]
    },
    {
     "name": "stderr",
     "output_type": "stream",
     "text": [
      "C:\\Users\\alper\\AppData\\Roaming\\Python\\Python312\\site-packages\\albumentations\\__init__.py:28: UserWarning: A new version of Albumentations is available: '2.0.7' (you have '2.0.6'). Upgrade using: pip install -U albumentations. To disable automatic update checks, set the environment variable NO_ALBUMENTATIONS_UPDATE to 1.\n",
      "  check_for_updates()\n",
      "C:\\Users\\alper\\PycharmProjects\\PhotographyProject\\White-box-Cartoonization-PyTorch\\utils.py:85: FutureWarning: You are using `torch.load` with `weights_only=False` (the current default value), which uses the default pickle module implicitly. It is possible to construct malicious pickle data which will execute arbitrary code during unpickling (See https://github.com/pytorch/pytorch/blob/main/SECURITY.md#untrusted-models for more details). In a future release, the default value for `weights_only` will be flipped to `True`. This limits the functions that could be executed during unpickling. Arbitrary objects will no longer be allowed to be loaded via this mode unless they are explicitly allowlisted by the user via `torch.serialization.add_safe_globals`. We recommend you start setting `weights_only=True` for any use case where you don't have full control of the loaded file. Please open an issue on GitHub for any issues related to this experimental feature.\n",
      "  checkpoint = torch.load(path, map_location=config.DEVICE)\n"
     ]
    },
    {
     "name": "stdout",
     "output_type": "stream",
     "text": [
      "Using Device: cuda\n",
      "=> Loading checkpoint\n",
      "checkpoint file White-box-Cartoonization-PyTorch/weights/sceneryonly.pth.tar loaded.\n",
      "=> Finish Inference.\n"
     ]
    },
    {
     "name": "stderr",
     "output_type": "stream",
     "text": [
      "C:\\Users\\alper\\AppData\\Roaming\\Python\\Python312\\site-packages\\albumentations\\__init__.py:28: UserWarning: A new version of Albumentations is available: '2.0.7' (you have '2.0.6'). Upgrade using: pip install -U albumentations. To disable automatic update checks, set the environment variable NO_ALBUMENTATIONS_UPDATE to 1.\n",
      "  check_for_updates()\n",
      "C:\\Users\\alper\\PycharmProjects\\PhotographyProject\\White-box-Cartoonization-PyTorch\\utils.py:85: FutureWarning: You are using `torch.load` with `weights_only=False` (the current default value), which uses the default pickle module implicitly. It is possible to construct malicious pickle data which will execute arbitrary code during unpickling (See https://github.com/pytorch/pytorch/blob/main/SECURITY.md#untrusted-models for more details). In a future release, the default value for `weights_only` will be flipped to `True`. This limits the functions that could be executed during unpickling. Arbitrary objects will no longer be allowed to be loaded via this mode unless they are explicitly allowlisted by the user via `torch.serialization.add_safe_globals`. We recommend you start setting `weights_only=True` for any use case where you don't have full control of the loaded file. Please open an issue on GitHub for any issues related to this experimental feature.\n",
      "  checkpoint = torch.load(path, map_location=config.DEVICE)\n"
     ]
    },
    {
     "name": "stdout",
     "output_type": "stream",
     "text": [
      "Using Device: cuda\n",
      "=> Loading checkpoint\n",
      "checkpoint file White-box-Cartoonization-PyTorch/weights/sceneryonly.pth.tar loaded.\n",
      "=> Finish Inference.\n"
     ]
    },
    {
     "name": "stderr",
     "output_type": "stream",
     "text": [
      "C:\\Users\\alper\\AppData\\Roaming\\Python\\Python312\\site-packages\\albumentations\\__init__.py:28: UserWarning: A new version of Albumentations is available: '2.0.7' (you have '2.0.6'). Upgrade using: pip install -U albumentations. To disable automatic update checks, set the environment variable NO_ALBUMENTATIONS_UPDATE to 1.\n",
      "  check_for_updates()\n",
      "C:\\Users\\alper\\PycharmProjects\\PhotographyProject\\White-box-Cartoonization-PyTorch\\utils.py:85: FutureWarning: You are using `torch.load` with `weights_only=False` (the current default value), which uses the default pickle module implicitly. It is possible to construct malicious pickle data which will execute arbitrary code during unpickling (See https://github.com/pytorch/pytorch/blob/main/SECURITY.md#untrusted-models for more details). In a future release, the default value for `weights_only` will be flipped to `True`. This limits the functions that could be executed during unpickling. Arbitrary objects will no longer be allowed to be loaded via this mode unless they are explicitly allowlisted by the user via `torch.serialization.add_safe_globals`. We recommend you start setting `weights_only=True` for any use case where you don't have full control of the loaded file. Please open an issue on GitHub for any issues related to this experimental feature.\n",
      "  checkpoint = torch.load(path, map_location=config.DEVICE)\n",
      "C:\\Users\\alper\\AppData\\Roaming\\Python\\Python312\\site-packages\\albumentations\\__init__.py:28: UserWarning: A new version of Albumentations is available: '2.0.7' (you have '2.0.6'). Upgrade using: pip install -U albumentations. To disable automatic update checks, set the environment variable NO_ALBUMENTATIONS_UPDATE to 1.\n",
      "  check_for_updates()\n",
      "C:\\Users\\alper\\PycharmProjects\\PhotographyProject\\White-box-Cartoonization-PyTorch\\utils.py:85: FutureWarning: You are using `torch.load` with `weights_only=False` (the current default value), which uses the default pickle module implicitly. It is possible to construct malicious pickle data which will execute arbitrary code during unpickling (See https://github.com/pytorch/pytorch/blob/main/SECURITY.md#untrusted-models for more details). In a future release, the default value for `weights_only` will be flipped to `True`. This limits the functions that could be executed during unpickling. Arbitrary objects will no longer be allowed to be loaded via this mode unless they are explicitly allowlisted by the user via `torch.serialization.add_safe_globals`. We recommend you start setting `weights_only=True` for any use case where you don't have full control of the loaded file. Please open an issue on GitHub for any issues related to this experimental feature.\n",
      "  checkpoint = torch.load(path, map_location=config.DEVICE)\n"
     ]
    },
    {
     "name": "stdout",
     "output_type": "stream",
     "text": [
      "Using Device: cuda\n",
      "=> Loading checkpoint\n",
      "checkpoint file White-box-Cartoonization-PyTorch/weights/sceneryonly.pth.tar loaded.\n",
      "=> Finish Inference.\n"
     ]
    },
    {
     "name": "stderr",
     "output_type": "stream",
     "text": [
      "C:\\Users\\alper\\AppData\\Roaming\\Python\\Python312\\site-packages\\albumentations\\__init__.py:28: UserWarning: A new version of Albumentations is available: '2.0.7' (you have '2.0.6'). Upgrade using: pip install -U albumentations. To disable automatic update checks, set the environment variable NO_ALBUMENTATIONS_UPDATE to 1.\n",
      "  check_for_updates()\n",
      "C:\\Users\\alper\\PycharmProjects\\PhotographyProject\\White-box-Cartoonization-PyTorch\\utils.py:85: FutureWarning: You are using `torch.load` with `weights_only=False` (the current default value), which uses the default pickle module implicitly. It is possible to construct malicious pickle data which will execute arbitrary code during unpickling (See https://github.com/pytorch/pytorch/blob/main/SECURITY.md#untrusted-models for more details). In a future release, the default value for `weights_only` will be flipped to `True`. This limits the functions that could be executed during unpickling. Arbitrary objects will no longer be allowed to be loaded via this mode unless they are explicitly allowlisted by the user via `torch.serialization.add_safe_globals`. We recommend you start setting `weights_only=True` for any use case where you don't have full control of the loaded file. Please open an issue on GitHub for any issues related to this experimental feature.\n",
      "  checkpoint = torch.load(path, map_location=config.DEVICE)\n"
     ]
    },
    {
     "name": "stdout",
     "output_type": "stream",
     "text": [
      "Using Device: cuda\n",
      "=> Loading checkpoint\n",
      "checkpoint file White-box-Cartoonization-PyTorch/weights/sceneryonly.pth.tar loaded.\n",
      "=> Finish Inference.\n",
      "Using Device: cuda\n",
      "=> Loading checkpoint\n",
      "checkpoint file White-box-Cartoonization-PyTorch/weights/sceneryonly.pth.tar loaded.\n",
      "=> Finish Inference.\n"
     ]
    },
    {
     "name": "stderr",
     "output_type": "stream",
     "text": [
      "C:\\Users\\alper\\AppData\\Roaming\\Python\\Python312\\site-packages\\albumentations\\__init__.py:28: UserWarning: A new version of Albumentations is available: '2.0.7' (you have '2.0.6'). Upgrade using: pip install -U albumentations. To disable automatic update checks, set the environment variable NO_ALBUMENTATIONS_UPDATE to 1.\n",
      "  check_for_updates()\n",
      "C:\\Users\\alper\\PycharmProjects\\PhotographyProject\\White-box-Cartoonization-PyTorch\\utils.py:85: FutureWarning: You are using `torch.load` with `weights_only=False` (the current default value), which uses the default pickle module implicitly. It is possible to construct malicious pickle data which will execute arbitrary code during unpickling (See https://github.com/pytorch/pytorch/blob/main/SECURITY.md#untrusted-models for more details). In a future release, the default value for `weights_only` will be flipped to `True`. This limits the functions that could be executed during unpickling. Arbitrary objects will no longer be allowed to be loaded via this mode unless they are explicitly allowlisted by the user via `torch.serialization.add_safe_globals`. We recommend you start setting `weights_only=True` for any use case where you don't have full control of the loaded file. Please open an issue on GitHub for any issues related to this experimental feature.\n",
      "  checkpoint = torch.load(path, map_location=config.DEVICE)\n"
     ]
    },
    {
     "name": "stdout",
     "output_type": "stream",
     "text": [
      "Using Device: cuda\n",
      "=> Loading checkpoint\n",
      "checkpoint file White-box-Cartoonization-PyTorch/weights/sceneryonly.pth.tar loaded.\n",
      "=> Finish Inference.\n"
     ]
    },
    {
     "name": "stderr",
     "output_type": "stream",
     "text": [
      "C:\\Users\\alper\\AppData\\Roaming\\Python\\Python312\\site-packages\\albumentations\\__init__.py:28: UserWarning: A new version of Albumentations is available: '2.0.7' (you have '2.0.6'). Upgrade using: pip install -U albumentations. To disable automatic update checks, set the environment variable NO_ALBUMENTATIONS_UPDATE to 1.\n",
      "  check_for_updates()\n",
      "C:\\Users\\alper\\PycharmProjects\\PhotographyProject\\White-box-Cartoonization-PyTorch\\utils.py:85: FutureWarning: You are using `torch.load` with `weights_only=False` (the current default value), which uses the default pickle module implicitly. It is possible to construct malicious pickle data which will execute arbitrary code during unpickling (See https://github.com/pytorch/pytorch/blob/main/SECURITY.md#untrusted-models for more details). In a future release, the default value for `weights_only` will be flipped to `True`. This limits the functions that could be executed during unpickling. Arbitrary objects will no longer be allowed to be loaded via this mode unless they are explicitly allowlisted by the user via `torch.serialization.add_safe_globals`. We recommend you start setting `weights_only=True` for any use case where you don't have full control of the loaded file. Please open an issue on GitHub for any issues related to this experimental feature.\n",
      "  checkpoint = torch.load(path, map_location=config.DEVICE)\n"
     ]
    },
    {
     "name": "stdout",
     "output_type": "stream",
     "text": [
      "Using Device: cuda\n",
      "=> Loading checkpoint\n",
      "checkpoint file White-box-Cartoonization-PyTorch/weights/sceneryonly.pth.tar loaded.\n",
      "=> Finish Inference.\n"
     ]
    },
    {
     "name": "stderr",
     "output_type": "stream",
     "text": [
      "C:\\Users\\alper\\AppData\\Roaming\\Python\\Python312\\site-packages\\albumentations\\__init__.py:28: UserWarning: A new version of Albumentations is available: '2.0.7' (you have '2.0.6'). Upgrade using: pip install -U albumentations. To disable automatic update checks, set the environment variable NO_ALBUMENTATIONS_UPDATE to 1.\n",
      "  check_for_updates()\n",
      "C:\\Users\\alper\\PycharmProjects\\PhotographyProject\\White-box-Cartoonization-PyTorch\\utils.py:85: FutureWarning: You are using `torch.load` with `weights_only=False` (the current default value), which uses the default pickle module implicitly. It is possible to construct malicious pickle data which will execute arbitrary code during unpickling (See https://github.com/pytorch/pytorch/blob/main/SECURITY.md#untrusted-models for more details). In a future release, the default value for `weights_only` will be flipped to `True`. This limits the functions that could be executed during unpickling. Arbitrary objects will no longer be allowed to be loaded via this mode unless they are explicitly allowlisted by the user via `torch.serialization.add_safe_globals`. We recommend you start setting `weights_only=True` for any use case where you don't have full control of the loaded file. Please open an issue on GitHub for any issues related to this experimental feature.\n",
      "  checkpoint = torch.load(path, map_location=config.DEVICE)\n"
     ]
    },
    {
     "name": "stdout",
     "output_type": "stream",
     "text": [
      "Using Device: cuda\n",
      "=> Loading checkpoint\n",
      "checkpoint file White-box-Cartoonization-PyTorch/weights/sceneryonly.pth.tar loaded.\n",
      "=> Finish Inference.\n"
     ]
    },
    {
     "name": "stderr",
     "output_type": "stream",
     "text": [
      "C:\\Users\\alper\\AppData\\Roaming\\Python\\Python312\\site-packages\\albumentations\\__init__.py:28: UserWarning: A new version of Albumentations is available: '2.0.7' (you have '2.0.6'). Upgrade using: pip install -U albumentations. To disable automatic update checks, set the environment variable NO_ALBUMENTATIONS_UPDATE to 1.\n",
      "  check_for_updates()\n",
      "C:\\Users\\alper\\PycharmProjects\\PhotographyProject\\White-box-Cartoonization-PyTorch\\utils.py:85: FutureWarning: You are using `torch.load` with `weights_only=False` (the current default value), which uses the default pickle module implicitly. It is possible to construct malicious pickle data which will execute arbitrary code during unpickling (See https://github.com/pytorch/pytorch/blob/main/SECURITY.md#untrusted-models for more details). In a future release, the default value for `weights_only` will be flipped to `True`. This limits the functions that could be executed during unpickling. Arbitrary objects will no longer be allowed to be loaded via this mode unless they are explicitly allowlisted by the user via `torch.serialization.add_safe_globals`. We recommend you start setting `weights_only=True` for any use case where you don't have full control of the loaded file. Please open an issue on GitHub for any issues related to this experimental feature.\n",
      "  checkpoint = torch.load(path, map_location=config.DEVICE)\n"
     ]
    },
    {
     "name": "stdout",
     "output_type": "stream",
     "text": [
      "Using Device: cuda\n",
      "=> Loading checkpoint\n",
      "checkpoint file White-box-Cartoonization-PyTorch/weights/sceneryonly.pth.tar loaded.\n",
      "=> Finish Inference.\n"
     ]
    },
    {
     "name": "stderr",
     "output_type": "stream",
     "text": [
      "C:\\Users\\alper\\AppData\\Roaming\\Python\\Python312\\site-packages\\albumentations\\__init__.py:28: UserWarning: A new version of Albumentations is available: '2.0.7' (you have '2.0.6'). Upgrade using: pip install -U albumentations. To disable automatic update checks, set the environment variable NO_ALBUMENTATIONS_UPDATE to 1.\n",
      "  check_for_updates()\n",
      "C:\\Users\\alper\\PycharmProjects\\PhotographyProject\\White-box-Cartoonization-PyTorch\\utils.py:85: FutureWarning: You are using `torch.load` with `weights_only=False` (the current default value), which uses the default pickle module implicitly. It is possible to construct malicious pickle data which will execute arbitrary code during unpickling (See https://github.com/pytorch/pytorch/blob/main/SECURITY.md#untrusted-models for more details). In a future release, the default value for `weights_only` will be flipped to `True`. This limits the functions that could be executed during unpickling. Arbitrary objects will no longer be allowed to be loaded via this mode unless they are explicitly allowlisted by the user via `torch.serialization.add_safe_globals`. We recommend you start setting `weights_only=True` for any use case where you don't have full control of the loaded file. Please open an issue on GitHub for any issues related to this experimental feature.\n",
      "  checkpoint = torch.load(path, map_location=config.DEVICE)\n"
     ]
    },
    {
     "name": "stdout",
     "output_type": "stream",
     "text": [
      "Using Device: cuda\n",
      "=> Loading checkpoint\n",
      "checkpoint file White-box-Cartoonization-PyTorch/weights/sceneryonly.pth.tar loaded.\n",
      "=> Finish Inference.\n"
     ]
    },
    {
     "name": "stderr",
     "output_type": "stream",
     "text": [
      "C:\\Users\\alper\\AppData\\Roaming\\Python\\Python312\\site-packages\\albumentations\\__init__.py:28: UserWarning: A new version of Albumentations is available: '2.0.7' (you have '2.0.6'). Upgrade using: pip install -U albumentations. To disable automatic update checks, set the environment variable NO_ALBUMENTATIONS_UPDATE to 1.\n",
      "  check_for_updates()\n",
      "C:\\Users\\alper\\PycharmProjects\\PhotographyProject\\White-box-Cartoonization-PyTorch\\utils.py:85: FutureWarning: You are using `torch.load` with `weights_only=False` (the current default value), which uses the default pickle module implicitly. It is possible to construct malicious pickle data which will execute arbitrary code during unpickling (See https://github.com/pytorch/pytorch/blob/main/SECURITY.md#untrusted-models for more details). In a future release, the default value for `weights_only` will be flipped to `True`. This limits the functions that could be executed during unpickling. Arbitrary objects will no longer be allowed to be loaded via this mode unless they are explicitly allowlisted by the user via `torch.serialization.add_safe_globals`. We recommend you start setting `weights_only=True` for any use case where you don't have full control of the loaded file. Please open an issue on GitHub for any issues related to this experimental feature.\n",
      "  checkpoint = torch.load(path, map_location=config.DEVICE)\n"
     ]
    },
    {
     "name": "stdout",
     "output_type": "stream",
     "text": [
      "Using Device: cuda\n",
      "=> Loading checkpoint\n",
      "checkpoint file White-box-Cartoonization-PyTorch/weights/sceneryonly.pth.tar loaded.\n",
      "=> Finish Inference.\n"
     ]
    },
    {
     "name": "stderr",
     "output_type": "stream",
     "text": [
      "C:\\Users\\alper\\AppData\\Roaming\\Python\\Python312\\site-packages\\albumentations\\__init__.py:28: UserWarning: A new version of Albumentations is available: '2.0.7' (you have '2.0.6'). Upgrade using: pip install -U albumentations. To disable automatic update checks, set the environment variable NO_ALBUMENTATIONS_UPDATE to 1.\n",
      "  check_for_updates()\n",
      "C:\\Users\\alper\\PycharmProjects\\PhotographyProject\\White-box-Cartoonization-PyTorch\\utils.py:85: FutureWarning: You are using `torch.load` with `weights_only=False` (the current default value), which uses the default pickle module implicitly. It is possible to construct malicious pickle data which will execute arbitrary code during unpickling (See https://github.com/pytorch/pytorch/blob/main/SECURITY.md#untrusted-models for more details). In a future release, the default value for `weights_only` will be flipped to `True`. This limits the functions that could be executed during unpickling. Arbitrary objects will no longer be allowed to be loaded via this mode unless they are explicitly allowlisted by the user via `torch.serialization.add_safe_globals`. We recommend you start setting `weights_only=True` for any use case where you don't have full control of the loaded file. Please open an issue on GitHub for any issues related to this experimental feature.\n",
      "  checkpoint = torch.load(path, map_location=config.DEVICE)\n",
      "C:\\Users\\alper\\AppData\\Roaming\\Python\\Python312\\site-packages\\albumentations\\__init__.py:28: UserWarning: A new version of Albumentations is available: '2.0.7' (you have '2.0.6'). Upgrade using: pip install -U albumentations. To disable automatic update checks, set the environment variable NO_ALBUMENTATIONS_UPDATE to 1.\n",
      "  check_for_updates()\n",
      "C:\\Users\\alper\\PycharmProjects\\PhotographyProject\\White-box-Cartoonization-PyTorch\\utils.py:85: FutureWarning: You are using `torch.load` with `weights_only=False` (the current default value), which uses the default pickle module implicitly. It is possible to construct malicious pickle data which will execute arbitrary code during unpickling (See https://github.com/pytorch/pytorch/blob/main/SECURITY.md#untrusted-models for more details). In a future release, the default value for `weights_only` will be flipped to `True`. This limits the functions that could be executed during unpickling. Arbitrary objects will no longer be allowed to be loaded via this mode unless they are explicitly allowlisted by the user via `torch.serialization.add_safe_globals`. We recommend you start setting `weights_only=True` for any use case where you don't have full control of the loaded file. Please open an issue on GitHub for any issues related to this experimental feature.\n",
      "  checkpoint = torch.load(path, map_location=config.DEVICE)\n"
     ]
    },
    {
     "name": "stdout",
     "output_type": "stream",
     "text": [
      "Using Device: cuda\n",
      "=> Loading checkpoint\n",
      "checkpoint file White-box-Cartoonization-PyTorch/weights/sceneryonly.pth.tar loaded.\n",
      "=> Finish Inference.\n"
     ]
    },
    {
     "name": "stderr",
     "output_type": "stream",
     "text": [
      "C:\\Users\\alper\\AppData\\Roaming\\Python\\Python312\\site-packages\\albumentations\\__init__.py:28: UserWarning: A new version of Albumentations is available: '2.0.7' (you have '2.0.6'). Upgrade using: pip install -U albumentations. To disable automatic update checks, set the environment variable NO_ALBUMENTATIONS_UPDATE to 1.\n",
      "  check_for_updates()\n",
      "C:\\Users\\alper\\PycharmProjects\\PhotographyProject\\White-box-Cartoonization-PyTorch\\utils.py:85: FutureWarning: You are using `torch.load` with `weights_only=False` (the current default value), which uses the default pickle module implicitly. It is possible to construct malicious pickle data which will execute arbitrary code during unpickling (See https://github.com/pytorch/pytorch/blob/main/SECURITY.md#untrusted-models for more details). In a future release, the default value for `weights_only` will be flipped to `True`. This limits the functions that could be executed during unpickling. Arbitrary objects will no longer be allowed to be loaded via this mode unless they are explicitly allowlisted by the user via `torch.serialization.add_safe_globals`. We recommend you start setting `weights_only=True` for any use case where you don't have full control of the loaded file. Please open an issue on GitHub for any issues related to this experimental feature.\n",
      "  checkpoint = torch.load(path, map_location=config.DEVICE)\n"
     ]
    },
    {
     "name": "stdout",
     "output_type": "stream",
     "text": [
      "Using Device: cuda\n",
      "=> Loading checkpoint\n",
      "checkpoint file White-box-Cartoonization-PyTorch/weights/sceneryonly.pth.tar loaded.\n",
      "=> Finish Inference.\n"
     ]
    },
    {
     "name": "stderr",
     "output_type": "stream",
     "text": [
      "C:\\Users\\alper\\AppData\\Roaming\\Python\\Python312\\site-packages\\albumentations\\__init__.py:28: UserWarning: A new version of Albumentations is available: '2.0.7' (you have '2.0.6'). Upgrade using: pip install -U albumentations. To disable automatic update checks, set the environment variable NO_ALBUMENTATIONS_UPDATE to 1.\n",
      "  check_for_updates()\n",
      "C:\\Users\\alper\\PycharmProjects\\PhotographyProject\\White-box-Cartoonization-PyTorch\\utils.py:85: FutureWarning: You are using `torch.load` with `weights_only=False` (the current default value), which uses the default pickle module implicitly. It is possible to construct malicious pickle data which will execute arbitrary code during unpickling (See https://github.com/pytorch/pytorch/blob/main/SECURITY.md#untrusted-models for more details). In a future release, the default value for `weights_only` will be flipped to `True`. This limits the functions that could be executed during unpickling. Arbitrary objects will no longer be allowed to be loaded via this mode unless they are explicitly allowlisted by the user via `torch.serialization.add_safe_globals`. We recommend you start setting `weights_only=True` for any use case where you don't have full control of the loaded file. Please open an issue on GitHub for any issues related to this experimental feature.\n",
      "  checkpoint = torch.load(path, map_location=config.DEVICE)\n"
     ]
    },
    {
     "name": "stdout",
     "output_type": "stream",
     "text": [
      "Using Device: cuda\n",
      "=> Loading checkpoint\n",
      "checkpoint file White-box-Cartoonization-PyTorch/weights/sceneryonly.pth.tar loaded.\n",
      "=> Finish Inference.\n"
     ]
    },
    {
     "name": "stderr",
     "output_type": "stream",
     "text": [
      "C:\\Users\\alper\\AppData\\Roaming\\Python\\Python312\\site-packages\\albumentations\\__init__.py:28: UserWarning: A new version of Albumentations is available: '2.0.7' (you have '2.0.6'). Upgrade using: pip install -U albumentations. To disable automatic update checks, set the environment variable NO_ALBUMENTATIONS_UPDATE to 1.\n",
      "  check_for_updates()\n",
      "C:\\Users\\alper\\PycharmProjects\\PhotographyProject\\White-box-Cartoonization-PyTorch\\utils.py:85: FutureWarning: You are using `torch.load` with `weights_only=False` (the current default value), which uses the default pickle module implicitly. It is possible to construct malicious pickle data which will execute arbitrary code during unpickling (See https://github.com/pytorch/pytorch/blob/main/SECURITY.md#untrusted-models for more details). In a future release, the default value for `weights_only` will be flipped to `True`. This limits the functions that could be executed during unpickling. Arbitrary objects will no longer be allowed to be loaded via this mode unless they are explicitly allowlisted by the user via `torch.serialization.add_safe_globals`. We recommend you start setting `weights_only=True` for any use case where you don't have full control of the loaded file. Please open an issue on GitHub for any issues related to this experimental feature.\n",
      "  checkpoint = torch.load(path, map_location=config.DEVICE)\n"
     ]
    },
    {
     "name": "stdout",
     "output_type": "stream",
     "text": [
      "Using Device: cuda\n",
      "=> Loading checkpoint\n",
      "checkpoint file White-box-Cartoonization-PyTorch/weights/sceneryonly.pth.tar loaded.\n",
      "=> Finish Inference.\n"
     ]
    },
    {
     "name": "stderr",
     "output_type": "stream",
     "text": [
      "C:\\Users\\alper\\AppData\\Roaming\\Python\\Python312\\site-packages\\albumentations\\__init__.py:28: UserWarning: A new version of Albumentations is available: '2.0.7' (you have '2.0.6'). Upgrade using: pip install -U albumentations. To disable automatic update checks, set the environment variable NO_ALBUMENTATIONS_UPDATE to 1.\n",
      "  check_for_updates()\n",
      "C:\\Users\\alper\\PycharmProjects\\PhotographyProject\\White-box-Cartoonization-PyTorch\\utils.py:85: FutureWarning: You are using `torch.load` with `weights_only=False` (the current default value), which uses the default pickle module implicitly. It is possible to construct malicious pickle data which will execute arbitrary code during unpickling (See https://github.com/pytorch/pytorch/blob/main/SECURITY.md#untrusted-models for more details). In a future release, the default value for `weights_only` will be flipped to `True`. This limits the functions that could be executed during unpickling. Arbitrary objects will no longer be allowed to be loaded via this mode unless they are explicitly allowlisted by the user via `torch.serialization.add_safe_globals`. We recommend you start setting `weights_only=True` for any use case where you don't have full control of the loaded file. Please open an issue on GitHub for any issues related to this experimental feature.\n",
      "  checkpoint = torch.load(path, map_location=config.DEVICE)\n"
     ]
    },
    {
     "name": "stdout",
     "output_type": "stream",
     "text": [
      "Using Device: cuda\n",
      "=> Loading checkpoint\n",
      "checkpoint file White-box-Cartoonization-PyTorch/weights/sceneryonly.pth.tar loaded.\n",
      "=> Finish Inference.\n",
      "Using Device: cuda\n",
      "=> Loading checkpoint\n",
      "checkpoint file White-box-Cartoonization-PyTorch/weights/sceneryonly.pth.tar loaded.\n",
      "=> Finish Inference.\n"
     ]
    },
    {
     "name": "stderr",
     "output_type": "stream",
     "text": [
      "C:\\Users\\alper\\AppData\\Roaming\\Python\\Python312\\site-packages\\albumentations\\__init__.py:28: UserWarning: A new version of Albumentations is available: '2.0.7' (you have '2.0.6'). Upgrade using: pip install -U albumentations. To disable automatic update checks, set the environment variable NO_ALBUMENTATIONS_UPDATE to 1.\n",
      "  check_for_updates()\n",
      "C:\\Users\\alper\\PycharmProjects\\PhotographyProject\\White-box-Cartoonization-PyTorch\\utils.py:85: FutureWarning: You are using `torch.load` with `weights_only=False` (the current default value), which uses the default pickle module implicitly. It is possible to construct malicious pickle data which will execute arbitrary code during unpickling (See https://github.com/pytorch/pytorch/blob/main/SECURITY.md#untrusted-models for more details). In a future release, the default value for `weights_only` will be flipped to `True`. This limits the functions that could be executed during unpickling. Arbitrary objects will no longer be allowed to be loaded via this mode unless they are explicitly allowlisted by the user via `torch.serialization.add_safe_globals`. We recommend you start setting `weights_only=True` for any use case where you don't have full control of the loaded file. Please open an issue on GitHub for any issues related to this experimental feature.\n",
      "  checkpoint = torch.load(path, map_location=config.DEVICE)\n"
     ]
    },
    {
     "name": "stdout",
     "output_type": "stream",
     "text": [
      "Using Device: cuda\n",
      "=> Loading checkpoint\n",
      "checkpoint file White-box-Cartoonization-PyTorch/weights/sceneryonly.pth.tar loaded.\n",
      "=> Finish Inference.\n"
     ]
    },
    {
     "name": "stderr",
     "output_type": "stream",
     "text": [
      "C:\\Users\\alper\\AppData\\Roaming\\Python\\Python312\\site-packages\\albumentations\\__init__.py:28: UserWarning: A new version of Albumentations is available: '2.0.7' (you have '2.0.6'). Upgrade using: pip install -U albumentations. To disable automatic update checks, set the environment variable NO_ALBUMENTATIONS_UPDATE to 1.\n",
      "  check_for_updates()\n",
      "C:\\Users\\alper\\PycharmProjects\\PhotographyProject\\White-box-Cartoonization-PyTorch\\utils.py:85: FutureWarning: You are using `torch.load` with `weights_only=False` (the current default value), which uses the default pickle module implicitly. It is possible to construct malicious pickle data which will execute arbitrary code during unpickling (See https://github.com/pytorch/pytorch/blob/main/SECURITY.md#untrusted-models for more details). In a future release, the default value for `weights_only` will be flipped to `True`. This limits the functions that could be executed during unpickling. Arbitrary objects will no longer be allowed to be loaded via this mode unless they are explicitly allowlisted by the user via `torch.serialization.add_safe_globals`. We recommend you start setting `weights_only=True` for any use case where you don't have full control of the loaded file. Please open an issue on GitHub for any issues related to this experimental feature.\n",
      "  checkpoint = torch.load(path, map_location=config.DEVICE)\n",
      "C:\\Users\\alper\\AppData\\Roaming\\Python\\Python312\\site-packages\\albumentations\\__init__.py:28: UserWarning: A new version of Albumentations is available: '2.0.7' (you have '2.0.6'). Upgrade using: pip install -U albumentations. To disable automatic update checks, set the environment variable NO_ALBUMENTATIONS_UPDATE to 1.\n",
      "  check_for_updates()\n",
      "C:\\Users\\alper\\PycharmProjects\\PhotographyProject\\White-box-Cartoonization-PyTorch\\utils.py:85: FutureWarning: You are using `torch.load` with `weights_only=False` (the current default value), which uses the default pickle module implicitly. It is possible to construct malicious pickle data which will execute arbitrary code during unpickling (See https://github.com/pytorch/pytorch/blob/main/SECURITY.md#untrusted-models for more details). In a future release, the default value for `weights_only` will be flipped to `True`. This limits the functions that could be executed during unpickling. Arbitrary objects will no longer be allowed to be loaded via this mode unless they are explicitly allowlisted by the user via `torch.serialization.add_safe_globals`. We recommend you start setting `weights_only=True` for any use case where you don't have full control of the loaded file. Please open an issue on GitHub for any issues related to this experimental feature.\n",
      "  checkpoint = torch.load(path, map_location=config.DEVICE)\n"
     ]
    },
    {
     "name": "stdout",
     "output_type": "stream",
     "text": [
      "Using Device: cuda\n",
      "=> Loading checkpoint\n",
      "checkpoint file White-box-Cartoonization-PyTorch/weights/sceneryonly.pth.tar loaded.\n",
      "=> Finish Inference.\n"
     ]
    },
    {
     "name": "stderr",
     "output_type": "stream",
     "text": [
      "C:\\Users\\alper\\AppData\\Roaming\\Python\\Python312\\site-packages\\albumentations\\__init__.py:28: UserWarning: A new version of Albumentations is available: '2.0.7' (you have '2.0.6'). Upgrade using: pip install -U albumentations. To disable automatic update checks, set the environment variable NO_ALBUMENTATIONS_UPDATE to 1.\n",
      "  check_for_updates()\n",
      "C:\\Users\\alper\\PycharmProjects\\PhotographyProject\\White-box-Cartoonization-PyTorch\\utils.py:85: FutureWarning: You are using `torch.load` with `weights_only=False` (the current default value), which uses the default pickle module implicitly. It is possible to construct malicious pickle data which will execute arbitrary code during unpickling (See https://github.com/pytorch/pytorch/blob/main/SECURITY.md#untrusted-models for more details). In a future release, the default value for `weights_only` will be flipped to `True`. This limits the functions that could be executed during unpickling. Arbitrary objects will no longer be allowed to be loaded via this mode unless they are explicitly allowlisted by the user via `torch.serialization.add_safe_globals`. We recommend you start setting `weights_only=True` for any use case where you don't have full control of the loaded file. Please open an issue on GitHub for any issues related to this experimental feature.\n",
      "  checkpoint = torch.load(path, map_location=config.DEVICE)\n"
     ]
    },
    {
     "name": "stdout",
     "output_type": "stream",
     "text": [
      "Using Device: cuda\n",
      "=> Loading checkpoint\n",
      "checkpoint file White-box-Cartoonization-PyTorch/weights/sceneryonly.pth.tar loaded.\n",
      "=> Finish Inference.\n"
     ]
    },
    {
     "name": "stderr",
     "output_type": "stream",
     "text": [
      "C:\\Users\\alper\\AppData\\Roaming\\Python\\Python312\\site-packages\\albumentations\\__init__.py:28: UserWarning: A new version of Albumentations is available: '2.0.7' (you have '2.0.6'). Upgrade using: pip install -U albumentations. To disable automatic update checks, set the environment variable NO_ALBUMENTATIONS_UPDATE to 1.\n",
      "  check_for_updates()\n",
      "C:\\Users\\alper\\PycharmProjects\\PhotographyProject\\White-box-Cartoonization-PyTorch\\utils.py:85: FutureWarning: You are using `torch.load` with `weights_only=False` (the current default value), which uses the default pickle module implicitly. It is possible to construct malicious pickle data which will execute arbitrary code during unpickling (See https://github.com/pytorch/pytorch/blob/main/SECURITY.md#untrusted-models for more details). In a future release, the default value for `weights_only` will be flipped to `True`. This limits the functions that could be executed during unpickling. Arbitrary objects will no longer be allowed to be loaded via this mode unless they are explicitly allowlisted by the user via `torch.serialization.add_safe_globals`. We recommend you start setting `weights_only=True` for any use case where you don't have full control of the loaded file. Please open an issue on GitHub for any issues related to this experimental feature.\n",
      "  checkpoint = torch.load(path, map_location=config.DEVICE)\n"
     ]
    },
    {
     "name": "stdout",
     "output_type": "stream",
     "text": [
      "Using Device: cuda\n",
      "=> Loading checkpoint\n",
      "checkpoint file White-box-Cartoonization-PyTorch/weights/sceneryonly.pth.tar loaded.\n",
      "=> Finish Inference.\n",
      "Using Device: cuda\n",
      "=> Loading checkpoint\n",
      "checkpoint file White-box-Cartoonization-PyTorch/weights/sceneryonly.pth.tar loaded.\n",
      "=> Finish Inference.\n"
     ]
    },
    {
     "name": "stderr",
     "output_type": "stream",
     "text": [
      "C:\\Users\\alper\\AppData\\Roaming\\Python\\Python312\\site-packages\\albumentations\\__init__.py:28: UserWarning: A new version of Albumentations is available: '2.0.7' (you have '2.0.6'). Upgrade using: pip install -U albumentations. To disable automatic update checks, set the environment variable NO_ALBUMENTATIONS_UPDATE to 1.\n",
      "  check_for_updates()\n",
      "C:\\Users\\alper\\PycharmProjects\\PhotographyProject\\White-box-Cartoonization-PyTorch\\utils.py:85: FutureWarning: You are using `torch.load` with `weights_only=False` (the current default value), which uses the default pickle module implicitly. It is possible to construct malicious pickle data which will execute arbitrary code during unpickling (See https://github.com/pytorch/pytorch/blob/main/SECURITY.md#untrusted-models for more details). In a future release, the default value for `weights_only` will be flipped to `True`. This limits the functions that could be executed during unpickling. Arbitrary objects will no longer be allowed to be loaded via this mode unless they are explicitly allowlisted by the user via `torch.serialization.add_safe_globals`. We recommend you start setting `weights_only=True` for any use case where you don't have full control of the loaded file. Please open an issue on GitHub for any issues related to this experimental feature.\n",
      "  checkpoint = torch.load(path, map_location=config.DEVICE)\n"
     ]
    },
    {
     "name": "stdout",
     "output_type": "stream",
     "text": [
      "Using Device: cuda\n",
      "=> Loading checkpoint\n",
      "checkpoint file White-box-Cartoonization-PyTorch/weights/sceneryonly.pth.tar loaded.\n",
      "=> Finish Inference.\n"
     ]
    },
    {
     "name": "stderr",
     "output_type": "stream",
     "text": [
      "C:\\Users\\alper\\AppData\\Roaming\\Python\\Python312\\site-packages\\albumentations\\__init__.py:28: UserWarning: A new version of Albumentations is available: '2.0.7' (you have '2.0.6'). Upgrade using: pip install -U albumentations. To disable automatic update checks, set the environment variable NO_ALBUMENTATIONS_UPDATE to 1.\n",
      "  check_for_updates()\n",
      "C:\\Users\\alper\\PycharmProjects\\PhotographyProject\\White-box-Cartoonization-PyTorch\\utils.py:85: FutureWarning: You are using `torch.load` with `weights_only=False` (the current default value), which uses the default pickle module implicitly. It is possible to construct malicious pickle data which will execute arbitrary code during unpickling (See https://github.com/pytorch/pytorch/blob/main/SECURITY.md#untrusted-models for more details). In a future release, the default value for `weights_only` will be flipped to `True`. This limits the functions that could be executed during unpickling. Arbitrary objects will no longer be allowed to be loaded via this mode unless they are explicitly allowlisted by the user via `torch.serialization.add_safe_globals`. We recommend you start setting `weights_only=True` for any use case where you don't have full control of the loaded file. Please open an issue on GitHub for any issues related to this experimental feature.\n",
      "  checkpoint = torch.load(path, map_location=config.DEVICE)\n"
     ]
    },
    {
     "name": "stdout",
     "output_type": "stream",
     "text": [
      "Using Device: cuda\n",
      "=> Loading checkpoint\n",
      "checkpoint file White-box-Cartoonization-PyTorch/weights/sceneryonly.pth.tar loaded.\n",
      "=> Finish Inference.\n"
     ]
    },
    {
     "name": "stderr",
     "output_type": "stream",
     "text": [
      "C:\\Users\\alper\\AppData\\Roaming\\Python\\Python312\\site-packages\\albumentations\\__init__.py:28: UserWarning: A new version of Albumentations is available: '2.0.7' (you have '2.0.6'). Upgrade using: pip install -U albumentations. To disable automatic update checks, set the environment variable NO_ALBUMENTATIONS_UPDATE to 1.\n",
      "  check_for_updates()\n",
      "C:\\Users\\alper\\PycharmProjects\\PhotographyProject\\White-box-Cartoonization-PyTorch\\utils.py:85: FutureWarning: You are using `torch.load` with `weights_only=False` (the current default value), which uses the default pickle module implicitly. It is possible to construct malicious pickle data which will execute arbitrary code during unpickling (See https://github.com/pytorch/pytorch/blob/main/SECURITY.md#untrusted-models for more details). In a future release, the default value for `weights_only` will be flipped to `True`. This limits the functions that could be executed during unpickling. Arbitrary objects will no longer be allowed to be loaded via this mode unless they are explicitly allowlisted by the user via `torch.serialization.add_safe_globals`. We recommend you start setting `weights_only=True` for any use case where you don't have full control of the loaded file. Please open an issue on GitHub for any issues related to this experimental feature.\n",
      "  checkpoint = torch.load(path, map_location=config.DEVICE)\n"
     ]
    },
    {
     "name": "stdout",
     "output_type": "stream",
     "text": [
      "Using Device: cuda\n",
      "=> Loading checkpoint\n",
      "checkpoint file White-box-Cartoonization-PyTorch/weights/sceneryonly.pth.tar loaded.\n",
      "=> Finish Inference.\n"
     ]
    },
    {
     "name": "stderr",
     "output_type": "stream",
     "text": [
      "C:\\Users\\alper\\AppData\\Roaming\\Python\\Python312\\site-packages\\albumentations\\__init__.py:28: UserWarning: A new version of Albumentations is available: '2.0.7' (you have '2.0.6'). Upgrade using: pip install -U albumentations. To disable automatic update checks, set the environment variable NO_ALBUMENTATIONS_UPDATE to 1.\n",
      "  check_for_updates()\n",
      "C:\\Users\\alper\\PycharmProjects\\PhotographyProject\\White-box-Cartoonization-PyTorch\\utils.py:85: FutureWarning: You are using `torch.load` with `weights_only=False` (the current default value), which uses the default pickle module implicitly. It is possible to construct malicious pickle data which will execute arbitrary code during unpickling (See https://github.com/pytorch/pytorch/blob/main/SECURITY.md#untrusted-models for more details). In a future release, the default value for `weights_only` will be flipped to `True`. This limits the functions that could be executed during unpickling. Arbitrary objects will no longer be allowed to be loaded via this mode unless they are explicitly allowlisted by the user via `torch.serialization.add_safe_globals`. We recommend you start setting `weights_only=True` for any use case where you don't have full control of the loaded file. Please open an issue on GitHub for any issues related to this experimental feature.\n",
      "  checkpoint = torch.load(path, map_location=config.DEVICE)\n"
     ]
    },
    {
     "name": "stdout",
     "output_type": "stream",
     "text": [
      "Using Device: cuda\n",
      "=> Loading checkpoint\n",
      "checkpoint file White-box-Cartoonization-PyTorch/weights/sceneryonly.pth.tar loaded.\n",
      "=> Finish Inference.\n"
     ]
    },
    {
     "name": "stderr",
     "output_type": "stream",
     "text": [
      "C:\\Users\\alper\\AppData\\Roaming\\Python\\Python312\\site-packages\\albumentations\\__init__.py:28: UserWarning: A new version of Albumentations is available: '2.0.7' (you have '2.0.6'). Upgrade using: pip install -U albumentations. To disable automatic update checks, set the environment variable NO_ALBUMENTATIONS_UPDATE to 1.\n",
      "  check_for_updates()\n",
      "C:\\Users\\alper\\PycharmProjects\\PhotographyProject\\White-box-Cartoonization-PyTorch\\utils.py:85: FutureWarning: You are using `torch.load` with `weights_only=False` (the current default value), which uses the default pickle module implicitly. It is possible to construct malicious pickle data which will execute arbitrary code during unpickling (See https://github.com/pytorch/pytorch/blob/main/SECURITY.md#untrusted-models for more details). In a future release, the default value for `weights_only` will be flipped to `True`. This limits the functions that could be executed during unpickling. Arbitrary objects will no longer be allowed to be loaded via this mode unless they are explicitly allowlisted by the user via `torch.serialization.add_safe_globals`. We recommend you start setting `weights_only=True` for any use case where you don't have full control of the loaded file. Please open an issue on GitHub for any issues related to this experimental feature.\n",
      "  checkpoint = torch.load(path, map_location=config.DEVICE)\n",
      "C:\\Users\\alper\\AppData\\Roaming\\Python\\Python312\\site-packages\\albumentations\\__init__.py:28: UserWarning: A new version of Albumentations is available: '2.0.7' (you have '2.0.6'). Upgrade using: pip install -U albumentations. To disable automatic update checks, set the environment variable NO_ALBUMENTATIONS_UPDATE to 1.\n",
      "  check_for_updates()\n",
      "C:\\Users\\alper\\PycharmProjects\\PhotographyProject\\White-box-Cartoonization-PyTorch\\utils.py:85: FutureWarning: You are using `torch.load` with `weights_only=False` (the current default value), which uses the default pickle module implicitly. It is possible to construct malicious pickle data which will execute arbitrary code during unpickling (See https://github.com/pytorch/pytorch/blob/main/SECURITY.md#untrusted-models for more details). In a future release, the default value for `weights_only` will be flipped to `True`. This limits the functions that could be executed during unpickling. Arbitrary objects will no longer be allowed to be loaded via this mode unless they are explicitly allowlisted by the user via `torch.serialization.add_safe_globals`. We recommend you start setting `weights_only=True` for any use case where you don't have full control of the loaded file. Please open an issue on GitHub for any issues related to this experimental feature.\n",
      "  checkpoint = torch.load(path, map_location=config.DEVICE)\n"
     ]
    },
    {
     "name": "stdout",
     "output_type": "stream",
     "text": [
      "Using Device: cuda\n",
      "=> Loading checkpoint\n",
      "checkpoint file White-box-Cartoonization-PyTorch/weights/sceneryonly.pth.tar loaded.\n",
      "=> Finish Inference.\n",
      "Using Device: cuda\n",
      "=> Loading checkpoint\n",
      "checkpoint file White-box-Cartoonization-PyTorch/weights/sceneryonly.pth.tar loaded.\n",
      "=> Finish Inference.\n"
     ]
    },
    {
     "name": "stderr",
     "output_type": "stream",
     "text": [
      "C:\\Users\\alper\\AppData\\Roaming\\Python\\Python312\\site-packages\\albumentations\\__init__.py:28: UserWarning: A new version of Albumentations is available: '2.0.7' (you have '2.0.6'). Upgrade using: pip install -U albumentations. To disable automatic update checks, set the environment variable NO_ALBUMENTATIONS_UPDATE to 1.\n",
      "  check_for_updates()\n",
      "C:\\Users\\alper\\PycharmProjects\\PhotographyProject\\White-box-Cartoonization-PyTorch\\utils.py:85: FutureWarning: You are using `torch.load` with `weights_only=False` (the current default value), which uses the default pickle module implicitly. It is possible to construct malicious pickle data which will execute arbitrary code during unpickling (See https://github.com/pytorch/pytorch/blob/main/SECURITY.md#untrusted-models for more details). In a future release, the default value for `weights_only` will be flipped to `True`. This limits the functions that could be executed during unpickling. Arbitrary objects will no longer be allowed to be loaded via this mode unless they are explicitly allowlisted by the user via `torch.serialization.add_safe_globals`. We recommend you start setting `weights_only=True` for any use case where you don't have full control of the loaded file. Please open an issue on GitHub for any issues related to this experimental feature.\n",
      "  checkpoint = torch.load(path, map_location=config.DEVICE)\n",
      "C:\\Users\\alper\\AppData\\Roaming\\Python\\Python312\\site-packages\\albumentations\\__init__.py:28: UserWarning: A new version of Albumentations is available: '2.0.7' (you have '2.0.6'). Upgrade using: pip install -U albumentations. To disable automatic update checks, set the environment variable NO_ALBUMENTATIONS_UPDATE to 1.\n",
      "  check_for_updates()\n",
      "C:\\Users\\alper\\PycharmProjects\\PhotographyProject\\White-box-Cartoonization-PyTorch\\utils.py:85: FutureWarning: You are using `torch.load` with `weights_only=False` (the current default value), which uses the default pickle module implicitly. It is possible to construct malicious pickle data which will execute arbitrary code during unpickling (See https://github.com/pytorch/pytorch/blob/main/SECURITY.md#untrusted-models for more details). In a future release, the default value for `weights_only` will be flipped to `True`. This limits the functions that could be executed during unpickling. Arbitrary objects will no longer be allowed to be loaded via this mode unless they are explicitly allowlisted by the user via `torch.serialization.add_safe_globals`. We recommend you start setting `weights_only=True` for any use case where you don't have full control of the loaded file. Please open an issue on GitHub for any issues related to this experimental feature.\n",
      "  checkpoint = torch.load(path, map_location=config.DEVICE)\n"
     ]
    },
    {
     "name": "stdout",
     "output_type": "stream",
     "text": [
      "Using Device: cuda\n",
      "=> Loading checkpoint\n",
      "checkpoint file White-box-Cartoonization-PyTorch/weights/sceneryonly.pth.tar loaded.\n",
      "=> Finish Inference.\n",
      "Using Device: cuda\n",
      "=> Loading checkpoint\n",
      "checkpoint file White-box-Cartoonization-PyTorch/weights/sceneryonly.pth.tar loaded.\n",
      "=> Finish Inference.\n"
     ]
    },
    {
     "name": "stderr",
     "output_type": "stream",
     "text": [
      "C:\\Users\\alper\\AppData\\Roaming\\Python\\Python312\\site-packages\\albumentations\\__init__.py:28: UserWarning: A new version of Albumentations is available: '2.0.7' (you have '2.0.6'). Upgrade using: pip install -U albumentations. To disable automatic update checks, set the environment variable NO_ALBUMENTATIONS_UPDATE to 1.\n",
      "  check_for_updates()\n",
      "C:\\Users\\alper\\PycharmProjects\\PhotographyProject\\White-box-Cartoonization-PyTorch\\utils.py:85: FutureWarning: You are using `torch.load` with `weights_only=False` (the current default value), which uses the default pickle module implicitly. It is possible to construct malicious pickle data which will execute arbitrary code during unpickling (See https://github.com/pytorch/pytorch/blob/main/SECURITY.md#untrusted-models for more details). In a future release, the default value for `weights_only` will be flipped to `True`. This limits the functions that could be executed during unpickling. Arbitrary objects will no longer be allowed to be loaded via this mode unless they are explicitly allowlisted by the user via `torch.serialization.add_safe_globals`. We recommend you start setting `weights_only=True` for any use case where you don't have full control of the loaded file. Please open an issue on GitHub for any issues related to this experimental feature.\n",
      "  checkpoint = torch.load(path, map_location=config.DEVICE)\n",
      "C:\\Users\\alper\\AppData\\Roaming\\Python\\Python312\\site-packages\\albumentations\\__init__.py:28: UserWarning: A new version of Albumentations is available: '2.0.7' (you have '2.0.6'). Upgrade using: pip install -U albumentations. To disable automatic update checks, set the environment variable NO_ALBUMENTATIONS_UPDATE to 1.\n",
      "  check_for_updates()\n",
      "C:\\Users\\alper\\PycharmProjects\\PhotographyProject\\White-box-Cartoonization-PyTorch\\utils.py:85: FutureWarning: You are using `torch.load` with `weights_only=False` (the current default value), which uses the default pickle module implicitly. It is possible to construct malicious pickle data which will execute arbitrary code during unpickling (See https://github.com/pytorch/pytorch/blob/main/SECURITY.md#untrusted-models for more details). In a future release, the default value for `weights_only` will be flipped to `True`. This limits the functions that could be executed during unpickling. Arbitrary objects will no longer be allowed to be loaded via this mode unless they are explicitly allowlisted by the user via `torch.serialization.add_safe_globals`. We recommend you start setting `weights_only=True` for any use case where you don't have full control of the loaded file. Please open an issue on GitHub for any issues related to this experimental feature.\n",
      "  checkpoint = torch.load(path, map_location=config.DEVICE)\n"
     ]
    },
    {
     "name": "stdout",
     "output_type": "stream",
     "text": [
      "Using Device: cuda\n",
      "=> Loading checkpoint\n",
      "checkpoint file White-box-Cartoonization-PyTorch/weights/sceneryonly.pth.tar loaded.\n",
      "=> Finish Inference.\n"
     ]
    },
    {
     "name": "stderr",
     "output_type": "stream",
     "text": [
      "C:\\Users\\alper\\AppData\\Roaming\\Python\\Python312\\site-packages\\albumentations\\__init__.py:28: UserWarning: A new version of Albumentations is available: '2.0.7' (you have '2.0.6'). Upgrade using: pip install -U albumentations. To disable automatic update checks, set the environment variable NO_ALBUMENTATIONS_UPDATE to 1.\n",
      "  check_for_updates()\n",
      "C:\\Users\\alper\\PycharmProjects\\PhotographyProject\\White-box-Cartoonization-PyTorch\\utils.py:85: FutureWarning: You are using `torch.load` with `weights_only=False` (the current default value), which uses the default pickle module implicitly. It is possible to construct malicious pickle data which will execute arbitrary code during unpickling (See https://github.com/pytorch/pytorch/blob/main/SECURITY.md#untrusted-models for more details). In a future release, the default value for `weights_only` will be flipped to `True`. This limits the functions that could be executed during unpickling. Arbitrary objects will no longer be allowed to be loaded via this mode unless they are explicitly allowlisted by the user via `torch.serialization.add_safe_globals`. We recommend you start setting `weights_only=True` for any use case where you don't have full control of the loaded file. Please open an issue on GitHub for any issues related to this experimental feature.\n",
      "  checkpoint = torch.load(path, map_location=config.DEVICE)\n"
     ]
    },
    {
     "name": "stdout",
     "output_type": "stream",
     "text": [
      "Using Device: cuda\n",
      "=> Loading checkpoint\n",
      "checkpoint file White-box-Cartoonization-PyTorch/weights/sceneryonly.pth.tar loaded.\n",
      "=> Finish Inference.\n"
     ]
    },
    {
     "name": "stderr",
     "output_type": "stream",
     "text": [
      "C:\\Users\\alper\\AppData\\Roaming\\Python\\Python312\\site-packages\\albumentations\\__init__.py:28: UserWarning: A new version of Albumentations is available: '2.0.7' (you have '2.0.6'). Upgrade using: pip install -U albumentations. To disable automatic update checks, set the environment variable NO_ALBUMENTATIONS_UPDATE to 1.\n",
      "  check_for_updates()\n",
      "C:\\Users\\alper\\PycharmProjects\\PhotographyProject\\White-box-Cartoonization-PyTorch\\utils.py:85: FutureWarning: You are using `torch.load` with `weights_only=False` (the current default value), which uses the default pickle module implicitly. It is possible to construct malicious pickle data which will execute arbitrary code during unpickling (See https://github.com/pytorch/pytorch/blob/main/SECURITY.md#untrusted-models for more details). In a future release, the default value for `weights_only` will be flipped to `True`. This limits the functions that could be executed during unpickling. Arbitrary objects will no longer be allowed to be loaded via this mode unless they are explicitly allowlisted by the user via `torch.serialization.add_safe_globals`. We recommend you start setting `weights_only=True` for any use case where you don't have full control of the loaded file. Please open an issue on GitHub for any issues related to this experimental feature.\n",
      "  checkpoint = torch.load(path, map_location=config.DEVICE)\n"
     ]
    },
    {
     "name": "stdout",
     "output_type": "stream",
     "text": [
      "Using Device: cuda\n",
      "=> Loading checkpoint\n",
      "checkpoint file White-box-Cartoonization-PyTorch/weights/sceneryonly.pth.tar loaded.\n",
      "=> Finish Inference.\n",
      "Using Device: cuda\n",
      "=> Loading checkpoint\n",
      "checkpoint file White-box-Cartoonization-PyTorch/weights/sceneryonly.pth.tar loaded.\n",
      "=> Finish Inference.\n"
     ]
    },
    {
     "name": "stderr",
     "output_type": "stream",
     "text": [
      "C:\\Users\\alper\\AppData\\Roaming\\Python\\Python312\\site-packages\\albumentations\\__init__.py:28: UserWarning: A new version of Albumentations is available: '2.0.7' (you have '2.0.6'). Upgrade using: pip install -U albumentations. To disable automatic update checks, set the environment variable NO_ALBUMENTATIONS_UPDATE to 1.\n",
      "  check_for_updates()\n",
      "C:\\Users\\alper\\PycharmProjects\\PhotographyProject\\White-box-Cartoonization-PyTorch\\utils.py:85: FutureWarning: You are using `torch.load` with `weights_only=False` (the current default value), which uses the default pickle module implicitly. It is possible to construct malicious pickle data which will execute arbitrary code during unpickling (See https://github.com/pytorch/pytorch/blob/main/SECURITY.md#untrusted-models for more details). In a future release, the default value for `weights_only` will be flipped to `True`. This limits the functions that could be executed during unpickling. Arbitrary objects will no longer be allowed to be loaded via this mode unless they are explicitly allowlisted by the user via `torch.serialization.add_safe_globals`. We recommend you start setting `weights_only=True` for any use case where you don't have full control of the loaded file. Please open an issue on GitHub for any issues related to this experimental feature.\n",
      "  checkpoint = torch.load(path, map_location=config.DEVICE)\n",
      "C:\\Users\\alper\\AppData\\Roaming\\Python\\Python312\\site-packages\\albumentations\\__init__.py:28: UserWarning: A new version of Albumentations is available: '2.0.7' (you have '2.0.6'). Upgrade using: pip install -U albumentations. To disable automatic update checks, set the environment variable NO_ALBUMENTATIONS_UPDATE to 1.\n",
      "  check_for_updates()\n",
      "C:\\Users\\alper\\PycharmProjects\\PhotographyProject\\White-box-Cartoonization-PyTorch\\utils.py:85: FutureWarning: You are using `torch.load` with `weights_only=False` (the current default value), which uses the default pickle module implicitly. It is possible to construct malicious pickle data which will execute arbitrary code during unpickling (See https://github.com/pytorch/pytorch/blob/main/SECURITY.md#untrusted-models for more details). In a future release, the default value for `weights_only` will be flipped to `True`. This limits the functions that could be executed during unpickling. Arbitrary objects will no longer be allowed to be loaded via this mode unless they are explicitly allowlisted by the user via `torch.serialization.add_safe_globals`. We recommend you start setting `weights_only=True` for any use case where you don't have full control of the loaded file. Please open an issue on GitHub for any issues related to this experimental feature.\n",
      "  checkpoint = torch.load(path, map_location=config.DEVICE)\n"
     ]
    },
    {
     "name": "stdout",
     "output_type": "stream",
     "text": [
      "Using Device: cuda\n",
      "=> Loading checkpoint\n",
      "checkpoint file White-box-Cartoonization-PyTorch/weights/sceneryonly.pth.tar loaded.\n",
      "=> Finish Inference.\n"
     ]
    },
    {
     "name": "stderr",
     "output_type": "stream",
     "text": [
      "C:\\Users\\alper\\AppData\\Roaming\\Python\\Python312\\site-packages\\albumentations\\__init__.py:28: UserWarning: A new version of Albumentations is available: '2.0.7' (you have '2.0.6'). Upgrade using: pip install -U albumentations. To disable automatic update checks, set the environment variable NO_ALBUMENTATIONS_UPDATE to 1.\n",
      "  check_for_updates()\n",
      "C:\\Users\\alper\\PycharmProjects\\PhotographyProject\\White-box-Cartoonization-PyTorch\\utils.py:85: FutureWarning: You are using `torch.load` with `weights_only=False` (the current default value), which uses the default pickle module implicitly. It is possible to construct malicious pickle data which will execute arbitrary code during unpickling (See https://github.com/pytorch/pytorch/blob/main/SECURITY.md#untrusted-models for more details). In a future release, the default value for `weights_only` will be flipped to `True`. This limits the functions that could be executed during unpickling. Arbitrary objects will no longer be allowed to be loaded via this mode unless they are explicitly allowlisted by the user via `torch.serialization.add_safe_globals`. We recommend you start setting `weights_only=True` for any use case where you don't have full control of the loaded file. Please open an issue on GitHub for any issues related to this experimental feature.\n",
      "  checkpoint = torch.load(path, map_location=config.DEVICE)\n"
     ]
    },
    {
     "name": "stdout",
     "output_type": "stream",
     "text": [
      "Using Device: cuda\n",
      "=> Loading checkpoint\n",
      "checkpoint file White-box-Cartoonization-PyTorch/weights/sceneryonly.pth.tar loaded.\n",
      "=> Finish Inference.\n"
     ]
    },
    {
     "name": "stderr",
     "output_type": "stream",
     "text": [
      "C:\\Users\\alper\\AppData\\Roaming\\Python\\Python312\\site-packages\\albumentations\\__init__.py:28: UserWarning: A new version of Albumentations is available: '2.0.7' (you have '2.0.6'). Upgrade using: pip install -U albumentations. To disable automatic update checks, set the environment variable NO_ALBUMENTATIONS_UPDATE to 1.\n",
      "  check_for_updates()\n",
      "C:\\Users\\alper\\PycharmProjects\\PhotographyProject\\White-box-Cartoonization-PyTorch\\utils.py:85: FutureWarning: You are using `torch.load` with `weights_only=False` (the current default value), which uses the default pickle module implicitly. It is possible to construct malicious pickle data which will execute arbitrary code during unpickling (See https://github.com/pytorch/pytorch/blob/main/SECURITY.md#untrusted-models for more details). In a future release, the default value for `weights_only` will be flipped to `True`. This limits the functions that could be executed during unpickling. Arbitrary objects will no longer be allowed to be loaded via this mode unless they are explicitly allowlisted by the user via `torch.serialization.add_safe_globals`. We recommend you start setting `weights_only=True` for any use case where you don't have full control of the loaded file. Please open an issue on GitHub for any issues related to this experimental feature.\n",
      "  checkpoint = torch.load(path, map_location=config.DEVICE)\n"
     ]
    },
    {
     "name": "stdout",
     "output_type": "stream",
     "text": [
      "Using Device: cuda\n",
      "=> Loading checkpoint\n",
      "checkpoint file White-box-Cartoonization-PyTorch/weights/sceneryonly.pth.tar loaded.\n",
      "=> Finish Inference.\n",
      "Using Device: cuda\n",
      "=> Loading checkpoint\n",
      "checkpoint file White-box-Cartoonization-PyTorch/weights/sceneryonly.pth.tar loaded.\n",
      "=> Finish Inference.\n"
     ]
    },
    {
     "name": "stderr",
     "output_type": "stream",
     "text": [
      "C:\\Users\\alper\\AppData\\Roaming\\Python\\Python312\\site-packages\\albumentations\\__init__.py:28: UserWarning: A new version of Albumentations is available: '2.0.7' (you have '2.0.6'). Upgrade using: pip install -U albumentations. To disable automatic update checks, set the environment variable NO_ALBUMENTATIONS_UPDATE to 1.\n",
      "  check_for_updates()\n",
      "C:\\Users\\alper\\PycharmProjects\\PhotographyProject\\White-box-Cartoonization-PyTorch\\utils.py:85: FutureWarning: You are using `torch.load` with `weights_only=False` (the current default value), which uses the default pickle module implicitly. It is possible to construct malicious pickle data which will execute arbitrary code during unpickling (See https://github.com/pytorch/pytorch/blob/main/SECURITY.md#untrusted-models for more details). In a future release, the default value for `weights_only` will be flipped to `True`. This limits the functions that could be executed during unpickling. Arbitrary objects will no longer be allowed to be loaded via this mode unless they are explicitly allowlisted by the user via `torch.serialization.add_safe_globals`. We recommend you start setting `weights_only=True` for any use case where you don't have full control of the loaded file. Please open an issue on GitHub for any issues related to this experimental feature.\n",
      "  checkpoint = torch.load(path, map_location=config.DEVICE)\n",
      "C:\\Users\\alper\\AppData\\Roaming\\Python\\Python312\\site-packages\\albumentations\\__init__.py:28: UserWarning: A new version of Albumentations is available: '2.0.7' (you have '2.0.6'). Upgrade using: pip install -U albumentations. To disable automatic update checks, set the environment variable NO_ALBUMENTATIONS_UPDATE to 1.\n",
      "  check_for_updates()\n",
      "C:\\Users\\alper\\PycharmProjects\\PhotographyProject\\White-box-Cartoonization-PyTorch\\utils.py:85: FutureWarning: You are using `torch.load` with `weights_only=False` (the current default value), which uses the default pickle module implicitly. It is possible to construct malicious pickle data which will execute arbitrary code during unpickling (See https://github.com/pytorch/pytorch/blob/main/SECURITY.md#untrusted-models for more details). In a future release, the default value for `weights_only` will be flipped to `True`. This limits the functions that could be executed during unpickling. Arbitrary objects will no longer be allowed to be loaded via this mode unless they are explicitly allowlisted by the user via `torch.serialization.add_safe_globals`. We recommend you start setting `weights_only=True` for any use case where you don't have full control of the loaded file. Please open an issue on GitHub for any issues related to this experimental feature.\n",
      "  checkpoint = torch.load(path, map_location=config.DEVICE)\n"
     ]
    },
    {
     "name": "stdout",
     "output_type": "stream",
     "text": [
      "Using Device: cuda\n",
      "=> Loading checkpoint\n",
      "checkpoint file White-box-Cartoonization-PyTorch/weights/sceneryonly.pth.tar loaded.\n",
      "=> Finish Inference.\n"
     ]
    }
   ],
   "execution_count": 13
  },
  {
   "metadata": {
    "ExecuteTime": {
     "end_time": "2025-05-27T14:44:28.410041Z",
     "start_time": "2025-05-27T14:44:28.008222Z"
    }
   },
   "cell_type": "code",
   "source": [
    "import pandas as pd\n",
    "\n",
    "df = pd.DataFrame(results)\n",
    "df.to_excel(\"results.xlsx\", index=False)"
   ],
   "id": "e347ff914ade8f6e",
   "outputs": [],
   "execution_count": 14
  },
  {
   "metadata": {
    "ExecuteTime": {
     "end_time": "2025-05-27T14:44:32.094269Z",
     "start_time": "2025-05-27T14:44:32.085862Z"
    }
   },
   "cell_type": "code",
   "source": "print(df.head(6))",
   "id": "56b065d3f64a8e7d",
   "outputs": [
    {
     "name": "stdout",
     "output_type": "stream",
     "text": [
      "  image  psnr_whitebox  ssim_whitebox  edge_density_whitebox  \\\n",
      "0     1      18.709553       0.684872               0.084869   \n",
      "1    10      18.964402       0.788535               0.053089   \n",
      "2    11      19.830684       0.736552               0.064613   \n",
      "3    12      21.148936       0.803674               0.080408   \n",
      "4    13      17.892494       0.713085               0.098598   \n",
      "5    14      18.181533       0.732848               0.062708   \n",
      "\n",
      "   inference_time_whitebox  psnr_animegan  ssim_animegan  \\\n",
      "0                 6.585226      10.814131       0.202850   \n",
      "1                 6.024757      12.782122       0.396515   \n",
      "2                 5.662544      10.749467       0.207233   \n",
      "3                 5.630966      10.089176       0.247632   \n",
      "4                 6.013376      11.123050       0.210766   \n",
      "5                 6.011418      11.766737       0.419647   \n",
      "\n",
      "   edge_density_animegan  inference_time_animegan  \n",
      "0               0.049068                 1.283805  \n",
      "1               0.063393                 1.196299  \n",
      "2               0.047448                 1.198852  \n",
      "3               0.049765                 1.171626  \n",
      "4               0.039498                 1.215749  \n",
      "5               0.031383                 1.209177  \n"
     ]
    }
   ],
   "execution_count": 15
  },
  {
   "metadata": {
    "ExecuteTime": {
     "end_time": "2025-05-27T14:44:35.274858Z",
     "start_time": "2025-05-27T14:44:35.267184Z"
    }
   },
   "cell_type": "code",
   "source": "print(df.tail(6))",
   "id": "8880634ff94a6f55",
   "outputs": [
    {
     "name": "stdout",
     "output_type": "stream",
     "text": [
      "   image  psnr_whitebox  ssim_whitebox  edge_density_whitebox  \\\n",
      "34    40      18.411350       0.748414               0.046113   \n",
      "35     5      10.336611       0.003988               0.048082   \n",
      "36     6      18.943021       0.638930               0.040560   \n",
      "37     7      19.762702       0.736915               0.030824   \n",
      "38     8      19.171886       0.809744               0.043766   \n",
      "39     9      20.000067       0.795758               0.054896   \n",
      "\n",
      "    inference_time_whitebox  psnr_animegan  ssim_animegan  \\\n",
      "34                 5.692884      11.728167       0.348143   \n",
      "35                 5.777306       9.952171       0.251099   \n",
      "36                 5.932157      13.221953       0.331101   \n",
      "37                 5.698165      13.508703       0.387704   \n",
      "38                 5.642408      15.772881       0.571769   \n",
      "39                 5.598834      13.988210       0.351480   \n",
      "\n",
      "    edge_density_animegan  inference_time_animegan  \n",
      "34               0.038502                 1.197020  \n",
      "35               0.051925                 1.211779  \n",
      "36               0.013017                 1.178129  \n",
      "37               0.022997                 1.210200  \n",
      "38               0.031597                 1.189798  \n",
      "39               0.037373                 1.177626  \n"
     ]
    }
   ],
   "execution_count": 16
  },
  {
   "metadata": {},
   "cell_type": "code",
   "outputs": [],
   "execution_count": null,
   "source": "",
   "id": "c8cd9c0c2b789cbb"
  },
  {
   "metadata": {
    "ExecuteTime": {
     "end_time": "2025-05-27T15:44:50.936062Z",
     "start_time": "2025-05-27T15:44:50.931797Z"
    }
   },
   "cell_type": "code",
   "source": "bilateral_inputs = sorted(glob(os.path.join(\"output_bilateral\", \"*.png\")))",
   "id": "d1e45c0ac452216f",
   "outputs": [],
   "execution_count": 23
  },
  {
   "metadata": {
    "ExecuteTime": {
     "end_time": "2025-05-27T15:44:52.390034Z",
     "start_time": "2025-05-27T15:44:52.378174Z"
    }
   },
   "cell_type": "code",
   "source": "print(bilateral_inputs)",
   "id": "1c43774e0e1e43b9",
   "outputs": [
    {
     "name": "stdout",
     "output_type": "stream",
     "text": [
      "['output_bilateral\\\\10_bilateral.png', 'output_bilateral\\\\11_bilateral.png', 'output_bilateral\\\\12_bilateral.png', 'output_bilateral\\\\13_bilateral.png', 'output_bilateral\\\\14_bilateral.png', 'output_bilateral\\\\15_bilateral.png', 'output_bilateral\\\\16_bilateral.png', 'output_bilateral\\\\17_bilateral.png', 'output_bilateral\\\\18_bilateral.png', 'output_bilateral\\\\19_bilateral.png', 'output_bilateral\\\\1_bilateral.png', 'output_bilateral\\\\20_bilateral.png', 'output_bilateral\\\\21_bilateral.png', 'output_bilateral\\\\22_bilateral.png', 'output_bilateral\\\\23_bilateral.png', 'output_bilateral\\\\24_bilateral.png', 'output_bilateral\\\\25_bilateral.png', 'output_bilateral\\\\26_bilateral.png', 'output_bilateral\\\\27_bilateral.png', 'output_bilateral\\\\28_bilateral.png', 'output_bilateral\\\\29_bilateral.png', 'output_bilateral\\\\2_bilateral.png', 'output_bilateral\\\\30_bilateral.png', 'output_bilateral\\\\31_bilateral.png', 'output_bilateral\\\\32_bilateral.png', 'output_bilateral\\\\33_bilateral.png', 'output_bilateral\\\\34_bilateral.png', 'output_bilateral\\\\35_bilateral.png', 'output_bilateral\\\\36_bilateral.png', 'output_bilateral\\\\37_bilateral.png', 'output_bilateral\\\\38_bilateral.png', 'output_bilateral\\\\39_bilateral.png', 'output_bilateral\\\\3_bilateral.png', 'output_bilateral\\\\40_bilateral.png', 'output_bilateral\\\\4_bilateral.png', 'output_bilateral\\\\5_bilateral.png', 'output_bilateral\\\\6_bilateral.png', 'output_bilateral\\\\7_bilateral.png', 'output_bilateral\\\\8_bilateral.png', 'output_bilateral\\\\9_bilateral.png']\n"
     ]
    }
   ],
   "execution_count": 24
  },
  {
   "metadata": {
    "ExecuteTime": {
     "end_time": "2025-05-27T15:51:08.731873Z",
     "start_time": "2025-05-27T15:45:37.148571Z"
    }
   },
   "cell_type": "code",
   "source": [
    "\n",
    "results_fuse_bilateral=[]\n",
    "os.makedirs(\"whitebox_output_bilateral\", exist_ok=True)\n",
    "os.makedirs(\"animegan_output_bilateral\", exist_ok=True)\n",
    "\n",
    "\n",
    "for img_path in bilateral_inputs:\n",
    "    filename = os.path.splitext(os.path.basename(img_path))[0]\n",
    "    \n",
    "    start_w = time.time()\n",
    "    !python White-box-Cartoonization-PyTorch/inference.py -s {img_path} -w White-box-Cartoonization-PyTorch/weights/sceneryonly.pth.tar --dest_folder whitebox_output_bilateral --suffix cartoon\n",
    "    end_w = time.time()\n",
    "\n",
    "    start_a = time.time()\n",
    "    img = Image.open(img_path).convert(\"RGB\")\n",
    "    output = face2paint(anime_model, img)\n",
    "    anime_out_path = f\"animegan_output_bilateral/{filename}_cartoon.jpg\"\n",
    "    output.save(anime_out_path)\n",
    "    end_a = time.time()\n",
    "\n",
    "    original = safe_imread(img_path)\n",
    "    whitebox_out_path = os.path.splitext(img_path)[0] + \".pngcartoon.png\"  \n",
    "    whitebox = imread(whitebox_out_path)\n",
    "    animegan = imread(anime_out_path)\n",
    "\n",
    "    target_size = (original.shape[1], original.shape[0])  \n",
    "    if whitebox.shape[:2] != original.shape[:2]:\n",
    "        whitebox = cv2.resize(whitebox, target_size, interpolation=cv2.INTER_AREA)\n",
    "    if animegan.shape[:2] != original.shape[:2]:\n",
    "        animegan = cv2.resize(animegan, target_size, interpolation=cv2.INTER_AREA)\n",
    "\n",
    "    psnr_w = psnr(original, whitebox, data_range=255)\n",
    "    ssim_w = ssim(original, whitebox, channel_axis=-1, data_range=255)\n",
    "    edge_w = edge_density(whitebox)\n",
    "    time_w = end_w - start_w\n",
    "\n",
    "    psnr_a = psnr(original, animegan, data_range=255)\n",
    "    ssim_a = ssim(original, animegan, channel_axis=-1, data_range=255)\n",
    "    edge_a = edge_density(animegan)\n",
    "    time_a = end_a - start_a\n",
    "\n",
    "    #show_results(original, whitebox, animegan, psnr_w, ssim_w, psnr_a, ssim_a, filename)\n",
    "    '''results.append({\n",
    "        \"image\": filename,\n",
    "        \"psnr_whitebox\": psnr_w,\n",
    "        \"ssim_whitebox\": ssim_w,\n",
    "        \"psnr_animegan\": psnr_a,\n",
    "        \"ssim_animegan\": ssim_a\n",
    "    })'''\n",
    "    results_fuse_bilateral.append({\n",
    "        \"image\": filename,\n",
    "        \"psnr_whitebox\": psnr_w,\n",
    "        \"ssim_whitebox\": ssim_w,\n",
    "        \"edge_density_whitebox\": edge_w,\n",
    "        \"inference_time_whitebox\": time_w,\n",
    "        \"psnr_animegan\": psnr_a,\n",
    "        \"ssim_animegan\": ssim_a,\n",
    "        \"edge_density_animegan\": edge_a,\n",
    "        \"inference_time_animegan\": time_a\n",
    "    })\n",
    "\n",
    "    "
   ],
   "id": "36d14dd5488ef882",
   "outputs": [
    {
     "name": "stdout",
     "output_type": "stream",
     "text": [
      "Using Device: cuda\n",
      "=> Loading checkpoint\n",
      "checkpoint file White-box-Cartoonization-PyTorch/weights/sceneryonly.pth.tar loaded.\n",
      "=> Finish Inference.\n"
     ]
    },
    {
     "name": "stderr",
     "output_type": "stream",
     "text": [
      "C:\\Users\\alper\\AppData\\Roaming\\Python\\Python312\\site-packages\\albumentations\\__init__.py:28: UserWarning: A new version of Albumentations is available: '2.0.7' (you have '2.0.6'). Upgrade using: pip install -U albumentations. To disable automatic update checks, set the environment variable NO_ALBUMENTATIONS_UPDATE to 1.\n",
      "  check_for_updates()\n",
      "C:\\Users\\alper\\PycharmProjects\\PhotographyProject\\White-box-Cartoonization-PyTorch\\utils.py:85: FutureWarning: You are using `torch.load` with `weights_only=False` (the current default value), which uses the default pickle module implicitly. It is possible to construct malicious pickle data which will execute arbitrary code during unpickling (See https://github.com/pytorch/pytorch/blob/main/SECURITY.md#untrusted-models for more details). In a future release, the default value for `weights_only` will be flipped to `True`. This limits the functions that could be executed during unpickling. Arbitrary objects will no longer be allowed to be loaded via this mode unless they are explicitly allowlisted by the user via `torch.serialization.add_safe_globals`. We recommend you start setting `weights_only=True` for any use case where you don't have full control of the loaded file. Please open an issue on GitHub for any issues related to this experimental feature.\n",
      "  checkpoint = torch.load(path, map_location=config.DEVICE)\n",
      "C:\\Users\\alper\\AppData\\Roaming\\Python\\Python312\\site-packages\\albumentations\\__init__.py:28: UserWarning: A new version of Albumentations is available: '2.0.7' (you have '2.0.6'). Upgrade using: pip install -U albumentations. To disable automatic update checks, set the environment variable NO_ALBUMENTATIONS_UPDATE to 1.\n",
      "  check_for_updates()\n",
      "C:\\Users\\alper\\PycharmProjects\\PhotographyProject\\White-box-Cartoonization-PyTorch\\utils.py:85: FutureWarning: You are using `torch.load` with `weights_only=False` (the current default value), which uses the default pickle module implicitly. It is possible to construct malicious pickle data which will execute arbitrary code during unpickling (See https://github.com/pytorch/pytorch/blob/main/SECURITY.md#untrusted-models for more details). In a future release, the default value for `weights_only` will be flipped to `True`. This limits the functions that could be executed during unpickling. Arbitrary objects will no longer be allowed to be loaded via this mode unless they are explicitly allowlisted by the user via `torch.serialization.add_safe_globals`. We recommend you start setting `weights_only=True` for any use case where you don't have full control of the loaded file. Please open an issue on GitHub for any issues related to this experimental feature.\n",
      "  checkpoint = torch.load(path, map_location=config.DEVICE)\n"
     ]
    },
    {
     "name": "stdout",
     "output_type": "stream",
     "text": [
      "Using Device: cuda\n",
      "=> Loading checkpoint\n",
      "checkpoint file White-box-Cartoonization-PyTorch/weights/sceneryonly.pth.tar loaded.\n",
      "=> Finish Inference.\n",
      "Using Device: cuda\n",
      "=> Loading checkpoint\n",
      "checkpoint file White-box-Cartoonization-PyTorch/weights/sceneryonly.pth.tar loaded.\n",
      "=> Finish Inference.\n"
     ]
    },
    {
     "name": "stderr",
     "output_type": "stream",
     "text": [
      "C:\\Users\\alper\\AppData\\Roaming\\Python\\Python312\\site-packages\\albumentations\\__init__.py:28: UserWarning: A new version of Albumentations is available: '2.0.7' (you have '2.0.6'). Upgrade using: pip install -U albumentations. To disable automatic update checks, set the environment variable NO_ALBUMENTATIONS_UPDATE to 1.\n",
      "  check_for_updates()\n",
      "C:\\Users\\alper\\PycharmProjects\\PhotographyProject\\White-box-Cartoonization-PyTorch\\utils.py:85: FutureWarning: You are using `torch.load` with `weights_only=False` (the current default value), which uses the default pickle module implicitly. It is possible to construct malicious pickle data which will execute arbitrary code during unpickling (See https://github.com/pytorch/pytorch/blob/main/SECURITY.md#untrusted-models for more details). In a future release, the default value for `weights_only` will be flipped to `True`. This limits the functions that could be executed during unpickling. Arbitrary objects will no longer be allowed to be loaded via this mode unless they are explicitly allowlisted by the user via `torch.serialization.add_safe_globals`. We recommend you start setting `weights_only=True` for any use case where you don't have full control of the loaded file. Please open an issue on GitHub for any issues related to this experimental feature.\n",
      "  checkpoint = torch.load(path, map_location=config.DEVICE)\n"
     ]
    },
    {
     "name": "stdout",
     "output_type": "stream",
     "text": [
      "Using Device: cuda\n",
      "=> Loading checkpoint\n",
      "checkpoint file White-box-Cartoonization-PyTorch/weights/sceneryonly.pth.tar loaded.\n",
      "=> Finish Inference.\n"
     ]
    },
    {
     "name": "stderr",
     "output_type": "stream",
     "text": [
      "C:\\Users\\alper\\AppData\\Roaming\\Python\\Python312\\site-packages\\albumentations\\__init__.py:28: UserWarning: A new version of Albumentations is available: '2.0.7' (you have '2.0.6'). Upgrade using: pip install -U albumentations. To disable automatic update checks, set the environment variable NO_ALBUMENTATIONS_UPDATE to 1.\n",
      "  check_for_updates()\n",
      "C:\\Users\\alper\\PycharmProjects\\PhotographyProject\\White-box-Cartoonization-PyTorch\\utils.py:85: FutureWarning: You are using `torch.load` with `weights_only=False` (the current default value), which uses the default pickle module implicitly. It is possible to construct malicious pickle data which will execute arbitrary code during unpickling (See https://github.com/pytorch/pytorch/blob/main/SECURITY.md#untrusted-models for more details). In a future release, the default value for `weights_only` will be flipped to `True`. This limits the functions that could be executed during unpickling. Arbitrary objects will no longer be allowed to be loaded via this mode unless they are explicitly allowlisted by the user via `torch.serialization.add_safe_globals`. We recommend you start setting `weights_only=True` for any use case where you don't have full control of the loaded file. Please open an issue on GitHub for any issues related to this experimental feature.\n",
      "  checkpoint = torch.load(path, map_location=config.DEVICE)\n",
      "C:\\Users\\alper\\AppData\\Roaming\\Python\\Python312\\site-packages\\albumentations\\__init__.py:28: UserWarning: A new version of Albumentations is available: '2.0.7' (you have '2.0.6'). Upgrade using: pip install -U albumentations. To disable automatic update checks, set the environment variable NO_ALBUMENTATIONS_UPDATE to 1.\n",
      "  check_for_updates()\n",
      "C:\\Users\\alper\\PycharmProjects\\PhotographyProject\\White-box-Cartoonization-PyTorch\\utils.py:85: FutureWarning: You are using `torch.load` with `weights_only=False` (the current default value), which uses the default pickle module implicitly. It is possible to construct malicious pickle data which will execute arbitrary code during unpickling (See https://github.com/pytorch/pytorch/blob/main/SECURITY.md#untrusted-models for more details). In a future release, the default value for `weights_only` will be flipped to `True`. This limits the functions that could be executed during unpickling. Arbitrary objects will no longer be allowed to be loaded via this mode unless they are explicitly allowlisted by the user via `torch.serialization.add_safe_globals`. We recommend you start setting `weights_only=True` for any use case where you don't have full control of the loaded file. Please open an issue on GitHub for any issues related to this experimental feature.\n",
      "  checkpoint = torch.load(path, map_location=config.DEVICE)\n"
     ]
    },
    {
     "name": "stdout",
     "output_type": "stream",
     "text": [
      "Using Device: cuda\n",
      "=> Loading checkpoint\n",
      "checkpoint file White-box-Cartoonization-PyTorch/weights/sceneryonly.pth.tar loaded.\n",
      "=> Finish Inference.\n",
      "Using Device: cuda\n",
      "=> Loading checkpoint\n",
      "checkpoint file White-box-Cartoonization-PyTorch/weights/sceneryonly.pth.tar loaded.\n",
      "=> Finish Inference.\n"
     ]
    },
    {
     "name": "stderr",
     "output_type": "stream",
     "text": [
      "C:\\Users\\alper\\AppData\\Roaming\\Python\\Python312\\site-packages\\albumentations\\__init__.py:28: UserWarning: A new version of Albumentations is available: '2.0.7' (you have '2.0.6'). Upgrade using: pip install -U albumentations. To disable automatic update checks, set the environment variable NO_ALBUMENTATIONS_UPDATE to 1.\n",
      "  check_for_updates()\n",
      "C:\\Users\\alper\\PycharmProjects\\PhotographyProject\\White-box-Cartoonization-PyTorch\\utils.py:85: FutureWarning: You are using `torch.load` with `weights_only=False` (the current default value), which uses the default pickle module implicitly. It is possible to construct malicious pickle data which will execute arbitrary code during unpickling (See https://github.com/pytorch/pytorch/blob/main/SECURITY.md#untrusted-models for more details). In a future release, the default value for `weights_only` will be flipped to `True`. This limits the functions that could be executed during unpickling. Arbitrary objects will no longer be allowed to be loaded via this mode unless they are explicitly allowlisted by the user via `torch.serialization.add_safe_globals`. We recommend you start setting `weights_only=True` for any use case where you don't have full control of the loaded file. Please open an issue on GitHub for any issues related to this experimental feature.\n",
      "  checkpoint = torch.load(path, map_location=config.DEVICE)\n"
     ]
    },
    {
     "name": "stdout",
     "output_type": "stream",
     "text": [
      "Using Device: cuda\n",
      "=> Loading checkpoint\n",
      "checkpoint file White-box-Cartoonization-PyTorch/weights/sceneryonly.pth.tar loaded.\n",
      "=> Finish Inference.\n"
     ]
    },
    {
     "name": "stderr",
     "output_type": "stream",
     "text": [
      "C:\\Users\\alper\\AppData\\Roaming\\Python\\Python312\\site-packages\\albumentations\\__init__.py:28: UserWarning: A new version of Albumentations is available: '2.0.7' (you have '2.0.6'). Upgrade using: pip install -U albumentations. To disable automatic update checks, set the environment variable NO_ALBUMENTATIONS_UPDATE to 1.\n",
      "  check_for_updates()\n",
      "C:\\Users\\alper\\PycharmProjects\\PhotographyProject\\White-box-Cartoonization-PyTorch\\utils.py:85: FutureWarning: You are using `torch.load` with `weights_only=False` (the current default value), which uses the default pickle module implicitly. It is possible to construct malicious pickle data which will execute arbitrary code during unpickling (See https://github.com/pytorch/pytorch/blob/main/SECURITY.md#untrusted-models for more details). In a future release, the default value for `weights_only` will be flipped to `True`. This limits the functions that could be executed during unpickling. Arbitrary objects will no longer be allowed to be loaded via this mode unless they are explicitly allowlisted by the user via `torch.serialization.add_safe_globals`. We recommend you start setting `weights_only=True` for any use case where you don't have full control of the loaded file. Please open an issue on GitHub for any issues related to this experimental feature.\n",
      "  checkpoint = torch.load(path, map_location=config.DEVICE)\n"
     ]
    },
    {
     "name": "stdout",
     "output_type": "stream",
     "text": [
      "Using Device: cuda\n",
      "=> Loading checkpoint\n",
      "checkpoint file White-box-Cartoonization-PyTorch/weights/sceneryonly.pth.tar loaded.\n",
      "=> Finish Inference.\n"
     ]
    },
    {
     "name": "stderr",
     "output_type": "stream",
     "text": [
      "C:\\Users\\alper\\AppData\\Roaming\\Python\\Python312\\site-packages\\albumentations\\__init__.py:28: UserWarning: A new version of Albumentations is available: '2.0.7' (you have '2.0.6'). Upgrade using: pip install -U albumentations. To disable automatic update checks, set the environment variable NO_ALBUMENTATIONS_UPDATE to 1.\n",
      "  check_for_updates()\n",
      "C:\\Users\\alper\\PycharmProjects\\PhotographyProject\\White-box-Cartoonization-PyTorch\\utils.py:85: FutureWarning: You are using `torch.load` with `weights_only=False` (the current default value), which uses the default pickle module implicitly. It is possible to construct malicious pickle data which will execute arbitrary code during unpickling (See https://github.com/pytorch/pytorch/blob/main/SECURITY.md#untrusted-models for more details). In a future release, the default value for `weights_only` will be flipped to `True`. This limits the functions that could be executed during unpickling. Arbitrary objects will no longer be allowed to be loaded via this mode unless they are explicitly allowlisted by the user via `torch.serialization.add_safe_globals`. We recommend you start setting `weights_only=True` for any use case where you don't have full control of the loaded file. Please open an issue on GitHub for any issues related to this experimental feature.\n",
      "  checkpoint = torch.load(path, map_location=config.DEVICE)\n"
     ]
    },
    {
     "name": "stdout",
     "output_type": "stream",
     "text": [
      "Using Device: cuda\n",
      "=> Loading checkpoint\n",
      "checkpoint file White-box-Cartoonization-PyTorch/weights/sceneryonly.pth.tar loaded.\n",
      "=> Finish Inference.\n"
     ]
    },
    {
     "name": "stderr",
     "output_type": "stream",
     "text": [
      "C:\\Users\\alper\\AppData\\Roaming\\Python\\Python312\\site-packages\\albumentations\\__init__.py:28: UserWarning: A new version of Albumentations is available: '2.0.7' (you have '2.0.6'). Upgrade using: pip install -U albumentations. To disable automatic update checks, set the environment variable NO_ALBUMENTATIONS_UPDATE to 1.\n",
      "  check_for_updates()\n",
      "C:\\Users\\alper\\PycharmProjects\\PhotographyProject\\White-box-Cartoonization-PyTorch\\utils.py:85: FutureWarning: You are using `torch.load` with `weights_only=False` (the current default value), which uses the default pickle module implicitly. It is possible to construct malicious pickle data which will execute arbitrary code during unpickling (See https://github.com/pytorch/pytorch/blob/main/SECURITY.md#untrusted-models for more details). In a future release, the default value for `weights_only` will be flipped to `True`. This limits the functions that could be executed during unpickling. Arbitrary objects will no longer be allowed to be loaded via this mode unless they are explicitly allowlisted by the user via `torch.serialization.add_safe_globals`. We recommend you start setting `weights_only=True` for any use case where you don't have full control of the loaded file. Please open an issue on GitHub for any issues related to this experimental feature.\n",
      "  checkpoint = torch.load(path, map_location=config.DEVICE)\n",
      "C:\\Users\\alper\\AppData\\Roaming\\Python\\Python312\\site-packages\\albumentations\\__init__.py:28: UserWarning: A new version of Albumentations is available: '2.0.7' (you have '2.0.6'). Upgrade using: pip install -U albumentations. To disable automatic update checks, set the environment variable NO_ALBUMENTATIONS_UPDATE to 1.\n",
      "  check_for_updates()\n",
      "C:\\Users\\alper\\PycharmProjects\\PhotographyProject\\White-box-Cartoonization-PyTorch\\utils.py:85: FutureWarning: You are using `torch.load` with `weights_only=False` (the current default value), which uses the default pickle module implicitly. It is possible to construct malicious pickle data which will execute arbitrary code during unpickling (See https://github.com/pytorch/pytorch/blob/main/SECURITY.md#untrusted-models for more details). In a future release, the default value for `weights_only` will be flipped to `True`. This limits the functions that could be executed during unpickling. Arbitrary objects will no longer be allowed to be loaded via this mode unless they are explicitly allowlisted by the user via `torch.serialization.add_safe_globals`. We recommend you start setting `weights_only=True` for any use case where you don't have full control of the loaded file. Please open an issue on GitHub for any issues related to this experimental feature.\n",
      "  checkpoint = torch.load(path, map_location=config.DEVICE)\n"
     ]
    },
    {
     "name": "stdout",
     "output_type": "stream",
     "text": [
      "Using Device: cuda\n",
      "=> Loading checkpoint\n",
      "checkpoint file White-box-Cartoonization-PyTorch/weights/sceneryonly.pth.tar loaded.\n",
      "=> Finish Inference.\n",
      "Using Device: cuda\n",
      "=> Loading checkpoint\n",
      "checkpoint file White-box-Cartoonization-PyTorch/weights/sceneryonly.pth.tar loaded.\n",
      "=> Finish Inference.\n"
     ]
    },
    {
     "name": "stderr",
     "output_type": "stream",
     "text": [
      "C:\\Users\\alper\\AppData\\Roaming\\Python\\Python312\\site-packages\\albumentations\\__init__.py:28: UserWarning: A new version of Albumentations is available: '2.0.7' (you have '2.0.6'). Upgrade using: pip install -U albumentations. To disable automatic update checks, set the environment variable NO_ALBUMENTATIONS_UPDATE to 1.\n",
      "  check_for_updates()\n",
      "C:\\Users\\alper\\PycharmProjects\\PhotographyProject\\White-box-Cartoonization-PyTorch\\utils.py:85: FutureWarning: You are using `torch.load` with `weights_only=False` (the current default value), which uses the default pickle module implicitly. It is possible to construct malicious pickle data which will execute arbitrary code during unpickling (See https://github.com/pytorch/pytorch/blob/main/SECURITY.md#untrusted-models for more details). In a future release, the default value for `weights_only` will be flipped to `True`. This limits the functions that could be executed during unpickling. Arbitrary objects will no longer be allowed to be loaded via this mode unless they are explicitly allowlisted by the user via `torch.serialization.add_safe_globals`. We recommend you start setting `weights_only=True` for any use case where you don't have full control of the loaded file. Please open an issue on GitHub for any issues related to this experimental feature.\n",
      "  checkpoint = torch.load(path, map_location=config.DEVICE)\n"
     ]
    },
    {
     "name": "stdout",
     "output_type": "stream",
     "text": [
      "Using Device: cuda\n",
      "=> Loading checkpoint\n",
      "checkpoint file White-box-Cartoonization-PyTorch/weights/sceneryonly.pth.tar loaded.\n",
      "=> Finish Inference.\n"
     ]
    },
    {
     "name": "stderr",
     "output_type": "stream",
     "text": [
      "C:\\Users\\alper\\AppData\\Roaming\\Python\\Python312\\site-packages\\albumentations\\__init__.py:28: UserWarning: A new version of Albumentations is available: '2.0.7' (you have '2.0.6'). Upgrade using: pip install -U albumentations. To disable automatic update checks, set the environment variable NO_ALBUMENTATIONS_UPDATE to 1.\n",
      "  check_for_updates()\n",
      "C:\\Users\\alper\\PycharmProjects\\PhotographyProject\\White-box-Cartoonization-PyTorch\\utils.py:85: FutureWarning: You are using `torch.load` with `weights_only=False` (the current default value), which uses the default pickle module implicitly. It is possible to construct malicious pickle data which will execute arbitrary code during unpickling (See https://github.com/pytorch/pytorch/blob/main/SECURITY.md#untrusted-models for more details). In a future release, the default value for `weights_only` will be flipped to `True`. This limits the functions that could be executed during unpickling. Arbitrary objects will no longer be allowed to be loaded via this mode unless they are explicitly allowlisted by the user via `torch.serialization.add_safe_globals`. We recommend you start setting `weights_only=True` for any use case where you don't have full control of the loaded file. Please open an issue on GitHub for any issues related to this experimental feature.\n",
      "  checkpoint = torch.load(path, map_location=config.DEVICE)\n",
      "C:\\Users\\alper\\AppData\\Roaming\\Python\\Python312\\site-packages\\albumentations\\__init__.py:28: UserWarning: A new version of Albumentations is available: '2.0.7' (you have '2.0.6'). Upgrade using: pip install -U albumentations. To disable automatic update checks, set the environment variable NO_ALBUMENTATIONS_UPDATE to 1.\n",
      "  check_for_updates()\n",
      "C:\\Users\\alper\\PycharmProjects\\PhotographyProject\\White-box-Cartoonization-PyTorch\\utils.py:85: FutureWarning: You are using `torch.load` with `weights_only=False` (the current default value), which uses the default pickle module implicitly. It is possible to construct malicious pickle data which will execute arbitrary code during unpickling (See https://github.com/pytorch/pytorch/blob/main/SECURITY.md#untrusted-models for more details). In a future release, the default value for `weights_only` will be flipped to `True`. This limits the functions that could be executed during unpickling. Arbitrary objects will no longer be allowed to be loaded via this mode unless they are explicitly allowlisted by the user via `torch.serialization.add_safe_globals`. We recommend you start setting `weights_only=True` for any use case where you don't have full control of the loaded file. Please open an issue on GitHub for any issues related to this experimental feature.\n",
      "  checkpoint = torch.load(path, map_location=config.DEVICE)\n"
     ]
    },
    {
     "name": "stdout",
     "output_type": "stream",
     "text": [
      "Using Device: cuda\n",
      "=> Loading checkpoint\n",
      "checkpoint file White-box-Cartoonization-PyTorch/weights/sceneryonly.pth.tar loaded.\n",
      "=> Finish Inference.\n",
      "Using Device: cuda\n",
      "=> Loading checkpoint\n",
      "checkpoint file White-box-Cartoonization-PyTorch/weights/sceneryonly.pth.tar loaded.\n",
      "=> Finish Inference.\n"
     ]
    },
    {
     "name": "stderr",
     "output_type": "stream",
     "text": [
      "C:\\Users\\alper\\AppData\\Roaming\\Python\\Python312\\site-packages\\albumentations\\__init__.py:28: UserWarning: A new version of Albumentations is available: '2.0.7' (you have '2.0.6'). Upgrade using: pip install -U albumentations. To disable automatic update checks, set the environment variable NO_ALBUMENTATIONS_UPDATE to 1.\n",
      "  check_for_updates()\n",
      "C:\\Users\\alper\\PycharmProjects\\PhotographyProject\\White-box-Cartoonization-PyTorch\\utils.py:85: FutureWarning: You are using `torch.load` with `weights_only=False` (the current default value), which uses the default pickle module implicitly. It is possible to construct malicious pickle data which will execute arbitrary code during unpickling (See https://github.com/pytorch/pytorch/blob/main/SECURITY.md#untrusted-models for more details). In a future release, the default value for `weights_only` will be flipped to `True`. This limits the functions that could be executed during unpickling. Arbitrary objects will no longer be allowed to be loaded via this mode unless they are explicitly allowlisted by the user via `torch.serialization.add_safe_globals`. We recommend you start setting `weights_only=True` for any use case where you don't have full control of the loaded file. Please open an issue on GitHub for any issues related to this experimental feature.\n",
      "  checkpoint = torch.load(path, map_location=config.DEVICE)\n"
     ]
    },
    {
     "name": "stdout",
     "output_type": "stream",
     "text": [
      "Using Device: cuda\n",
      "=> Loading checkpoint\n",
      "checkpoint file White-box-Cartoonization-PyTorch/weights/sceneryonly.pth.tar loaded.\n",
      "=> Finish Inference.\n"
     ]
    },
    {
     "name": "stderr",
     "output_type": "stream",
     "text": [
      "C:\\Users\\alper\\AppData\\Roaming\\Python\\Python312\\site-packages\\albumentations\\__init__.py:28: UserWarning: A new version of Albumentations is available: '2.0.7' (you have '2.0.6'). Upgrade using: pip install -U albumentations. To disable automatic update checks, set the environment variable NO_ALBUMENTATIONS_UPDATE to 1.\n",
      "  check_for_updates()\n",
      "C:\\Users\\alper\\PycharmProjects\\PhotographyProject\\White-box-Cartoonization-PyTorch\\utils.py:85: FutureWarning: You are using `torch.load` with `weights_only=False` (the current default value), which uses the default pickle module implicitly. It is possible to construct malicious pickle data which will execute arbitrary code during unpickling (See https://github.com/pytorch/pytorch/blob/main/SECURITY.md#untrusted-models for more details). In a future release, the default value for `weights_only` will be flipped to `True`. This limits the functions that could be executed during unpickling. Arbitrary objects will no longer be allowed to be loaded via this mode unless they are explicitly allowlisted by the user via `torch.serialization.add_safe_globals`. We recommend you start setting `weights_only=True` for any use case where you don't have full control of the loaded file. Please open an issue on GitHub for any issues related to this experimental feature.\n",
      "  checkpoint = torch.load(path, map_location=config.DEVICE)\n",
      "C:\\Users\\alper\\AppData\\Roaming\\Python\\Python312\\site-packages\\albumentations\\__init__.py:28: UserWarning: A new version of Albumentations is available: '2.0.7' (you have '2.0.6'). Upgrade using: pip install -U albumentations. To disable automatic update checks, set the environment variable NO_ALBUMENTATIONS_UPDATE to 1.\n",
      "  check_for_updates()\n",
      "C:\\Users\\alper\\PycharmProjects\\PhotographyProject\\White-box-Cartoonization-PyTorch\\utils.py:85: FutureWarning: You are using `torch.load` with `weights_only=False` (the current default value), which uses the default pickle module implicitly. It is possible to construct malicious pickle data which will execute arbitrary code during unpickling (See https://github.com/pytorch/pytorch/blob/main/SECURITY.md#untrusted-models for more details). In a future release, the default value for `weights_only` will be flipped to `True`. This limits the functions that could be executed during unpickling. Arbitrary objects will no longer be allowed to be loaded via this mode unless they are explicitly allowlisted by the user via `torch.serialization.add_safe_globals`. We recommend you start setting `weights_only=True` for any use case where you don't have full control of the loaded file. Please open an issue on GitHub for any issues related to this experimental feature.\n",
      "  checkpoint = torch.load(path, map_location=config.DEVICE)\n"
     ]
    },
    {
     "name": "stdout",
     "output_type": "stream",
     "text": [
      "Using Device: cuda\n",
      "=> Loading checkpoint\n",
      "checkpoint file White-box-Cartoonization-PyTorch/weights/sceneryonly.pth.tar loaded.\n",
      "=> Finish Inference.\n",
      "Using Device: cuda\n",
      "=> Loading checkpoint\n",
      "checkpoint file White-box-Cartoonization-PyTorch/weights/sceneryonly.pth.tar loaded.\n",
      "=> Finish Inference.\n"
     ]
    },
    {
     "name": "stderr",
     "output_type": "stream",
     "text": [
      "C:\\Users\\alper\\AppData\\Roaming\\Python\\Python312\\site-packages\\albumentations\\__init__.py:28: UserWarning: A new version of Albumentations is available: '2.0.7' (you have '2.0.6'). Upgrade using: pip install -U albumentations. To disable automatic update checks, set the environment variable NO_ALBUMENTATIONS_UPDATE to 1.\n",
      "  check_for_updates()\n",
      "C:\\Users\\alper\\PycharmProjects\\PhotographyProject\\White-box-Cartoonization-PyTorch\\utils.py:85: FutureWarning: You are using `torch.load` with `weights_only=False` (the current default value), which uses the default pickle module implicitly. It is possible to construct malicious pickle data which will execute arbitrary code during unpickling (See https://github.com/pytorch/pytorch/blob/main/SECURITY.md#untrusted-models for more details). In a future release, the default value for `weights_only` will be flipped to `True`. This limits the functions that could be executed during unpickling. Arbitrary objects will no longer be allowed to be loaded via this mode unless they are explicitly allowlisted by the user via `torch.serialization.add_safe_globals`. We recommend you start setting `weights_only=True` for any use case where you don't have full control of the loaded file. Please open an issue on GitHub for any issues related to this experimental feature.\n",
      "  checkpoint = torch.load(path, map_location=config.DEVICE)\n",
      "C:\\Users\\alper\\AppData\\Roaming\\Python\\Python312\\site-packages\\albumentations\\__init__.py:28: UserWarning: A new version of Albumentations is available: '2.0.7' (you have '2.0.6'). Upgrade using: pip install -U albumentations. To disable automatic update checks, set the environment variable NO_ALBUMENTATIONS_UPDATE to 1.\n",
      "  check_for_updates()\n",
      "C:\\Users\\alper\\PycharmProjects\\PhotographyProject\\White-box-Cartoonization-PyTorch\\utils.py:85: FutureWarning: You are using `torch.load` with `weights_only=False` (the current default value), which uses the default pickle module implicitly. It is possible to construct malicious pickle data which will execute arbitrary code during unpickling (See https://github.com/pytorch/pytorch/blob/main/SECURITY.md#untrusted-models for more details). In a future release, the default value for `weights_only` will be flipped to `True`. This limits the functions that could be executed during unpickling. Arbitrary objects will no longer be allowed to be loaded via this mode unless they are explicitly allowlisted by the user via `torch.serialization.add_safe_globals`. We recommend you start setting `weights_only=True` for any use case where you don't have full control of the loaded file. Please open an issue on GitHub for any issues related to this experimental feature.\n",
      "  checkpoint = torch.load(path, map_location=config.DEVICE)\n"
     ]
    },
    {
     "name": "stdout",
     "output_type": "stream",
     "text": [
      "Using Device: cuda\n",
      "=> Loading checkpoint\n",
      "checkpoint file White-box-Cartoonization-PyTorch/weights/sceneryonly.pth.tar loaded.\n",
      "=> Finish Inference.\n",
      "Using Device: cuda\n",
      "=> Loading checkpoint\n",
      "checkpoint file White-box-Cartoonization-PyTorch/weights/sceneryonly.pth.tar loaded.\n",
      "=> Finish Inference.\n"
     ]
    },
    {
     "name": "stderr",
     "output_type": "stream",
     "text": [
      "C:\\Users\\alper\\AppData\\Roaming\\Python\\Python312\\site-packages\\albumentations\\__init__.py:28: UserWarning: A new version of Albumentations is available: '2.0.7' (you have '2.0.6'). Upgrade using: pip install -U albumentations. To disable automatic update checks, set the environment variable NO_ALBUMENTATIONS_UPDATE to 1.\n",
      "  check_for_updates()\n",
      "C:\\Users\\alper\\PycharmProjects\\PhotographyProject\\White-box-Cartoonization-PyTorch\\utils.py:85: FutureWarning: You are using `torch.load` with `weights_only=False` (the current default value), which uses the default pickle module implicitly. It is possible to construct malicious pickle data which will execute arbitrary code during unpickling (See https://github.com/pytorch/pytorch/blob/main/SECURITY.md#untrusted-models for more details). In a future release, the default value for `weights_only` will be flipped to `True`. This limits the functions that could be executed during unpickling. Arbitrary objects will no longer be allowed to be loaded via this mode unless they are explicitly allowlisted by the user via `torch.serialization.add_safe_globals`. We recommend you start setting `weights_only=True` for any use case where you don't have full control of the loaded file. Please open an issue on GitHub for any issues related to this experimental feature.\n",
      "  checkpoint = torch.load(path, map_location=config.DEVICE)\n"
     ]
    },
    {
     "name": "stdout",
     "output_type": "stream",
     "text": [
      "Using Device: cuda\n",
      "=> Loading checkpoint\n",
      "checkpoint file White-box-Cartoonization-PyTorch/weights/sceneryonly.pth.tar loaded.\n",
      "=> Finish Inference.\n"
     ]
    },
    {
     "name": "stderr",
     "output_type": "stream",
     "text": [
      "C:\\Users\\alper\\AppData\\Roaming\\Python\\Python312\\site-packages\\albumentations\\__init__.py:28: UserWarning: A new version of Albumentations is available: '2.0.7' (you have '2.0.6'). Upgrade using: pip install -U albumentations. To disable automatic update checks, set the environment variable NO_ALBUMENTATIONS_UPDATE to 1.\n",
      "  check_for_updates()\n",
      "C:\\Users\\alper\\PycharmProjects\\PhotographyProject\\White-box-Cartoonization-PyTorch\\utils.py:85: FutureWarning: You are using `torch.load` with `weights_only=False` (the current default value), which uses the default pickle module implicitly. It is possible to construct malicious pickle data which will execute arbitrary code during unpickling (See https://github.com/pytorch/pytorch/blob/main/SECURITY.md#untrusted-models for more details). In a future release, the default value for `weights_only` will be flipped to `True`. This limits the functions that could be executed during unpickling. Arbitrary objects will no longer be allowed to be loaded via this mode unless they are explicitly allowlisted by the user via `torch.serialization.add_safe_globals`. We recommend you start setting `weights_only=True` for any use case where you don't have full control of the loaded file. Please open an issue on GitHub for any issues related to this experimental feature.\n",
      "  checkpoint = torch.load(path, map_location=config.DEVICE)\n",
      "C:\\Users\\alper\\AppData\\Roaming\\Python\\Python312\\site-packages\\albumentations\\__init__.py:28: UserWarning: A new version of Albumentations is available: '2.0.7' (you have '2.0.6'). Upgrade using: pip install -U albumentations. To disable automatic update checks, set the environment variable NO_ALBUMENTATIONS_UPDATE to 1.\n",
      "  check_for_updates()\n",
      "C:\\Users\\alper\\PycharmProjects\\PhotographyProject\\White-box-Cartoonization-PyTorch\\utils.py:85: FutureWarning: You are using `torch.load` with `weights_only=False` (the current default value), which uses the default pickle module implicitly. It is possible to construct malicious pickle data which will execute arbitrary code during unpickling (See https://github.com/pytorch/pytorch/blob/main/SECURITY.md#untrusted-models for more details). In a future release, the default value for `weights_only` will be flipped to `True`. This limits the functions that could be executed during unpickling. Arbitrary objects will no longer be allowed to be loaded via this mode unless they are explicitly allowlisted by the user via `torch.serialization.add_safe_globals`. We recommend you start setting `weights_only=True` for any use case where you don't have full control of the loaded file. Please open an issue on GitHub for any issues related to this experimental feature.\n",
      "  checkpoint = torch.load(path, map_location=config.DEVICE)\n"
     ]
    },
    {
     "name": "stdout",
     "output_type": "stream",
     "text": [
      "Using Device: cuda\n",
      "=> Loading checkpoint\n",
      "checkpoint file White-box-Cartoonization-PyTorch/weights/sceneryonly.pth.tar loaded.\n",
      "=> Finish Inference.\n",
      "Using Device: cuda\n",
      "=> Loading checkpoint\n",
      "checkpoint file White-box-Cartoonization-PyTorch/weights/sceneryonly.pth.tar loaded.\n",
      "=> Finish Inference.\n"
     ]
    },
    {
     "name": "stderr",
     "output_type": "stream",
     "text": [
      "C:\\Users\\alper\\AppData\\Roaming\\Python\\Python312\\site-packages\\albumentations\\__init__.py:28: UserWarning: A new version of Albumentations is available: '2.0.7' (you have '2.0.6'). Upgrade using: pip install -U albumentations. To disable automatic update checks, set the environment variable NO_ALBUMENTATIONS_UPDATE to 1.\n",
      "  check_for_updates()\n",
      "C:\\Users\\alper\\PycharmProjects\\PhotographyProject\\White-box-Cartoonization-PyTorch\\utils.py:85: FutureWarning: You are using `torch.load` with `weights_only=False` (the current default value), which uses the default pickle module implicitly. It is possible to construct malicious pickle data which will execute arbitrary code during unpickling (See https://github.com/pytorch/pytorch/blob/main/SECURITY.md#untrusted-models for more details). In a future release, the default value for `weights_only` will be flipped to `True`. This limits the functions that could be executed during unpickling. Arbitrary objects will no longer be allowed to be loaded via this mode unless they are explicitly allowlisted by the user via `torch.serialization.add_safe_globals`. We recommend you start setting `weights_only=True` for any use case where you don't have full control of the loaded file. Please open an issue on GitHub for any issues related to this experimental feature.\n",
      "  checkpoint = torch.load(path, map_location=config.DEVICE)\n",
      "C:\\Users\\alper\\AppData\\Roaming\\Python\\Python312\\site-packages\\albumentations\\__init__.py:28: UserWarning: A new version of Albumentations is available: '2.0.7' (you have '2.0.6'). Upgrade using: pip install -U albumentations. To disable automatic update checks, set the environment variable NO_ALBUMENTATIONS_UPDATE to 1.\n",
      "  check_for_updates()\n",
      "C:\\Users\\alper\\PycharmProjects\\PhotographyProject\\White-box-Cartoonization-PyTorch\\utils.py:85: FutureWarning: You are using `torch.load` with `weights_only=False` (the current default value), which uses the default pickle module implicitly. It is possible to construct malicious pickle data which will execute arbitrary code during unpickling (See https://github.com/pytorch/pytorch/blob/main/SECURITY.md#untrusted-models for more details). In a future release, the default value for `weights_only` will be flipped to `True`. This limits the functions that could be executed during unpickling. Arbitrary objects will no longer be allowed to be loaded via this mode unless they are explicitly allowlisted by the user via `torch.serialization.add_safe_globals`. We recommend you start setting `weights_only=True` for any use case where you don't have full control of the loaded file. Please open an issue on GitHub for any issues related to this experimental feature.\n",
      "  checkpoint = torch.load(path, map_location=config.DEVICE)\n"
     ]
    },
    {
     "name": "stdout",
     "output_type": "stream",
     "text": [
      "Using Device: cuda\n",
      "=> Loading checkpoint\n",
      "checkpoint file White-box-Cartoonization-PyTorch/weights/sceneryonly.pth.tar loaded.\n",
      "=> Finish Inference.\n"
     ]
    },
    {
     "name": "stderr",
     "output_type": "stream",
     "text": [
      "C:\\Users\\alper\\AppData\\Roaming\\Python\\Python312\\site-packages\\albumentations\\__init__.py:28: UserWarning: A new version of Albumentations is available: '2.0.7' (you have '2.0.6'). Upgrade using: pip install -U albumentations. To disable automatic update checks, set the environment variable NO_ALBUMENTATIONS_UPDATE to 1.\n",
      "  check_for_updates()\n",
      "C:\\Users\\alper\\PycharmProjects\\PhotographyProject\\White-box-Cartoonization-PyTorch\\utils.py:85: FutureWarning: You are using `torch.load` with `weights_only=False` (the current default value), which uses the default pickle module implicitly. It is possible to construct malicious pickle data which will execute arbitrary code during unpickling (See https://github.com/pytorch/pytorch/blob/main/SECURITY.md#untrusted-models for more details). In a future release, the default value for `weights_only` will be flipped to `True`. This limits the functions that could be executed during unpickling. Arbitrary objects will no longer be allowed to be loaded via this mode unless they are explicitly allowlisted by the user via `torch.serialization.add_safe_globals`. We recommend you start setting `weights_only=True` for any use case where you don't have full control of the loaded file. Please open an issue on GitHub for any issues related to this experimental feature.\n",
      "  checkpoint = torch.load(path, map_location=config.DEVICE)\n"
     ]
    },
    {
     "name": "stdout",
     "output_type": "stream",
     "text": [
      "Using Device: cuda\n",
      "=> Loading checkpoint\n",
      "checkpoint file White-box-Cartoonization-PyTorch/weights/sceneryonly.pth.tar loaded.\n",
      "=> Finish Inference.\n"
     ]
    },
    {
     "name": "stderr",
     "output_type": "stream",
     "text": [
      "C:\\Users\\alper\\AppData\\Roaming\\Python\\Python312\\site-packages\\albumentations\\__init__.py:28: UserWarning: A new version of Albumentations is available: '2.0.7' (you have '2.0.6'). Upgrade using: pip install -U albumentations. To disable automatic update checks, set the environment variable NO_ALBUMENTATIONS_UPDATE to 1.\n",
      "  check_for_updates()\n",
      "C:\\Users\\alper\\PycharmProjects\\PhotographyProject\\White-box-Cartoonization-PyTorch\\utils.py:85: FutureWarning: You are using `torch.load` with `weights_only=False` (the current default value), which uses the default pickle module implicitly. It is possible to construct malicious pickle data which will execute arbitrary code during unpickling (See https://github.com/pytorch/pytorch/blob/main/SECURITY.md#untrusted-models for more details). In a future release, the default value for `weights_only` will be flipped to `True`. This limits the functions that could be executed during unpickling. Arbitrary objects will no longer be allowed to be loaded via this mode unless they are explicitly allowlisted by the user via `torch.serialization.add_safe_globals`. We recommend you start setting `weights_only=True` for any use case where you don't have full control of the loaded file. Please open an issue on GitHub for any issues related to this experimental feature.\n",
      "  checkpoint = torch.load(path, map_location=config.DEVICE)\n"
     ]
    },
    {
     "name": "stdout",
     "output_type": "stream",
     "text": [
      "Using Device: cuda\n",
      "=> Loading checkpoint\n",
      "checkpoint file White-box-Cartoonization-PyTorch/weights/sceneryonly.pth.tar loaded.\n",
      "=> Finish Inference.\n"
     ]
    },
    {
     "name": "stderr",
     "output_type": "stream",
     "text": [
      "C:\\Users\\alper\\AppData\\Roaming\\Python\\Python312\\site-packages\\albumentations\\__init__.py:28: UserWarning: A new version of Albumentations is available: '2.0.7' (you have '2.0.6'). Upgrade using: pip install -U albumentations. To disable automatic update checks, set the environment variable NO_ALBUMENTATIONS_UPDATE to 1.\n",
      "  check_for_updates()\n",
      "C:\\Users\\alper\\PycharmProjects\\PhotographyProject\\White-box-Cartoonization-PyTorch\\utils.py:85: FutureWarning: You are using `torch.load` with `weights_only=False` (the current default value), which uses the default pickle module implicitly. It is possible to construct malicious pickle data which will execute arbitrary code during unpickling (See https://github.com/pytorch/pytorch/blob/main/SECURITY.md#untrusted-models for more details). In a future release, the default value for `weights_only` will be flipped to `True`. This limits the functions that could be executed during unpickling. Arbitrary objects will no longer be allowed to be loaded via this mode unless they are explicitly allowlisted by the user via `torch.serialization.add_safe_globals`. We recommend you start setting `weights_only=True` for any use case where you don't have full control of the loaded file. Please open an issue on GitHub for any issues related to this experimental feature.\n",
      "  checkpoint = torch.load(path, map_location=config.DEVICE)\n"
     ]
    },
    {
     "name": "stdout",
     "output_type": "stream",
     "text": [
      "Using Device: cuda\n",
      "=> Loading checkpoint\n",
      "checkpoint file White-box-Cartoonization-PyTorch/weights/sceneryonly.pth.tar loaded.\n",
      "=> Finish Inference.\n"
     ]
    },
    {
     "name": "stderr",
     "output_type": "stream",
     "text": [
      "C:\\Users\\alper\\AppData\\Roaming\\Python\\Python312\\site-packages\\albumentations\\__init__.py:28: UserWarning: A new version of Albumentations is available: '2.0.7' (you have '2.0.6'). Upgrade using: pip install -U albumentations. To disable automatic update checks, set the environment variable NO_ALBUMENTATIONS_UPDATE to 1.\n",
      "  check_for_updates()\n",
      "C:\\Users\\alper\\PycharmProjects\\PhotographyProject\\White-box-Cartoonization-PyTorch\\utils.py:85: FutureWarning: You are using `torch.load` with `weights_only=False` (the current default value), which uses the default pickle module implicitly. It is possible to construct malicious pickle data which will execute arbitrary code during unpickling (See https://github.com/pytorch/pytorch/blob/main/SECURITY.md#untrusted-models for more details). In a future release, the default value for `weights_only` will be flipped to `True`. This limits the functions that could be executed during unpickling. Arbitrary objects will no longer be allowed to be loaded via this mode unless they are explicitly allowlisted by the user via `torch.serialization.add_safe_globals`. We recommend you start setting `weights_only=True` for any use case where you don't have full control of the loaded file. Please open an issue on GitHub for any issues related to this experimental feature.\n",
      "  checkpoint = torch.load(path, map_location=config.DEVICE)\n"
     ]
    },
    {
     "name": "stdout",
     "output_type": "stream",
     "text": [
      "Using Device: cuda\n",
      "=> Loading checkpoint\n",
      "checkpoint file White-box-Cartoonization-PyTorch/weights/sceneryonly.pth.tar loaded.\n",
      "=> Finish Inference.\n",
      "Using Device: cuda\n",
      "=> Loading checkpoint\n",
      "checkpoint file White-box-Cartoonization-PyTorch/weights/sceneryonly.pth.tar loaded.\n",
      "=> Finish Inference.\n"
     ]
    },
    {
     "name": "stderr",
     "output_type": "stream",
     "text": [
      "C:\\Users\\alper\\AppData\\Roaming\\Python\\Python312\\site-packages\\albumentations\\__init__.py:28: UserWarning: A new version of Albumentations is available: '2.0.7' (you have '2.0.6'). Upgrade using: pip install -U albumentations. To disable automatic update checks, set the environment variable NO_ALBUMENTATIONS_UPDATE to 1.\n",
      "  check_for_updates()\n",
      "C:\\Users\\alper\\PycharmProjects\\PhotographyProject\\White-box-Cartoonization-PyTorch\\utils.py:85: FutureWarning: You are using `torch.load` with `weights_only=False` (the current default value), which uses the default pickle module implicitly. It is possible to construct malicious pickle data which will execute arbitrary code during unpickling (See https://github.com/pytorch/pytorch/blob/main/SECURITY.md#untrusted-models for more details). In a future release, the default value for `weights_only` will be flipped to `True`. This limits the functions that could be executed during unpickling. Arbitrary objects will no longer be allowed to be loaded via this mode unless they are explicitly allowlisted by the user via `torch.serialization.add_safe_globals`. We recommend you start setting `weights_only=True` for any use case where you don't have full control of the loaded file. Please open an issue on GitHub for any issues related to this experimental feature.\n",
      "  checkpoint = torch.load(path, map_location=config.DEVICE)\n",
      "C:\\Users\\alper\\AppData\\Roaming\\Python\\Python312\\site-packages\\albumentations\\__init__.py:28: UserWarning: A new version of Albumentations is available: '2.0.7' (you have '2.0.6'). Upgrade using: pip install -U albumentations. To disable automatic update checks, set the environment variable NO_ALBUMENTATIONS_UPDATE to 1.\n",
      "  check_for_updates()\n",
      "C:\\Users\\alper\\PycharmProjects\\PhotographyProject\\White-box-Cartoonization-PyTorch\\utils.py:85: FutureWarning: You are using `torch.load` with `weights_only=False` (the current default value), which uses the default pickle module implicitly. It is possible to construct malicious pickle data which will execute arbitrary code during unpickling (See https://github.com/pytorch/pytorch/blob/main/SECURITY.md#untrusted-models for more details). In a future release, the default value for `weights_only` will be flipped to `True`. This limits the functions that could be executed during unpickling. Arbitrary objects will no longer be allowed to be loaded via this mode unless they are explicitly allowlisted by the user via `torch.serialization.add_safe_globals`. We recommend you start setting `weights_only=True` for any use case where you don't have full control of the loaded file. Please open an issue on GitHub for any issues related to this experimental feature.\n",
      "  checkpoint = torch.load(path, map_location=config.DEVICE)\n"
     ]
    },
    {
     "name": "stdout",
     "output_type": "stream",
     "text": [
      "Using Device: cuda\n",
      "=> Loading checkpoint\n",
      "checkpoint file White-box-Cartoonization-PyTorch/weights/sceneryonly.pth.tar loaded.\n",
      "=> Finish Inference.\n",
      "Using Device: cuda\n",
      "=> Loading checkpoint\n",
      "checkpoint file White-box-Cartoonization-PyTorch/weights/sceneryonly.pth.tar loaded.\n",
      "=> Finish Inference.\n"
     ]
    },
    {
     "name": "stderr",
     "output_type": "stream",
     "text": [
      "C:\\Users\\alper\\AppData\\Roaming\\Python\\Python312\\site-packages\\albumentations\\__init__.py:28: UserWarning: A new version of Albumentations is available: '2.0.7' (you have '2.0.6'). Upgrade using: pip install -U albumentations. To disable automatic update checks, set the environment variable NO_ALBUMENTATIONS_UPDATE to 1.\n",
      "  check_for_updates()\n",
      "C:\\Users\\alper\\PycharmProjects\\PhotographyProject\\White-box-Cartoonization-PyTorch\\utils.py:85: FutureWarning: You are using `torch.load` with `weights_only=False` (the current default value), which uses the default pickle module implicitly. It is possible to construct malicious pickle data which will execute arbitrary code during unpickling (See https://github.com/pytorch/pytorch/blob/main/SECURITY.md#untrusted-models for more details). In a future release, the default value for `weights_only` will be flipped to `True`. This limits the functions that could be executed during unpickling. Arbitrary objects will no longer be allowed to be loaded via this mode unless they are explicitly allowlisted by the user via `torch.serialization.add_safe_globals`. We recommend you start setting `weights_only=True` for any use case where you don't have full control of the loaded file. Please open an issue on GitHub for any issues related to this experimental feature.\n",
      "  checkpoint = torch.load(path, map_location=config.DEVICE)\n"
     ]
    },
    {
     "name": "stdout",
     "output_type": "stream",
     "text": [
      "Using Device: cuda\n",
      "=> Loading checkpoint\n",
      "checkpoint file White-box-Cartoonization-PyTorch/weights/sceneryonly.pth.tar loaded.\n",
      "=> Finish Inference.\n"
     ]
    },
    {
     "name": "stderr",
     "output_type": "stream",
     "text": [
      "C:\\Users\\alper\\AppData\\Roaming\\Python\\Python312\\site-packages\\albumentations\\__init__.py:28: UserWarning: A new version of Albumentations is available: '2.0.7' (you have '2.0.6'). Upgrade using: pip install -U albumentations. To disable automatic update checks, set the environment variable NO_ALBUMENTATIONS_UPDATE to 1.\n",
      "  check_for_updates()\n",
      "C:\\Users\\alper\\PycharmProjects\\PhotographyProject\\White-box-Cartoonization-PyTorch\\utils.py:85: FutureWarning: You are using `torch.load` with `weights_only=False` (the current default value), which uses the default pickle module implicitly. It is possible to construct malicious pickle data which will execute arbitrary code during unpickling (See https://github.com/pytorch/pytorch/blob/main/SECURITY.md#untrusted-models for more details). In a future release, the default value for `weights_only` will be flipped to `True`. This limits the functions that could be executed during unpickling. Arbitrary objects will no longer be allowed to be loaded via this mode unless they are explicitly allowlisted by the user via `torch.serialization.add_safe_globals`. We recommend you start setting `weights_only=True` for any use case where you don't have full control of the loaded file. Please open an issue on GitHub for any issues related to this experimental feature.\n",
      "  checkpoint = torch.load(path, map_location=config.DEVICE)\n"
     ]
    },
    {
     "name": "stdout",
     "output_type": "stream",
     "text": [
      "Using Device: cuda\n",
      "=> Loading checkpoint\n",
      "checkpoint file White-box-Cartoonization-PyTorch/weights/sceneryonly.pth.tar loaded.\n",
      "=> Finish Inference.\n"
     ]
    },
    {
     "name": "stderr",
     "output_type": "stream",
     "text": [
      "C:\\Users\\alper\\AppData\\Roaming\\Python\\Python312\\site-packages\\albumentations\\__init__.py:28: UserWarning: A new version of Albumentations is available: '2.0.7' (you have '2.0.6'). Upgrade using: pip install -U albumentations. To disable automatic update checks, set the environment variable NO_ALBUMENTATIONS_UPDATE to 1.\n",
      "  check_for_updates()\n",
      "C:\\Users\\alper\\PycharmProjects\\PhotographyProject\\White-box-Cartoonization-PyTorch\\utils.py:85: FutureWarning: You are using `torch.load` with `weights_only=False` (the current default value), which uses the default pickle module implicitly. It is possible to construct malicious pickle data which will execute arbitrary code during unpickling (See https://github.com/pytorch/pytorch/blob/main/SECURITY.md#untrusted-models for more details). In a future release, the default value for `weights_only` will be flipped to `True`. This limits the functions that could be executed during unpickling. Arbitrary objects will no longer be allowed to be loaded via this mode unless they are explicitly allowlisted by the user via `torch.serialization.add_safe_globals`. We recommend you start setting `weights_only=True` for any use case where you don't have full control of the loaded file. Please open an issue on GitHub for any issues related to this experimental feature.\n",
      "  checkpoint = torch.load(path, map_location=config.DEVICE)\n"
     ]
    },
    {
     "name": "stdout",
     "output_type": "stream",
     "text": [
      "Using Device: cuda\n",
      "=> Loading checkpoint\n",
      "checkpoint file White-box-Cartoonization-PyTorch/weights/sceneryonly.pth.tar loaded.\n",
      "=> Finish Inference.\n"
     ]
    },
    {
     "name": "stderr",
     "output_type": "stream",
     "text": [
      "C:\\Users\\alper\\AppData\\Roaming\\Python\\Python312\\site-packages\\albumentations\\__init__.py:28: UserWarning: A new version of Albumentations is available: '2.0.7' (you have '2.0.6'). Upgrade using: pip install -U albumentations. To disable automatic update checks, set the environment variable NO_ALBUMENTATIONS_UPDATE to 1.\n",
      "  check_for_updates()\n",
      "C:\\Users\\alper\\PycharmProjects\\PhotographyProject\\White-box-Cartoonization-PyTorch\\utils.py:85: FutureWarning: You are using `torch.load` with `weights_only=False` (the current default value), which uses the default pickle module implicitly. It is possible to construct malicious pickle data which will execute arbitrary code during unpickling (See https://github.com/pytorch/pytorch/blob/main/SECURITY.md#untrusted-models for more details). In a future release, the default value for `weights_only` will be flipped to `True`. This limits the functions that could be executed during unpickling. Arbitrary objects will no longer be allowed to be loaded via this mode unless they are explicitly allowlisted by the user via `torch.serialization.add_safe_globals`. We recommend you start setting `weights_only=True` for any use case where you don't have full control of the loaded file. Please open an issue on GitHub for any issues related to this experimental feature.\n",
      "  checkpoint = torch.load(path, map_location=config.DEVICE)\n"
     ]
    },
    {
     "name": "stdout",
     "output_type": "stream",
     "text": [
      "Using Device: cuda\n",
      "=> Loading checkpoint\n",
      "checkpoint file White-box-Cartoonization-PyTorch/weights/sceneryonly.pth.tar loaded.\n",
      "=> Finish Inference.\n"
     ]
    },
    {
     "name": "stderr",
     "output_type": "stream",
     "text": [
      "C:\\Users\\alper\\AppData\\Roaming\\Python\\Python312\\site-packages\\albumentations\\__init__.py:28: UserWarning: A new version of Albumentations is available: '2.0.7' (you have '2.0.6'). Upgrade using: pip install -U albumentations. To disable automatic update checks, set the environment variable NO_ALBUMENTATIONS_UPDATE to 1.\n",
      "  check_for_updates()\n",
      "C:\\Users\\alper\\PycharmProjects\\PhotographyProject\\White-box-Cartoonization-PyTorch\\utils.py:85: FutureWarning: You are using `torch.load` with `weights_only=False` (the current default value), which uses the default pickle module implicitly. It is possible to construct malicious pickle data which will execute arbitrary code during unpickling (See https://github.com/pytorch/pytorch/blob/main/SECURITY.md#untrusted-models for more details). In a future release, the default value for `weights_only` will be flipped to `True`. This limits the functions that could be executed during unpickling. Arbitrary objects will no longer be allowed to be loaded via this mode unless they are explicitly allowlisted by the user via `torch.serialization.add_safe_globals`. We recommend you start setting `weights_only=True` for any use case where you don't have full control of the loaded file. Please open an issue on GitHub for any issues related to this experimental feature.\n",
      "  checkpoint = torch.load(path, map_location=config.DEVICE)\n",
      "C:\\Users\\alper\\AppData\\Roaming\\Python\\Python312\\site-packages\\albumentations\\__init__.py:28: UserWarning: A new version of Albumentations is available: '2.0.7' (you have '2.0.6'). Upgrade using: pip install -U albumentations. To disable automatic update checks, set the environment variable NO_ALBUMENTATIONS_UPDATE to 1.\n",
      "  check_for_updates()\n",
      "C:\\Users\\alper\\PycharmProjects\\PhotographyProject\\White-box-Cartoonization-PyTorch\\utils.py:85: FutureWarning: You are using `torch.load` with `weights_only=False` (the current default value), which uses the default pickle module implicitly. It is possible to construct malicious pickle data which will execute arbitrary code during unpickling (See https://github.com/pytorch/pytorch/blob/main/SECURITY.md#untrusted-models for more details). In a future release, the default value for `weights_only` will be flipped to `True`. This limits the functions that could be executed during unpickling. Arbitrary objects will no longer be allowed to be loaded via this mode unless they are explicitly allowlisted by the user via `torch.serialization.add_safe_globals`. We recommend you start setting `weights_only=True` for any use case where you don't have full control of the loaded file. Please open an issue on GitHub for any issues related to this experimental feature.\n",
      "  checkpoint = torch.load(path, map_location=config.DEVICE)\n"
     ]
    },
    {
     "name": "stdout",
     "output_type": "stream",
     "text": [
      "Using Device: cuda\n",
      "=> Loading checkpoint\n",
      "checkpoint file White-box-Cartoonization-PyTorch/weights/sceneryonly.pth.tar loaded.\n",
      "=> Finish Inference.\n"
     ]
    },
    {
     "name": "stderr",
     "output_type": "stream",
     "text": [
      "C:\\Users\\alper\\AppData\\Roaming\\Python\\Python312\\site-packages\\albumentations\\__init__.py:28: UserWarning: A new version of Albumentations is available: '2.0.7' (you have '2.0.6'). Upgrade using: pip install -U albumentations. To disable automatic update checks, set the environment variable NO_ALBUMENTATIONS_UPDATE to 1.\n",
      "  check_for_updates()\n",
      "C:\\Users\\alper\\PycharmProjects\\PhotographyProject\\White-box-Cartoonization-PyTorch\\utils.py:85: FutureWarning: You are using `torch.load` with `weights_only=False` (the current default value), which uses the default pickle module implicitly. It is possible to construct malicious pickle data which will execute arbitrary code during unpickling (See https://github.com/pytorch/pytorch/blob/main/SECURITY.md#untrusted-models for more details). In a future release, the default value for `weights_only` will be flipped to `True`. This limits the functions that could be executed during unpickling. Arbitrary objects will no longer be allowed to be loaded via this mode unless they are explicitly allowlisted by the user via `torch.serialization.add_safe_globals`. We recommend you start setting `weights_only=True` for any use case where you don't have full control of the loaded file. Please open an issue on GitHub for any issues related to this experimental feature.\n",
      "  checkpoint = torch.load(path, map_location=config.DEVICE)\n"
     ]
    },
    {
     "name": "stdout",
     "output_type": "stream",
     "text": [
      "Using Device: cuda\n",
      "=> Loading checkpoint\n",
      "checkpoint file White-box-Cartoonization-PyTorch/weights/sceneryonly.pth.tar loaded.\n",
      "=> Finish Inference.\n",
      "Using Device: cuda\n",
      "=> Loading checkpoint\n",
      "checkpoint file White-box-Cartoonization-PyTorch/weights/sceneryonly.pth.tar loaded.\n",
      "=> Finish Inference.\n"
     ]
    },
    {
     "name": "stderr",
     "output_type": "stream",
     "text": [
      "C:\\Users\\alper\\AppData\\Roaming\\Python\\Python312\\site-packages\\albumentations\\__init__.py:28: UserWarning: A new version of Albumentations is available: '2.0.7' (you have '2.0.6'). Upgrade using: pip install -U albumentations. To disable automatic update checks, set the environment variable NO_ALBUMENTATIONS_UPDATE to 1.\n",
      "  check_for_updates()\n",
      "C:\\Users\\alper\\PycharmProjects\\PhotographyProject\\White-box-Cartoonization-PyTorch\\utils.py:85: FutureWarning: You are using `torch.load` with `weights_only=False` (the current default value), which uses the default pickle module implicitly. It is possible to construct malicious pickle data which will execute arbitrary code during unpickling (See https://github.com/pytorch/pytorch/blob/main/SECURITY.md#untrusted-models for more details). In a future release, the default value for `weights_only` will be flipped to `True`. This limits the functions that could be executed during unpickling. Arbitrary objects will no longer be allowed to be loaded via this mode unless they are explicitly allowlisted by the user via `torch.serialization.add_safe_globals`. We recommend you start setting `weights_only=True` for any use case where you don't have full control of the loaded file. Please open an issue on GitHub for any issues related to this experimental feature.\n",
      "  checkpoint = torch.load(path, map_location=config.DEVICE)\n",
      "C:\\Users\\alper\\AppData\\Roaming\\Python\\Python312\\site-packages\\albumentations\\__init__.py:28: UserWarning: A new version of Albumentations is available: '2.0.7' (you have '2.0.6'). Upgrade using: pip install -U albumentations. To disable automatic update checks, set the environment variable NO_ALBUMENTATIONS_UPDATE to 1.\n",
      "  check_for_updates()\n",
      "C:\\Users\\alper\\PycharmProjects\\PhotographyProject\\White-box-Cartoonization-PyTorch\\utils.py:85: FutureWarning: You are using `torch.load` with `weights_only=False` (the current default value), which uses the default pickle module implicitly. It is possible to construct malicious pickle data which will execute arbitrary code during unpickling (See https://github.com/pytorch/pytorch/blob/main/SECURITY.md#untrusted-models for more details). In a future release, the default value for `weights_only` will be flipped to `True`. This limits the functions that could be executed during unpickling. Arbitrary objects will no longer be allowed to be loaded via this mode unless they are explicitly allowlisted by the user via `torch.serialization.add_safe_globals`. We recommend you start setting `weights_only=True` for any use case where you don't have full control of the loaded file. Please open an issue on GitHub for any issues related to this experimental feature.\n",
      "  checkpoint = torch.load(path, map_location=config.DEVICE)\n"
     ]
    },
    {
     "name": "stdout",
     "output_type": "stream",
     "text": [
      "Using Device: cuda\n",
      "=> Loading checkpoint\n",
      "checkpoint file White-box-Cartoonization-PyTorch/weights/sceneryonly.pth.tar loaded.\n",
      "=> Finish Inference.\n",
      "Using Device: cuda\n",
      "=> Loading checkpoint\n",
      "checkpoint file White-box-Cartoonization-PyTorch/weights/sceneryonly.pth.tar loaded.\n",
      "=> Finish Inference.\n"
     ]
    },
    {
     "name": "stderr",
     "output_type": "stream",
     "text": [
      "C:\\Users\\alper\\AppData\\Roaming\\Python\\Python312\\site-packages\\albumentations\\__init__.py:28: UserWarning: A new version of Albumentations is available: '2.0.7' (you have '2.0.6'). Upgrade using: pip install -U albumentations. To disable automatic update checks, set the environment variable NO_ALBUMENTATIONS_UPDATE to 1.\n",
      "  check_for_updates()\n",
      "C:\\Users\\alper\\PycharmProjects\\PhotographyProject\\White-box-Cartoonization-PyTorch\\utils.py:85: FutureWarning: You are using `torch.load` with `weights_only=False` (the current default value), which uses the default pickle module implicitly. It is possible to construct malicious pickle data which will execute arbitrary code during unpickling (See https://github.com/pytorch/pytorch/blob/main/SECURITY.md#untrusted-models for more details). In a future release, the default value for `weights_only` will be flipped to `True`. This limits the functions that could be executed during unpickling. Arbitrary objects will no longer be allowed to be loaded via this mode unless they are explicitly allowlisted by the user via `torch.serialization.add_safe_globals`. We recommend you start setting `weights_only=True` for any use case where you don't have full control of the loaded file. Please open an issue on GitHub for any issues related to this experimental feature.\n",
      "  checkpoint = torch.load(path, map_location=config.DEVICE)\n"
     ]
    },
    {
     "name": "stdout",
     "output_type": "stream",
     "text": [
      "Using Device: cuda\n",
      "=> Loading checkpoint\n",
      "checkpoint file White-box-Cartoonization-PyTorch/weights/sceneryonly.pth.tar loaded.\n",
      "=> Finish Inference.\n"
     ]
    },
    {
     "name": "stderr",
     "output_type": "stream",
     "text": [
      "C:\\Users\\alper\\AppData\\Roaming\\Python\\Python312\\site-packages\\albumentations\\__init__.py:28: UserWarning: A new version of Albumentations is available: '2.0.7' (you have '2.0.6'). Upgrade using: pip install -U albumentations. To disable automatic update checks, set the environment variable NO_ALBUMENTATIONS_UPDATE to 1.\n",
      "  check_for_updates()\n",
      "C:\\Users\\alper\\PycharmProjects\\PhotographyProject\\White-box-Cartoonization-PyTorch\\utils.py:85: FutureWarning: You are using `torch.load` with `weights_only=False` (the current default value), which uses the default pickle module implicitly. It is possible to construct malicious pickle data which will execute arbitrary code during unpickling (See https://github.com/pytorch/pytorch/blob/main/SECURITY.md#untrusted-models for more details). In a future release, the default value for `weights_only` will be flipped to `True`. This limits the functions that could be executed during unpickling. Arbitrary objects will no longer be allowed to be loaded via this mode unless they are explicitly allowlisted by the user via `torch.serialization.add_safe_globals`. We recommend you start setting `weights_only=True` for any use case where you don't have full control of the loaded file. Please open an issue on GitHub for any issues related to this experimental feature.\n",
      "  checkpoint = torch.load(path, map_location=config.DEVICE)\n"
     ]
    }
   ],
   "execution_count": 25
  },
  {
   "metadata": {
    "ExecuteTime": {
     "end_time": "2025-05-27T15:52:46.657614Z",
     "start_time": "2025-05-27T15:52:46.611025Z"
    }
   },
   "cell_type": "code",
   "source": [
    "df_bilateral_fuse = pd.DataFrame(results_fuse_bilateral)\n",
    "df_bilateral_fuse.to_excel(\"results_bilateral_fuse.xlsx\", index=False)"
   ],
   "id": "91c150e5947cc081",
   "outputs": [],
   "execution_count": 26
  },
  {
   "metadata": {
    "ExecuteTime": {
     "end_time": "2025-05-27T15:55:39.776599Z",
     "start_time": "2025-05-27T15:55:39.769116Z"
    }
   },
   "cell_type": "code",
   "source": "guided_inputs = sorted(glob(os.path.join(\"output_guided\", \"*.png\")))",
   "id": "71aeb17ae3235944",
   "outputs": [],
   "execution_count": 31
  },
  {
   "metadata": {
    "ExecuteTime": {
     "end_time": "2025-05-27T16:01:14.874083Z",
     "start_time": "2025-05-27T15:55:52.566025Z"
    }
   },
   "cell_type": "code",
   "source": [
    "\n",
    "results_fuse_guided=[]\n",
    "os.makedirs(\"whitebox_output_guided\", exist_ok=True)\n",
    "os.makedirs(\"animegan_output_guided\", exist_ok=True)\n",
    "\n",
    "\n",
    "for img_path in guided_inputs:\n",
    "    filename = os.path.splitext(os.path.basename(img_path))[0]\n",
    "\n",
    "    start_w = time.time()\n",
    "    !python White-box-Cartoonization-PyTorch/inference.py -s {img_path} -w White-box-Cartoonization-PyTorch/weights/sceneryonly.pth.tar --dest_folder whitebox_output_guided --suffix cartoon\n",
    "    end_w = time.time()\n",
    "\n",
    "    start_a = time.time()\n",
    "    img = Image.open(img_path).convert(\"RGB\")\n",
    "    output = face2paint(anime_model, img)\n",
    "    anime_out_path = f\"animegan_output_guided/{filename}_cartoon.jpg\"\n",
    "    output.save(anime_out_path)\n",
    "    end_a = time.time()\n",
    "\n",
    "    original = safe_imread(img_path)\n",
    "    whitebox_out_path = os.path.splitext(img_path)[0] + \".pngcartoon.png\" \n",
    "    whitebox = imread(whitebox_out_path)\n",
    "    animegan = imread(anime_out_path)\n",
    "\n",
    "    target_size = (original.shape[1], original.shape[0])  \n",
    "    if whitebox.shape[:2] != original.shape[:2]:\n",
    "        whitebox = cv2.resize(whitebox, target_size, interpolation=cv2.INTER_AREA)\n",
    "    if animegan.shape[:2] != original.shape[:2]:\n",
    "        animegan = cv2.resize(animegan, target_size, interpolation=cv2.INTER_AREA)\n",
    "\n",
    "    psnr_w = psnr(original, whitebox, data_range=255)\n",
    "    ssim_w = ssim(original, whitebox, channel_axis=-1, data_range=255)\n",
    "    edge_w = edge_density(whitebox)\n",
    "    time_w = end_w - start_w\n",
    "\n",
    "    psnr_a = psnr(original, animegan, data_range=255)\n",
    "    ssim_a = ssim(original, animegan, channel_axis=-1, data_range=255)\n",
    "    edge_a = edge_density(animegan)\n",
    "    time_a = end_a - start_a\n",
    "\n",
    "    #show_results(original, whitebox, animegan, psnr_w, ssim_w, psnr_a, ssim_a, filename)\n",
    "    '''results.append({\n",
    "        \"image\": filename,\n",
    "        \"psnr_whitebox\": psnr_w,\n",
    "        \"ssim_whitebox\": ssim_w,\n",
    "        \"psnr_animegan\": psnr_a,\n",
    "        \"ssim_animegan\": ssim_a\n",
    "    })'''\n",
    "    results_fuse_guided.append({\n",
    "        \"image\": filename,\n",
    "        \"psnr_whitebox\": psnr_w,\n",
    "        \"ssim_whitebox\": ssim_w,\n",
    "        \"edge_density_whitebox\": edge_w,\n",
    "        \"inference_time_whitebox\": time_w,\n",
    "        \"psnr_animegan\": psnr_a,\n",
    "        \"ssim_animegan\": ssim_a,\n",
    "        \"edge_density_animegan\": edge_a,\n",
    "        \"inference_time_animegan\": time_a\n",
    "    })\n",
    "\n",
    "    "
   ],
   "id": "a8eec6869d716ae0",
   "outputs": [
    {
     "name": "stdout",
     "output_type": "stream",
     "text": [
      "Using Device: cuda\n",
      "=> Loading checkpoint\n",
      "checkpoint file White-box-Cartoonization-PyTorch/weights/sceneryonly.pth.tar loaded.\n",
      "=> Finish Inference.\n"
     ]
    },
    {
     "name": "stderr",
     "output_type": "stream",
     "text": [
      "C:\\Users\\alper\\AppData\\Roaming\\Python\\Python312\\site-packages\\albumentations\\__init__.py:28: UserWarning: A new version of Albumentations is available: '2.0.7' (you have '2.0.6'). Upgrade using: pip install -U albumentations. To disable automatic update checks, set the environment variable NO_ALBUMENTATIONS_UPDATE to 1.\n",
      "  check_for_updates()\n",
      "C:\\Users\\alper\\PycharmProjects\\PhotographyProject\\White-box-Cartoonization-PyTorch\\utils.py:85: FutureWarning: You are using `torch.load` with `weights_only=False` (the current default value), which uses the default pickle module implicitly. It is possible to construct malicious pickle data which will execute arbitrary code during unpickling (See https://github.com/pytorch/pytorch/blob/main/SECURITY.md#untrusted-models for more details). In a future release, the default value for `weights_only` will be flipped to `True`. This limits the functions that could be executed during unpickling. Arbitrary objects will no longer be allowed to be loaded via this mode unless they are explicitly allowlisted by the user via `torch.serialization.add_safe_globals`. We recommend you start setting `weights_only=True` for any use case where you don't have full control of the loaded file. Please open an issue on GitHub for any issues related to this experimental feature.\n",
      "  checkpoint = torch.load(path, map_location=config.DEVICE)\n"
     ]
    },
    {
     "name": "stdout",
     "output_type": "stream",
     "text": [
      "Using Device: cuda\n",
      "=> Loading checkpoint\n",
      "checkpoint file White-box-Cartoonization-PyTorch/weights/sceneryonly.pth.tar loaded.\n",
      "=> Finish Inference.\n"
     ]
    },
    {
     "name": "stderr",
     "output_type": "stream",
     "text": [
      "C:\\Users\\alper\\AppData\\Roaming\\Python\\Python312\\site-packages\\albumentations\\__init__.py:28: UserWarning: A new version of Albumentations is available: '2.0.7' (you have '2.0.6'). Upgrade using: pip install -U albumentations. To disable automatic update checks, set the environment variable NO_ALBUMENTATIONS_UPDATE to 1.\n",
      "  check_for_updates()\n",
      "C:\\Users\\alper\\PycharmProjects\\PhotographyProject\\White-box-Cartoonization-PyTorch\\utils.py:85: FutureWarning: You are using `torch.load` with `weights_only=False` (the current default value), which uses the default pickle module implicitly. It is possible to construct malicious pickle data which will execute arbitrary code during unpickling (See https://github.com/pytorch/pytorch/blob/main/SECURITY.md#untrusted-models for more details). In a future release, the default value for `weights_only` will be flipped to `True`. This limits the functions that could be executed during unpickling. Arbitrary objects will no longer be allowed to be loaded via this mode unless they are explicitly allowlisted by the user via `torch.serialization.add_safe_globals`. We recommend you start setting `weights_only=True` for any use case where you don't have full control of the loaded file. Please open an issue on GitHub for any issues related to this experimental feature.\n",
      "  checkpoint = torch.load(path, map_location=config.DEVICE)\n"
     ]
    },
    {
     "name": "stdout",
     "output_type": "stream",
     "text": [
      "Using Device: cuda\n",
      "=> Loading checkpoint\n",
      "checkpoint file White-box-Cartoonization-PyTorch/weights/sceneryonly.pth.tar loaded.\n",
      "=> Finish Inference.\n"
     ]
    },
    {
     "name": "stderr",
     "output_type": "stream",
     "text": [
      "C:\\Users\\alper\\AppData\\Roaming\\Python\\Python312\\site-packages\\albumentations\\__init__.py:28: UserWarning: A new version of Albumentations is available: '2.0.7' (you have '2.0.6'). Upgrade using: pip install -U albumentations. To disable automatic update checks, set the environment variable NO_ALBUMENTATIONS_UPDATE to 1.\n",
      "  check_for_updates()\n",
      "C:\\Users\\alper\\PycharmProjects\\PhotographyProject\\White-box-Cartoonization-PyTorch\\utils.py:85: FutureWarning: You are using `torch.load` with `weights_only=False` (the current default value), which uses the default pickle module implicitly. It is possible to construct malicious pickle data which will execute arbitrary code during unpickling (See https://github.com/pytorch/pytorch/blob/main/SECURITY.md#untrusted-models for more details). In a future release, the default value for `weights_only` will be flipped to `True`. This limits the functions that could be executed during unpickling. Arbitrary objects will no longer be allowed to be loaded via this mode unless they are explicitly allowlisted by the user via `torch.serialization.add_safe_globals`. We recommend you start setting `weights_only=True` for any use case where you don't have full control of the loaded file. Please open an issue on GitHub for any issues related to this experimental feature.\n",
      "  checkpoint = torch.load(path, map_location=config.DEVICE)\n",
      "C:\\Users\\alper\\AppData\\Roaming\\Python\\Python312\\site-packages\\albumentations\\__init__.py:28: UserWarning: A new version of Albumentations is available: '2.0.7' (you have '2.0.6'). Upgrade using: pip install -U albumentations. To disable automatic update checks, set the environment variable NO_ALBUMENTATIONS_UPDATE to 1.\n",
      "  check_for_updates()\n",
      "C:\\Users\\alper\\PycharmProjects\\PhotographyProject\\White-box-Cartoonization-PyTorch\\utils.py:85: FutureWarning: You are using `torch.load` with `weights_only=False` (the current default value), which uses the default pickle module implicitly. It is possible to construct malicious pickle data which will execute arbitrary code during unpickling (See https://github.com/pytorch/pytorch/blob/main/SECURITY.md#untrusted-models for more details). In a future release, the default value for `weights_only` will be flipped to `True`. This limits the functions that could be executed during unpickling. Arbitrary objects will no longer be allowed to be loaded via this mode unless they are explicitly allowlisted by the user via `torch.serialization.add_safe_globals`. We recommend you start setting `weights_only=True` for any use case where you don't have full control of the loaded file. Please open an issue on GitHub for any issues related to this experimental feature.\n",
      "  checkpoint = torch.load(path, map_location=config.DEVICE)\n"
     ]
    },
    {
     "name": "stdout",
     "output_type": "stream",
     "text": [
      "Using Device: cuda\n",
      "=> Loading checkpoint\n",
      "checkpoint file White-box-Cartoonization-PyTorch/weights/sceneryonly.pth.tar loaded.\n",
      "=> Finish Inference.\n",
      "Using Device: cuda\n",
      "=> Loading checkpoint\n",
      "checkpoint file White-box-Cartoonization-PyTorch/weights/sceneryonly.pth.tar loaded.\n",
      "=> Finish Inference.\n"
     ]
    },
    {
     "name": "stderr",
     "output_type": "stream",
     "text": [
      "C:\\Users\\alper\\AppData\\Roaming\\Python\\Python312\\site-packages\\albumentations\\__init__.py:28: UserWarning: A new version of Albumentations is available: '2.0.7' (you have '2.0.6'). Upgrade using: pip install -U albumentations. To disable automatic update checks, set the environment variable NO_ALBUMENTATIONS_UPDATE to 1.\n",
      "  check_for_updates()\n",
      "C:\\Users\\alper\\PycharmProjects\\PhotographyProject\\White-box-Cartoonization-PyTorch\\utils.py:85: FutureWarning: You are using `torch.load` with `weights_only=False` (the current default value), which uses the default pickle module implicitly. It is possible to construct malicious pickle data which will execute arbitrary code during unpickling (See https://github.com/pytorch/pytorch/blob/main/SECURITY.md#untrusted-models for more details). In a future release, the default value for `weights_only` will be flipped to `True`. This limits the functions that could be executed during unpickling. Arbitrary objects will no longer be allowed to be loaded via this mode unless they are explicitly allowlisted by the user via `torch.serialization.add_safe_globals`. We recommend you start setting `weights_only=True` for any use case where you don't have full control of the loaded file. Please open an issue on GitHub for any issues related to this experimental feature.\n",
      "  checkpoint = torch.load(path, map_location=config.DEVICE)\n"
     ]
    },
    {
     "name": "stdout",
     "output_type": "stream",
     "text": [
      "Using Device: cuda\n",
      "=> Loading checkpoint\n",
      "checkpoint file White-box-Cartoonization-PyTorch/weights/sceneryonly.pth.tar loaded.\n",
      "=> Finish Inference.\n"
     ]
    },
    {
     "name": "stderr",
     "output_type": "stream",
     "text": [
      "C:\\Users\\alper\\AppData\\Roaming\\Python\\Python312\\site-packages\\albumentations\\__init__.py:28: UserWarning: A new version of Albumentations is available: '2.0.7' (you have '2.0.6'). Upgrade using: pip install -U albumentations. To disable automatic update checks, set the environment variable NO_ALBUMENTATIONS_UPDATE to 1.\n",
      "  check_for_updates()\n",
      "C:\\Users\\alper\\PycharmProjects\\PhotographyProject\\White-box-Cartoonization-PyTorch\\utils.py:85: FutureWarning: You are using `torch.load` with `weights_only=False` (the current default value), which uses the default pickle module implicitly. It is possible to construct malicious pickle data which will execute arbitrary code during unpickling (See https://github.com/pytorch/pytorch/blob/main/SECURITY.md#untrusted-models for more details). In a future release, the default value for `weights_only` will be flipped to `True`. This limits the functions that could be executed during unpickling. Arbitrary objects will no longer be allowed to be loaded via this mode unless they are explicitly allowlisted by the user via `torch.serialization.add_safe_globals`. We recommend you start setting `weights_only=True` for any use case where you don't have full control of the loaded file. Please open an issue on GitHub for any issues related to this experimental feature.\n",
      "  checkpoint = torch.load(path, map_location=config.DEVICE)\n",
      "C:\\Users\\alper\\AppData\\Roaming\\Python\\Python312\\site-packages\\albumentations\\__init__.py:28: UserWarning: A new version of Albumentations is available: '2.0.7' (you have '2.0.6'). Upgrade using: pip install -U albumentations. To disable automatic update checks, set the environment variable NO_ALBUMENTATIONS_UPDATE to 1.\n",
      "  check_for_updates()\n",
      "C:\\Users\\alper\\PycharmProjects\\PhotographyProject\\White-box-Cartoonization-PyTorch\\utils.py:85: FutureWarning: You are using `torch.load` with `weights_only=False` (the current default value), which uses the default pickle module implicitly. It is possible to construct malicious pickle data which will execute arbitrary code during unpickling (See https://github.com/pytorch/pytorch/blob/main/SECURITY.md#untrusted-models for more details). In a future release, the default value for `weights_only` will be flipped to `True`. This limits the functions that could be executed during unpickling. Arbitrary objects will no longer be allowed to be loaded via this mode unless they are explicitly allowlisted by the user via `torch.serialization.add_safe_globals`. We recommend you start setting `weights_only=True` for any use case where you don't have full control of the loaded file. Please open an issue on GitHub for any issues related to this experimental feature.\n",
      "  checkpoint = torch.load(path, map_location=config.DEVICE)\n"
     ]
    },
    {
     "name": "stdout",
     "output_type": "stream",
     "text": [
      "Using Device: cuda\n",
      "=> Loading checkpoint\n",
      "checkpoint file White-box-Cartoonization-PyTorch/weights/sceneryonly.pth.tar loaded.\n",
      "=> Finish Inference.\n"
     ]
    },
    {
     "name": "stderr",
     "output_type": "stream",
     "text": [
      "C:\\Users\\alper\\AppData\\Roaming\\Python\\Python312\\site-packages\\albumentations\\__init__.py:28: UserWarning: A new version of Albumentations is available: '2.0.7' (you have '2.0.6'). Upgrade using: pip install -U albumentations. To disable automatic update checks, set the environment variable NO_ALBUMENTATIONS_UPDATE to 1.\n",
      "  check_for_updates()\n",
      "C:\\Users\\alper\\PycharmProjects\\PhotographyProject\\White-box-Cartoonization-PyTorch\\utils.py:85: FutureWarning: You are using `torch.load` with `weights_only=False` (the current default value), which uses the default pickle module implicitly. It is possible to construct malicious pickle data which will execute arbitrary code during unpickling (See https://github.com/pytorch/pytorch/blob/main/SECURITY.md#untrusted-models for more details). In a future release, the default value for `weights_only` will be flipped to `True`. This limits the functions that could be executed during unpickling. Arbitrary objects will no longer be allowed to be loaded via this mode unless they are explicitly allowlisted by the user via `torch.serialization.add_safe_globals`. We recommend you start setting `weights_only=True` for any use case where you don't have full control of the loaded file. Please open an issue on GitHub for any issues related to this experimental feature.\n",
      "  checkpoint = torch.load(path, map_location=config.DEVICE)\n"
     ]
    },
    {
     "name": "stdout",
     "output_type": "stream",
     "text": [
      "Using Device: cuda\n",
      "=> Loading checkpoint\n",
      "checkpoint file White-box-Cartoonization-PyTorch/weights/sceneryonly.pth.tar loaded.\n",
      "=> Finish Inference.\n"
     ]
    },
    {
     "name": "stderr",
     "output_type": "stream",
     "text": [
      "C:\\Users\\alper\\AppData\\Roaming\\Python\\Python312\\site-packages\\albumentations\\__init__.py:28: UserWarning: A new version of Albumentations is available: '2.0.7' (you have '2.0.6'). Upgrade using: pip install -U albumentations. To disable automatic update checks, set the environment variable NO_ALBUMENTATIONS_UPDATE to 1.\n",
      "  check_for_updates()\n",
      "C:\\Users\\alper\\PycharmProjects\\PhotographyProject\\White-box-Cartoonization-PyTorch\\utils.py:85: FutureWarning: You are using `torch.load` with `weights_only=False` (the current default value), which uses the default pickle module implicitly. It is possible to construct malicious pickle data which will execute arbitrary code during unpickling (See https://github.com/pytorch/pytorch/blob/main/SECURITY.md#untrusted-models for more details). In a future release, the default value for `weights_only` will be flipped to `True`. This limits the functions that could be executed during unpickling. Arbitrary objects will no longer be allowed to be loaded via this mode unless they are explicitly allowlisted by the user via `torch.serialization.add_safe_globals`. We recommend you start setting `weights_only=True` for any use case where you don't have full control of the loaded file. Please open an issue on GitHub for any issues related to this experimental feature.\n",
      "  checkpoint = torch.load(path, map_location=config.DEVICE)\n"
     ]
    },
    {
     "name": "stdout",
     "output_type": "stream",
     "text": [
      "Using Device: cuda\n",
      "=> Loading checkpoint\n",
      "checkpoint file White-box-Cartoonization-PyTorch/weights/sceneryonly.pth.tar loaded.\n",
      "=> Finish Inference.\n"
     ]
    },
    {
     "name": "stderr",
     "output_type": "stream",
     "text": [
      "C:\\Users\\alper\\AppData\\Roaming\\Python\\Python312\\site-packages\\albumentations\\__init__.py:28: UserWarning: A new version of Albumentations is available: '2.0.7' (you have '2.0.6'). Upgrade using: pip install -U albumentations. To disable automatic update checks, set the environment variable NO_ALBUMENTATIONS_UPDATE to 1.\n",
      "  check_for_updates()\n",
      "C:\\Users\\alper\\PycharmProjects\\PhotographyProject\\White-box-Cartoonization-PyTorch\\utils.py:85: FutureWarning: You are using `torch.load` with `weights_only=False` (the current default value), which uses the default pickle module implicitly. It is possible to construct malicious pickle data which will execute arbitrary code during unpickling (See https://github.com/pytorch/pytorch/blob/main/SECURITY.md#untrusted-models for more details). In a future release, the default value for `weights_only` will be flipped to `True`. This limits the functions that could be executed during unpickling. Arbitrary objects will no longer be allowed to be loaded via this mode unless they are explicitly allowlisted by the user via `torch.serialization.add_safe_globals`. We recommend you start setting `weights_only=True` for any use case where you don't have full control of the loaded file. Please open an issue on GitHub for any issues related to this experimental feature.\n",
      "  checkpoint = torch.load(path, map_location=config.DEVICE)\n"
     ]
    },
    {
     "name": "stdout",
     "output_type": "stream",
     "text": [
      "Using Device: cuda\n",
      "=> Loading checkpoint\n",
      "checkpoint file White-box-Cartoonization-PyTorch/weights/sceneryonly.pth.tar loaded.\n",
      "=> Finish Inference.\n"
     ]
    },
    {
     "name": "stderr",
     "output_type": "stream",
     "text": [
      "C:\\Users\\alper\\AppData\\Roaming\\Python\\Python312\\site-packages\\albumentations\\__init__.py:28: UserWarning: A new version of Albumentations is available: '2.0.7' (you have '2.0.6'). Upgrade using: pip install -U albumentations. To disable automatic update checks, set the environment variable NO_ALBUMENTATIONS_UPDATE to 1.\n",
      "  check_for_updates()\n",
      "C:\\Users\\alper\\PycharmProjects\\PhotographyProject\\White-box-Cartoonization-PyTorch\\utils.py:85: FutureWarning: You are using `torch.load` with `weights_only=False` (the current default value), which uses the default pickle module implicitly. It is possible to construct malicious pickle data which will execute arbitrary code during unpickling (See https://github.com/pytorch/pytorch/blob/main/SECURITY.md#untrusted-models for more details). In a future release, the default value for `weights_only` will be flipped to `True`. This limits the functions that could be executed during unpickling. Arbitrary objects will no longer be allowed to be loaded via this mode unless they are explicitly allowlisted by the user via `torch.serialization.add_safe_globals`. We recommend you start setting `weights_only=True` for any use case where you don't have full control of the loaded file. Please open an issue on GitHub for any issues related to this experimental feature.\n",
      "  checkpoint = torch.load(path, map_location=config.DEVICE)\n"
     ]
    },
    {
     "name": "stdout",
     "output_type": "stream",
     "text": [
      "Using Device: cuda\n",
      "=> Loading checkpoint\n",
      "checkpoint file White-box-Cartoonization-PyTorch/weights/sceneryonly.pth.tar loaded.\n",
      "=> Finish Inference.\n"
     ]
    },
    {
     "name": "stderr",
     "output_type": "stream",
     "text": [
      "C:\\Users\\alper\\AppData\\Roaming\\Python\\Python312\\site-packages\\albumentations\\__init__.py:28: UserWarning: A new version of Albumentations is available: '2.0.7' (you have '2.0.6'). Upgrade using: pip install -U albumentations. To disable automatic update checks, set the environment variable NO_ALBUMENTATIONS_UPDATE to 1.\n",
      "  check_for_updates()\n",
      "C:\\Users\\alper\\PycharmProjects\\PhotographyProject\\White-box-Cartoonization-PyTorch\\utils.py:85: FutureWarning: You are using `torch.load` with `weights_only=False` (the current default value), which uses the default pickle module implicitly. It is possible to construct malicious pickle data which will execute arbitrary code during unpickling (See https://github.com/pytorch/pytorch/blob/main/SECURITY.md#untrusted-models for more details). In a future release, the default value for `weights_only` will be flipped to `True`. This limits the functions that could be executed during unpickling. Arbitrary objects will no longer be allowed to be loaded via this mode unless they are explicitly allowlisted by the user via `torch.serialization.add_safe_globals`. We recommend you start setting `weights_only=True` for any use case where you don't have full control of the loaded file. Please open an issue on GitHub for any issues related to this experimental feature.\n",
      "  checkpoint = torch.load(path, map_location=config.DEVICE)\n"
     ]
    },
    {
     "name": "stdout",
     "output_type": "stream",
     "text": [
      "Using Device: cuda\n",
      "=> Loading checkpoint\n",
      "checkpoint file White-box-Cartoonization-PyTorch/weights/sceneryonly.pth.tar loaded.\n",
      "=> Finish Inference.\n",
      "Using Device: cuda\n",
      "=> Loading checkpoint\n",
      "checkpoint file White-box-Cartoonization-PyTorch/weights/sceneryonly.pth.tar loaded.\n",
      "=> Finish Inference.\n"
     ]
    },
    {
     "name": "stderr",
     "output_type": "stream",
     "text": [
      "C:\\Users\\alper\\AppData\\Roaming\\Python\\Python312\\site-packages\\albumentations\\__init__.py:28: UserWarning: A new version of Albumentations is available: '2.0.7' (you have '2.0.6'). Upgrade using: pip install -U albumentations. To disable automatic update checks, set the environment variable NO_ALBUMENTATIONS_UPDATE to 1.\n",
      "  check_for_updates()\n",
      "C:\\Users\\alper\\PycharmProjects\\PhotographyProject\\White-box-Cartoonization-PyTorch\\utils.py:85: FutureWarning: You are using `torch.load` with `weights_only=False` (the current default value), which uses the default pickle module implicitly. It is possible to construct malicious pickle data which will execute arbitrary code during unpickling (See https://github.com/pytorch/pytorch/blob/main/SECURITY.md#untrusted-models for more details). In a future release, the default value for `weights_only` will be flipped to `True`. This limits the functions that could be executed during unpickling. Arbitrary objects will no longer be allowed to be loaded via this mode unless they are explicitly allowlisted by the user via `torch.serialization.add_safe_globals`. We recommend you start setting `weights_only=True` for any use case where you don't have full control of the loaded file. Please open an issue on GitHub for any issues related to this experimental feature.\n",
      "  checkpoint = torch.load(path, map_location=config.DEVICE)\n",
      "C:\\Users\\alper\\AppData\\Roaming\\Python\\Python312\\site-packages\\albumentations\\__init__.py:28: UserWarning: A new version of Albumentations is available: '2.0.7' (you have '2.0.6'). Upgrade using: pip install -U albumentations. To disable automatic update checks, set the environment variable NO_ALBUMENTATIONS_UPDATE to 1.\n",
      "  check_for_updates()\n",
      "C:\\Users\\alper\\PycharmProjects\\PhotographyProject\\White-box-Cartoonization-PyTorch\\utils.py:85: FutureWarning: You are using `torch.load` with `weights_only=False` (the current default value), which uses the default pickle module implicitly. It is possible to construct malicious pickle data which will execute arbitrary code during unpickling (See https://github.com/pytorch/pytorch/blob/main/SECURITY.md#untrusted-models for more details). In a future release, the default value for `weights_only` will be flipped to `True`. This limits the functions that could be executed during unpickling. Arbitrary objects will no longer be allowed to be loaded via this mode unless they are explicitly allowlisted by the user via `torch.serialization.add_safe_globals`. We recommend you start setting `weights_only=True` for any use case where you don't have full control of the loaded file. Please open an issue on GitHub for any issues related to this experimental feature.\n",
      "  checkpoint = torch.load(path, map_location=config.DEVICE)\n"
     ]
    },
    {
     "name": "stdout",
     "output_type": "stream",
     "text": [
      "Using Device: cuda\n",
      "=> Loading checkpoint\n",
      "checkpoint file White-box-Cartoonization-PyTorch/weights/sceneryonly.pth.tar loaded.\n",
      "=> Finish Inference.\n"
     ]
    },
    {
     "name": "stderr",
     "output_type": "stream",
     "text": [
      "C:\\Users\\alper\\AppData\\Roaming\\Python\\Python312\\site-packages\\albumentations\\__init__.py:28: UserWarning: A new version of Albumentations is available: '2.0.7' (you have '2.0.6'). Upgrade using: pip install -U albumentations. To disable automatic update checks, set the environment variable NO_ALBUMENTATIONS_UPDATE to 1.\n",
      "  check_for_updates()\n",
      "C:\\Users\\alper\\PycharmProjects\\PhotographyProject\\White-box-Cartoonization-PyTorch\\utils.py:85: FutureWarning: You are using `torch.load` with `weights_only=False` (the current default value), which uses the default pickle module implicitly. It is possible to construct malicious pickle data which will execute arbitrary code during unpickling (See https://github.com/pytorch/pytorch/blob/main/SECURITY.md#untrusted-models for more details). In a future release, the default value for `weights_only` will be flipped to `True`. This limits the functions that could be executed during unpickling. Arbitrary objects will no longer be allowed to be loaded via this mode unless they are explicitly allowlisted by the user via `torch.serialization.add_safe_globals`. We recommend you start setting `weights_only=True` for any use case where you don't have full control of the loaded file. Please open an issue on GitHub for any issues related to this experimental feature.\n",
      "  checkpoint = torch.load(path, map_location=config.DEVICE)\n"
     ]
    },
    {
     "name": "stdout",
     "output_type": "stream",
     "text": [
      "Using Device: cuda\n",
      "=> Loading checkpoint\n",
      "checkpoint file White-box-Cartoonization-PyTorch/weights/sceneryonly.pth.tar loaded.\n",
      "=> Finish Inference.\n",
      "Using Device: cuda\n",
      "=> Loading checkpoint\n",
      "checkpoint file White-box-Cartoonization-PyTorch/weights/sceneryonly.pth.tar loaded.\n",
      "=> Finish Inference.\n"
     ]
    },
    {
     "name": "stderr",
     "output_type": "stream",
     "text": [
      "C:\\Users\\alper\\AppData\\Roaming\\Python\\Python312\\site-packages\\albumentations\\__init__.py:28: UserWarning: A new version of Albumentations is available: '2.0.7' (you have '2.0.6'). Upgrade using: pip install -U albumentations. To disable automatic update checks, set the environment variable NO_ALBUMENTATIONS_UPDATE to 1.\n",
      "  check_for_updates()\n",
      "C:\\Users\\alper\\PycharmProjects\\PhotographyProject\\White-box-Cartoonization-PyTorch\\utils.py:85: FutureWarning: You are using `torch.load` with `weights_only=False` (the current default value), which uses the default pickle module implicitly. It is possible to construct malicious pickle data which will execute arbitrary code during unpickling (See https://github.com/pytorch/pytorch/blob/main/SECURITY.md#untrusted-models for more details). In a future release, the default value for `weights_only` will be flipped to `True`. This limits the functions that could be executed during unpickling. Arbitrary objects will no longer be allowed to be loaded via this mode unless they are explicitly allowlisted by the user via `torch.serialization.add_safe_globals`. We recommend you start setting `weights_only=True` for any use case where you don't have full control of the loaded file. Please open an issue on GitHub for any issues related to this experimental feature.\n",
      "  checkpoint = torch.load(path, map_location=config.DEVICE)\n",
      "C:\\Users\\alper\\AppData\\Roaming\\Python\\Python312\\site-packages\\albumentations\\__init__.py:28: UserWarning: A new version of Albumentations is available: '2.0.7' (you have '2.0.6'). Upgrade using: pip install -U albumentations. To disable automatic update checks, set the environment variable NO_ALBUMENTATIONS_UPDATE to 1.\n",
      "  check_for_updates()\n",
      "C:\\Users\\alper\\PycharmProjects\\PhotographyProject\\White-box-Cartoonization-PyTorch\\utils.py:85: FutureWarning: You are using `torch.load` with `weights_only=False` (the current default value), which uses the default pickle module implicitly. It is possible to construct malicious pickle data which will execute arbitrary code during unpickling (See https://github.com/pytorch/pytorch/blob/main/SECURITY.md#untrusted-models for more details). In a future release, the default value for `weights_only` will be flipped to `True`. This limits the functions that could be executed during unpickling. Arbitrary objects will no longer be allowed to be loaded via this mode unless they are explicitly allowlisted by the user via `torch.serialization.add_safe_globals`. We recommend you start setting `weights_only=True` for any use case where you don't have full control of the loaded file. Please open an issue on GitHub for any issues related to this experimental feature.\n",
      "  checkpoint = torch.load(path, map_location=config.DEVICE)\n"
     ]
    },
    {
     "name": "stdout",
     "output_type": "stream",
     "text": [
      "Using Device: cuda\n",
      "=> Loading checkpoint\n",
      "checkpoint file White-box-Cartoonization-PyTorch/weights/sceneryonly.pth.tar loaded.\n",
      "=> Finish Inference.\n"
     ]
    },
    {
     "name": "stderr",
     "output_type": "stream",
     "text": [
      "C:\\Users\\alper\\AppData\\Roaming\\Python\\Python312\\site-packages\\albumentations\\__init__.py:28: UserWarning: A new version of Albumentations is available: '2.0.7' (you have '2.0.6'). Upgrade using: pip install -U albumentations. To disable automatic update checks, set the environment variable NO_ALBUMENTATIONS_UPDATE to 1.\n",
      "  check_for_updates()\n",
      "C:\\Users\\alper\\PycharmProjects\\PhotographyProject\\White-box-Cartoonization-PyTorch\\utils.py:85: FutureWarning: You are using `torch.load` with `weights_only=False` (the current default value), which uses the default pickle module implicitly. It is possible to construct malicious pickle data which will execute arbitrary code during unpickling (See https://github.com/pytorch/pytorch/blob/main/SECURITY.md#untrusted-models for more details). In a future release, the default value for `weights_only` will be flipped to `True`. This limits the functions that could be executed during unpickling. Arbitrary objects will no longer be allowed to be loaded via this mode unless they are explicitly allowlisted by the user via `torch.serialization.add_safe_globals`. We recommend you start setting `weights_only=True` for any use case where you don't have full control of the loaded file. Please open an issue on GitHub for any issues related to this experimental feature.\n",
      "  checkpoint = torch.load(path, map_location=config.DEVICE)\n"
     ]
    },
    {
     "name": "stdout",
     "output_type": "stream",
     "text": [
      "Using Device: cuda\n",
      "=> Loading checkpoint\n",
      "checkpoint file White-box-Cartoonization-PyTorch/weights/sceneryonly.pth.tar loaded.\n",
      "=> Finish Inference.\n"
     ]
    },
    {
     "name": "stderr",
     "output_type": "stream",
     "text": [
      "C:\\Users\\alper\\AppData\\Roaming\\Python\\Python312\\site-packages\\albumentations\\__init__.py:28: UserWarning: A new version of Albumentations is available: '2.0.7' (you have '2.0.6'). Upgrade using: pip install -U albumentations. To disable automatic update checks, set the environment variable NO_ALBUMENTATIONS_UPDATE to 1.\n",
      "  check_for_updates()\n",
      "C:\\Users\\alper\\PycharmProjects\\PhotographyProject\\White-box-Cartoonization-PyTorch\\utils.py:85: FutureWarning: You are using `torch.load` with `weights_only=False` (the current default value), which uses the default pickle module implicitly. It is possible to construct malicious pickle data which will execute arbitrary code during unpickling (See https://github.com/pytorch/pytorch/blob/main/SECURITY.md#untrusted-models for more details). In a future release, the default value for `weights_only` will be flipped to `True`. This limits the functions that could be executed during unpickling. Arbitrary objects will no longer be allowed to be loaded via this mode unless they are explicitly allowlisted by the user via `torch.serialization.add_safe_globals`. We recommend you start setting `weights_only=True` for any use case where you don't have full control of the loaded file. Please open an issue on GitHub for any issues related to this experimental feature.\n",
      "  checkpoint = torch.load(path, map_location=config.DEVICE)\n"
     ]
    },
    {
     "name": "stdout",
     "output_type": "stream",
     "text": [
      "Using Device: cuda\n",
      "=> Loading checkpoint\n",
      "checkpoint file White-box-Cartoonization-PyTorch/weights/sceneryonly.pth.tar loaded.\n",
      "=> Finish Inference.\n"
     ]
    },
    {
     "name": "stderr",
     "output_type": "stream",
     "text": [
      "C:\\Users\\alper\\AppData\\Roaming\\Python\\Python312\\site-packages\\albumentations\\__init__.py:28: UserWarning: A new version of Albumentations is available: '2.0.7' (you have '2.0.6'). Upgrade using: pip install -U albumentations. To disable automatic update checks, set the environment variable NO_ALBUMENTATIONS_UPDATE to 1.\n",
      "  check_for_updates()\n",
      "C:\\Users\\alper\\PycharmProjects\\PhotographyProject\\White-box-Cartoonization-PyTorch\\utils.py:85: FutureWarning: You are using `torch.load` with `weights_only=False` (the current default value), which uses the default pickle module implicitly. It is possible to construct malicious pickle data which will execute arbitrary code during unpickling (See https://github.com/pytorch/pytorch/blob/main/SECURITY.md#untrusted-models for more details). In a future release, the default value for `weights_only` will be flipped to `True`. This limits the functions that could be executed during unpickling. Arbitrary objects will no longer be allowed to be loaded via this mode unless they are explicitly allowlisted by the user via `torch.serialization.add_safe_globals`. We recommend you start setting `weights_only=True` for any use case where you don't have full control of the loaded file. Please open an issue on GitHub for any issues related to this experimental feature.\n",
      "  checkpoint = torch.load(path, map_location=config.DEVICE)\n"
     ]
    },
    {
     "name": "stdout",
     "output_type": "stream",
     "text": [
      "Using Device: cuda\n",
      "=> Loading checkpoint\n",
      "checkpoint file White-box-Cartoonization-PyTorch/weights/sceneryonly.pth.tar loaded.\n",
      "=> Finish Inference.\n",
      "Using Device: cuda\n",
      "=> Loading checkpoint\n",
      "checkpoint file White-box-Cartoonization-PyTorch/weights/sceneryonly.pth.tar loaded.\n",
      "=> Finish Inference.\n"
     ]
    },
    {
     "name": "stderr",
     "output_type": "stream",
     "text": [
      "C:\\Users\\alper\\AppData\\Roaming\\Python\\Python312\\site-packages\\albumentations\\__init__.py:28: UserWarning: A new version of Albumentations is available: '2.0.7' (you have '2.0.6'). Upgrade using: pip install -U albumentations. To disable automatic update checks, set the environment variable NO_ALBUMENTATIONS_UPDATE to 1.\n",
      "  check_for_updates()\n",
      "C:\\Users\\alper\\PycharmProjects\\PhotographyProject\\White-box-Cartoonization-PyTorch\\utils.py:85: FutureWarning: You are using `torch.load` with `weights_only=False` (the current default value), which uses the default pickle module implicitly. It is possible to construct malicious pickle data which will execute arbitrary code during unpickling (See https://github.com/pytorch/pytorch/blob/main/SECURITY.md#untrusted-models for more details). In a future release, the default value for `weights_only` will be flipped to `True`. This limits the functions that could be executed during unpickling. Arbitrary objects will no longer be allowed to be loaded via this mode unless they are explicitly allowlisted by the user via `torch.serialization.add_safe_globals`. We recommend you start setting `weights_only=True` for any use case where you don't have full control of the loaded file. Please open an issue on GitHub for any issues related to this experimental feature.\n",
      "  checkpoint = torch.load(path, map_location=config.DEVICE)\n"
     ]
    },
    {
     "name": "stdout",
     "output_type": "stream",
     "text": [
      "Using Device: cuda\n",
      "=> Loading checkpoint\n",
      "checkpoint file White-box-Cartoonization-PyTorch/weights/sceneryonly.pth.tar loaded.\n",
      "=> Finish Inference.\n"
     ]
    },
    {
     "name": "stderr",
     "output_type": "stream",
     "text": [
      "C:\\Users\\alper\\AppData\\Roaming\\Python\\Python312\\site-packages\\albumentations\\__init__.py:28: UserWarning: A new version of Albumentations is available: '2.0.7' (you have '2.0.6'). Upgrade using: pip install -U albumentations. To disable automatic update checks, set the environment variable NO_ALBUMENTATIONS_UPDATE to 1.\n",
      "  check_for_updates()\n",
      "C:\\Users\\alper\\PycharmProjects\\PhotographyProject\\White-box-Cartoonization-PyTorch\\utils.py:85: FutureWarning: You are using `torch.load` with `weights_only=False` (the current default value), which uses the default pickle module implicitly. It is possible to construct malicious pickle data which will execute arbitrary code during unpickling (See https://github.com/pytorch/pytorch/blob/main/SECURITY.md#untrusted-models for more details). In a future release, the default value for `weights_only` will be flipped to `True`. This limits the functions that could be executed during unpickling. Arbitrary objects will no longer be allowed to be loaded via this mode unless they are explicitly allowlisted by the user via `torch.serialization.add_safe_globals`. We recommend you start setting `weights_only=True` for any use case where you don't have full control of the loaded file. Please open an issue on GitHub for any issues related to this experimental feature.\n",
      "  checkpoint = torch.load(path, map_location=config.DEVICE)\n",
      "C:\\Users\\alper\\AppData\\Roaming\\Python\\Python312\\site-packages\\albumentations\\__init__.py:28: UserWarning: A new version of Albumentations is available: '2.0.7' (you have '2.0.6'). Upgrade using: pip install -U albumentations. To disable automatic update checks, set the environment variable NO_ALBUMENTATIONS_UPDATE to 1.\n",
      "  check_for_updates()\n",
      "C:\\Users\\alper\\PycharmProjects\\PhotographyProject\\White-box-Cartoonization-PyTorch\\utils.py:85: FutureWarning: You are using `torch.load` with `weights_only=False` (the current default value), which uses the default pickle module implicitly. It is possible to construct malicious pickle data which will execute arbitrary code during unpickling (See https://github.com/pytorch/pytorch/blob/main/SECURITY.md#untrusted-models for more details). In a future release, the default value for `weights_only` will be flipped to `True`. This limits the functions that could be executed during unpickling. Arbitrary objects will no longer be allowed to be loaded via this mode unless they are explicitly allowlisted by the user via `torch.serialization.add_safe_globals`. We recommend you start setting `weights_only=True` for any use case where you don't have full control of the loaded file. Please open an issue on GitHub for any issues related to this experimental feature.\n",
      "  checkpoint = torch.load(path, map_location=config.DEVICE)\n"
     ]
    },
    {
     "name": "stdout",
     "output_type": "stream",
     "text": [
      "Using Device: cuda\n",
      "=> Loading checkpoint\n",
      "checkpoint file White-box-Cartoonization-PyTorch/weights/sceneryonly.pth.tar loaded.\n",
      "=> Finish Inference.\n",
      "Using Device: cuda\n",
      "=> Loading checkpoint\n",
      "checkpoint file White-box-Cartoonization-PyTorch/weights/sceneryonly.pth.tar loaded.\n",
      "=> Finish Inference.\n"
     ]
    },
    {
     "name": "stderr",
     "output_type": "stream",
     "text": [
      "C:\\Users\\alper\\AppData\\Roaming\\Python\\Python312\\site-packages\\albumentations\\__init__.py:28: UserWarning: A new version of Albumentations is available: '2.0.7' (you have '2.0.6'). Upgrade using: pip install -U albumentations. To disable automatic update checks, set the environment variable NO_ALBUMENTATIONS_UPDATE to 1.\n",
      "  check_for_updates()\n",
      "C:\\Users\\alper\\PycharmProjects\\PhotographyProject\\White-box-Cartoonization-PyTorch\\utils.py:85: FutureWarning: You are using `torch.load` with `weights_only=False` (the current default value), which uses the default pickle module implicitly. It is possible to construct malicious pickle data which will execute arbitrary code during unpickling (See https://github.com/pytorch/pytorch/blob/main/SECURITY.md#untrusted-models for more details). In a future release, the default value for `weights_only` will be flipped to `True`. This limits the functions that could be executed during unpickling. Arbitrary objects will no longer be allowed to be loaded via this mode unless they are explicitly allowlisted by the user via `torch.serialization.add_safe_globals`. We recommend you start setting `weights_only=True` for any use case where you don't have full control of the loaded file. Please open an issue on GitHub for any issues related to this experimental feature.\n",
      "  checkpoint = torch.load(path, map_location=config.DEVICE)\n"
     ]
    },
    {
     "name": "stdout",
     "output_type": "stream",
     "text": [
      "Using Device: cuda\n",
      "=> Loading checkpoint\n",
      "checkpoint file White-box-Cartoonization-PyTorch/weights/sceneryonly.pth.tar loaded.\n",
      "=> Finish Inference.\n"
     ]
    },
    {
     "name": "stderr",
     "output_type": "stream",
     "text": [
      "C:\\Users\\alper\\AppData\\Roaming\\Python\\Python312\\site-packages\\albumentations\\__init__.py:28: UserWarning: A new version of Albumentations is available: '2.0.7' (you have '2.0.6'). Upgrade using: pip install -U albumentations. To disable automatic update checks, set the environment variable NO_ALBUMENTATIONS_UPDATE to 1.\n",
      "  check_for_updates()\n",
      "C:\\Users\\alper\\PycharmProjects\\PhotographyProject\\White-box-Cartoonization-PyTorch\\utils.py:85: FutureWarning: You are using `torch.load` with `weights_only=False` (the current default value), which uses the default pickle module implicitly. It is possible to construct malicious pickle data which will execute arbitrary code during unpickling (See https://github.com/pytorch/pytorch/blob/main/SECURITY.md#untrusted-models for more details). In a future release, the default value for `weights_only` will be flipped to `True`. This limits the functions that could be executed during unpickling. Arbitrary objects will no longer be allowed to be loaded via this mode unless they are explicitly allowlisted by the user via `torch.serialization.add_safe_globals`. We recommend you start setting `weights_only=True` for any use case where you don't have full control of the loaded file. Please open an issue on GitHub for any issues related to this experimental feature.\n",
      "  checkpoint = torch.load(path, map_location=config.DEVICE)\n",
      "C:\\Users\\alper\\AppData\\Roaming\\Python\\Python312\\site-packages\\albumentations\\__init__.py:28: UserWarning: A new version of Albumentations is available: '2.0.7' (you have '2.0.6'). Upgrade using: pip install -U albumentations. To disable automatic update checks, set the environment variable NO_ALBUMENTATIONS_UPDATE to 1.\n",
      "  check_for_updates()\n",
      "C:\\Users\\alper\\PycharmProjects\\PhotographyProject\\White-box-Cartoonization-PyTorch\\utils.py:85: FutureWarning: You are using `torch.load` with `weights_only=False` (the current default value), which uses the default pickle module implicitly. It is possible to construct malicious pickle data which will execute arbitrary code during unpickling (See https://github.com/pytorch/pytorch/blob/main/SECURITY.md#untrusted-models for more details). In a future release, the default value for `weights_only` will be flipped to `True`. This limits the functions that could be executed during unpickling. Arbitrary objects will no longer be allowed to be loaded via this mode unless they are explicitly allowlisted by the user via `torch.serialization.add_safe_globals`. We recommend you start setting `weights_only=True` for any use case where you don't have full control of the loaded file. Please open an issue on GitHub for any issues related to this experimental feature.\n",
      "  checkpoint = torch.load(path, map_location=config.DEVICE)\n"
     ]
    },
    {
     "name": "stdout",
     "output_type": "stream",
     "text": [
      "Using Device: cuda\n",
      "=> Loading checkpoint\n",
      "checkpoint file White-box-Cartoonization-PyTorch/weights/sceneryonly.pth.tar loaded.\n",
      "=> Finish Inference.\n"
     ]
    },
    {
     "name": "stderr",
     "output_type": "stream",
     "text": [
      "C:\\Users\\alper\\AppData\\Roaming\\Python\\Python312\\site-packages\\albumentations\\__init__.py:28: UserWarning: A new version of Albumentations is available: '2.0.7' (you have '2.0.6'). Upgrade using: pip install -U albumentations. To disable automatic update checks, set the environment variable NO_ALBUMENTATIONS_UPDATE to 1.\n",
      "  check_for_updates()\n",
      "C:\\Users\\alper\\PycharmProjects\\PhotographyProject\\White-box-Cartoonization-PyTorch\\utils.py:85: FutureWarning: You are using `torch.load` with `weights_only=False` (the current default value), which uses the default pickle module implicitly. It is possible to construct malicious pickle data which will execute arbitrary code during unpickling (See https://github.com/pytorch/pytorch/blob/main/SECURITY.md#untrusted-models for more details). In a future release, the default value for `weights_only` will be flipped to `True`. This limits the functions that could be executed during unpickling. Arbitrary objects will no longer be allowed to be loaded via this mode unless they are explicitly allowlisted by the user via `torch.serialization.add_safe_globals`. We recommend you start setting `weights_only=True` for any use case where you don't have full control of the loaded file. Please open an issue on GitHub for any issues related to this experimental feature.\n",
      "  checkpoint = torch.load(path, map_location=config.DEVICE)\n"
     ]
    },
    {
     "name": "stdout",
     "output_type": "stream",
     "text": [
      "Using Device: cuda\n",
      "=> Loading checkpoint\n",
      "checkpoint file White-box-Cartoonization-PyTorch/weights/sceneryonly.pth.tar loaded.\n",
      "=> Finish Inference.\n",
      "Using Device: cuda\n",
      "=> Loading checkpoint\n",
      "checkpoint file White-box-Cartoonization-PyTorch/weights/sceneryonly.pth.tar loaded.\n",
      "=> Finish Inference.\n"
     ]
    },
    {
     "name": "stderr",
     "output_type": "stream",
     "text": [
      "C:\\Users\\alper\\AppData\\Roaming\\Python\\Python312\\site-packages\\albumentations\\__init__.py:28: UserWarning: A new version of Albumentations is available: '2.0.7' (you have '2.0.6'). Upgrade using: pip install -U albumentations. To disable automatic update checks, set the environment variable NO_ALBUMENTATIONS_UPDATE to 1.\n",
      "  check_for_updates()\n",
      "C:\\Users\\alper\\PycharmProjects\\PhotographyProject\\White-box-Cartoonization-PyTorch\\utils.py:85: FutureWarning: You are using `torch.load` with `weights_only=False` (the current default value), which uses the default pickle module implicitly. It is possible to construct malicious pickle data which will execute arbitrary code during unpickling (See https://github.com/pytorch/pytorch/blob/main/SECURITY.md#untrusted-models for more details). In a future release, the default value for `weights_only` will be flipped to `True`. This limits the functions that could be executed during unpickling. Arbitrary objects will no longer be allowed to be loaded via this mode unless they are explicitly allowlisted by the user via `torch.serialization.add_safe_globals`. We recommend you start setting `weights_only=True` for any use case where you don't have full control of the loaded file. Please open an issue on GitHub for any issues related to this experimental feature.\n",
      "  checkpoint = torch.load(path, map_location=config.DEVICE)\n",
      "C:\\Users\\alper\\AppData\\Roaming\\Python\\Python312\\site-packages\\albumentations\\__init__.py:28: UserWarning: A new version of Albumentations is available: '2.0.7' (you have '2.0.6'). Upgrade using: pip install -U albumentations. To disable automatic update checks, set the environment variable NO_ALBUMENTATIONS_UPDATE to 1.\n",
      "  check_for_updates()\n",
      "C:\\Users\\alper\\PycharmProjects\\PhotographyProject\\White-box-Cartoonization-PyTorch\\utils.py:85: FutureWarning: You are using `torch.load` with `weights_only=False` (the current default value), which uses the default pickle module implicitly. It is possible to construct malicious pickle data which will execute arbitrary code during unpickling (See https://github.com/pytorch/pytorch/blob/main/SECURITY.md#untrusted-models for more details). In a future release, the default value for `weights_only` will be flipped to `True`. This limits the functions that could be executed during unpickling. Arbitrary objects will no longer be allowed to be loaded via this mode unless they are explicitly allowlisted by the user via `torch.serialization.add_safe_globals`. We recommend you start setting `weights_only=True` for any use case where you don't have full control of the loaded file. Please open an issue on GitHub for any issues related to this experimental feature.\n",
      "  checkpoint = torch.load(path, map_location=config.DEVICE)\n"
     ]
    },
    {
     "name": "stdout",
     "output_type": "stream",
     "text": [
      "Using Device: cuda\n",
      "=> Loading checkpoint\n",
      "checkpoint file White-box-Cartoonization-PyTorch/weights/sceneryonly.pth.tar loaded.\n",
      "=> Finish Inference.\n",
      "Using Device: cuda\n",
      "=> Loading checkpoint\n",
      "checkpoint file White-box-Cartoonization-PyTorch/weights/sceneryonly.pth.tar loaded.\n",
      "=> Finish Inference.\n"
     ]
    },
    {
     "name": "stderr",
     "output_type": "stream",
     "text": [
      "C:\\Users\\alper\\AppData\\Roaming\\Python\\Python312\\site-packages\\albumentations\\__init__.py:28: UserWarning: A new version of Albumentations is available: '2.0.7' (you have '2.0.6'). Upgrade using: pip install -U albumentations. To disable automatic update checks, set the environment variable NO_ALBUMENTATIONS_UPDATE to 1.\n",
      "  check_for_updates()\n",
      "C:\\Users\\alper\\PycharmProjects\\PhotographyProject\\White-box-Cartoonization-PyTorch\\utils.py:85: FutureWarning: You are using `torch.load` with `weights_only=False` (the current default value), which uses the default pickle module implicitly. It is possible to construct malicious pickle data which will execute arbitrary code during unpickling (See https://github.com/pytorch/pytorch/blob/main/SECURITY.md#untrusted-models for more details). In a future release, the default value for `weights_only` will be flipped to `True`. This limits the functions that could be executed during unpickling. Arbitrary objects will no longer be allowed to be loaded via this mode unless they are explicitly allowlisted by the user via `torch.serialization.add_safe_globals`. We recommend you start setting `weights_only=True` for any use case where you don't have full control of the loaded file. Please open an issue on GitHub for any issues related to this experimental feature.\n",
      "  checkpoint = torch.load(path, map_location=config.DEVICE)\n",
      "C:\\Users\\alper\\AppData\\Roaming\\Python\\Python312\\site-packages\\albumentations\\__init__.py:28: UserWarning: A new version of Albumentations is available: '2.0.7' (you have '2.0.6'). Upgrade using: pip install -U albumentations. To disable automatic update checks, set the environment variable NO_ALBUMENTATIONS_UPDATE to 1.\n",
      "  check_for_updates()\n",
      "C:\\Users\\alper\\PycharmProjects\\PhotographyProject\\White-box-Cartoonization-PyTorch\\utils.py:85: FutureWarning: You are using `torch.load` with `weights_only=False` (the current default value), which uses the default pickle module implicitly. It is possible to construct malicious pickle data which will execute arbitrary code during unpickling (See https://github.com/pytorch/pytorch/blob/main/SECURITY.md#untrusted-models for more details). In a future release, the default value for `weights_only` will be flipped to `True`. This limits the functions that could be executed during unpickling. Arbitrary objects will no longer be allowed to be loaded via this mode unless they are explicitly allowlisted by the user via `torch.serialization.add_safe_globals`. We recommend you start setting `weights_only=True` for any use case where you don't have full control of the loaded file. Please open an issue on GitHub for any issues related to this experimental feature.\n",
      "  checkpoint = torch.load(path, map_location=config.DEVICE)\n"
     ]
    },
    {
     "name": "stdout",
     "output_type": "stream",
     "text": [
      "Using Device: cuda\n",
      "=> Loading checkpoint\n",
      "checkpoint file White-box-Cartoonization-PyTorch/weights/sceneryonly.pth.tar loaded.\n",
      "=> Finish Inference.\n"
     ]
    },
    {
     "name": "stderr",
     "output_type": "stream",
     "text": [
      "C:\\Users\\alper\\AppData\\Roaming\\Python\\Python312\\site-packages\\albumentations\\__init__.py:28: UserWarning: A new version of Albumentations is available: '2.0.7' (you have '2.0.6'). Upgrade using: pip install -U albumentations. To disable automatic update checks, set the environment variable NO_ALBUMENTATIONS_UPDATE to 1.\n",
      "  check_for_updates()\n",
      "C:\\Users\\alper\\PycharmProjects\\PhotographyProject\\White-box-Cartoonization-PyTorch\\utils.py:85: FutureWarning: You are using `torch.load` with `weights_only=False` (the current default value), which uses the default pickle module implicitly. It is possible to construct malicious pickle data which will execute arbitrary code during unpickling (See https://github.com/pytorch/pytorch/blob/main/SECURITY.md#untrusted-models for more details). In a future release, the default value for `weights_only` will be flipped to `True`. This limits the functions that could be executed during unpickling. Arbitrary objects will no longer be allowed to be loaded via this mode unless they are explicitly allowlisted by the user via `torch.serialization.add_safe_globals`. We recommend you start setting `weights_only=True` for any use case where you don't have full control of the loaded file. Please open an issue on GitHub for any issues related to this experimental feature.\n",
      "  checkpoint = torch.load(path, map_location=config.DEVICE)\n"
     ]
    },
    {
     "name": "stdout",
     "output_type": "stream",
     "text": [
      "Using Device: cuda\n",
      "=> Loading checkpoint\n",
      "checkpoint file White-box-Cartoonization-PyTorch/weights/sceneryonly.pth.tar loaded.\n",
      "=> Finish Inference.\n"
     ]
    },
    {
     "name": "stderr",
     "output_type": "stream",
     "text": [
      "C:\\Users\\alper\\AppData\\Roaming\\Python\\Python312\\site-packages\\albumentations\\__init__.py:28: UserWarning: A new version of Albumentations is available: '2.0.7' (you have '2.0.6'). Upgrade using: pip install -U albumentations. To disable automatic update checks, set the environment variable NO_ALBUMENTATIONS_UPDATE to 1.\n",
      "  check_for_updates()\n",
      "C:\\Users\\alper\\PycharmProjects\\PhotographyProject\\White-box-Cartoonization-PyTorch\\utils.py:85: FutureWarning: You are using `torch.load` with `weights_only=False` (the current default value), which uses the default pickle module implicitly. It is possible to construct malicious pickle data which will execute arbitrary code during unpickling (See https://github.com/pytorch/pytorch/blob/main/SECURITY.md#untrusted-models for more details). In a future release, the default value for `weights_only` will be flipped to `True`. This limits the functions that could be executed during unpickling. Arbitrary objects will no longer be allowed to be loaded via this mode unless they are explicitly allowlisted by the user via `torch.serialization.add_safe_globals`. We recommend you start setting `weights_only=True` for any use case where you don't have full control of the loaded file. Please open an issue on GitHub for any issues related to this experimental feature.\n",
      "  checkpoint = torch.load(path, map_location=config.DEVICE)\n"
     ]
    },
    {
     "name": "stdout",
     "output_type": "stream",
     "text": [
      "Using Device: cuda\n",
      "=> Loading checkpoint\n",
      "checkpoint file White-box-Cartoonization-PyTorch/weights/sceneryonly.pth.tar loaded.\n",
      "=> Finish Inference.\n"
     ]
    },
    {
     "name": "stderr",
     "output_type": "stream",
     "text": [
      "C:\\Users\\alper\\AppData\\Roaming\\Python\\Python312\\site-packages\\albumentations\\__init__.py:28: UserWarning: A new version of Albumentations is available: '2.0.7' (you have '2.0.6'). Upgrade using: pip install -U albumentations. To disable automatic update checks, set the environment variable NO_ALBUMENTATIONS_UPDATE to 1.\n",
      "  check_for_updates()\n",
      "C:\\Users\\alper\\PycharmProjects\\PhotographyProject\\White-box-Cartoonization-PyTorch\\utils.py:85: FutureWarning: You are using `torch.load` with `weights_only=False` (the current default value), which uses the default pickle module implicitly. It is possible to construct malicious pickle data which will execute arbitrary code during unpickling (See https://github.com/pytorch/pytorch/blob/main/SECURITY.md#untrusted-models for more details). In a future release, the default value for `weights_only` will be flipped to `True`. This limits the functions that could be executed during unpickling. Arbitrary objects will no longer be allowed to be loaded via this mode unless they are explicitly allowlisted by the user via `torch.serialization.add_safe_globals`. We recommend you start setting `weights_only=True` for any use case where you don't have full control of the loaded file. Please open an issue on GitHub for any issues related to this experimental feature.\n",
      "  checkpoint = torch.load(path, map_location=config.DEVICE)\n"
     ]
    },
    {
     "name": "stdout",
     "output_type": "stream",
     "text": [
      "Using Device: cuda\n",
      "=> Loading checkpoint\n",
      "checkpoint file White-box-Cartoonization-PyTorch/weights/sceneryonly.pth.tar loaded.\n",
      "=> Finish Inference.\n",
      "Using Device: cuda\n",
      "=> Loading checkpoint\n",
      "checkpoint file White-box-Cartoonization-PyTorch/weights/sceneryonly.pth.tar loaded.\n",
      "=> Finish Inference.\n"
     ]
    },
    {
     "name": "stderr",
     "output_type": "stream",
     "text": [
      "C:\\Users\\alper\\AppData\\Roaming\\Python\\Python312\\site-packages\\albumentations\\__init__.py:28: UserWarning: A new version of Albumentations is available: '2.0.7' (you have '2.0.6'). Upgrade using: pip install -U albumentations. To disable automatic update checks, set the environment variable NO_ALBUMENTATIONS_UPDATE to 1.\n",
      "  check_for_updates()\n",
      "C:\\Users\\alper\\PycharmProjects\\PhotographyProject\\White-box-Cartoonization-PyTorch\\utils.py:85: FutureWarning: You are using `torch.load` with `weights_only=False` (the current default value), which uses the default pickle module implicitly. It is possible to construct malicious pickle data which will execute arbitrary code during unpickling (See https://github.com/pytorch/pytorch/blob/main/SECURITY.md#untrusted-models for more details). In a future release, the default value for `weights_only` will be flipped to `True`. This limits the functions that could be executed during unpickling. Arbitrary objects will no longer be allowed to be loaded via this mode unless they are explicitly allowlisted by the user via `torch.serialization.add_safe_globals`. We recommend you start setting `weights_only=True` for any use case where you don't have full control of the loaded file. Please open an issue on GitHub for any issues related to this experimental feature.\n",
      "  checkpoint = torch.load(path, map_location=config.DEVICE)\n",
      "C:\\Users\\alper\\AppData\\Roaming\\Python\\Python312\\site-packages\\albumentations\\__init__.py:28: UserWarning: A new version of Albumentations is available: '2.0.7' (you have '2.0.6'). Upgrade using: pip install -U albumentations. To disable automatic update checks, set the environment variable NO_ALBUMENTATIONS_UPDATE to 1.\n",
      "  check_for_updates()\n",
      "C:\\Users\\alper\\PycharmProjects\\PhotographyProject\\White-box-Cartoonization-PyTorch\\utils.py:85: FutureWarning: You are using `torch.load` with `weights_only=False` (the current default value), which uses the default pickle module implicitly. It is possible to construct malicious pickle data which will execute arbitrary code during unpickling (See https://github.com/pytorch/pytorch/blob/main/SECURITY.md#untrusted-models for more details). In a future release, the default value for `weights_only` will be flipped to `True`. This limits the functions that could be executed during unpickling. Arbitrary objects will no longer be allowed to be loaded via this mode unless they are explicitly allowlisted by the user via `torch.serialization.add_safe_globals`. We recommend you start setting `weights_only=True` for any use case where you don't have full control of the loaded file. Please open an issue on GitHub for any issues related to this experimental feature.\n",
      "  checkpoint = torch.load(path, map_location=config.DEVICE)\n"
     ]
    },
    {
     "name": "stdout",
     "output_type": "stream",
     "text": [
      "Using Device: cuda\n",
      "=> Loading checkpoint\n",
      "checkpoint file White-box-Cartoonization-PyTorch/weights/sceneryonly.pth.tar loaded.\n",
      "=> Finish Inference.\n"
     ]
    },
    {
     "name": "stderr",
     "output_type": "stream",
     "text": [
      "C:\\Users\\alper\\AppData\\Roaming\\Python\\Python312\\site-packages\\albumentations\\__init__.py:28: UserWarning: A new version of Albumentations is available: '2.0.7' (you have '2.0.6'). Upgrade using: pip install -U albumentations. To disable automatic update checks, set the environment variable NO_ALBUMENTATIONS_UPDATE to 1.\n",
      "  check_for_updates()\n",
      "C:\\Users\\alper\\PycharmProjects\\PhotographyProject\\White-box-Cartoonization-PyTorch\\utils.py:85: FutureWarning: You are using `torch.load` with `weights_only=False` (the current default value), which uses the default pickle module implicitly. It is possible to construct malicious pickle data which will execute arbitrary code during unpickling (See https://github.com/pytorch/pytorch/blob/main/SECURITY.md#untrusted-models for more details). In a future release, the default value for `weights_only` will be flipped to `True`. This limits the functions that could be executed during unpickling. Arbitrary objects will no longer be allowed to be loaded via this mode unless they are explicitly allowlisted by the user via `torch.serialization.add_safe_globals`. We recommend you start setting `weights_only=True` for any use case where you don't have full control of the loaded file. Please open an issue on GitHub for any issues related to this experimental feature.\n",
      "  checkpoint = torch.load(path, map_location=config.DEVICE)\n"
     ]
    },
    {
     "name": "stdout",
     "output_type": "stream",
     "text": [
      "Using Device: cuda\n",
      "=> Loading checkpoint\n",
      "checkpoint file White-box-Cartoonization-PyTorch/weights/sceneryonly.pth.tar loaded.\n",
      "=> Finish Inference.\n"
     ]
    },
    {
     "name": "stderr",
     "output_type": "stream",
     "text": [
      "C:\\Users\\alper\\AppData\\Roaming\\Python\\Python312\\site-packages\\albumentations\\__init__.py:28: UserWarning: A new version of Albumentations is available: '2.0.7' (you have '2.0.6'). Upgrade using: pip install -U albumentations. To disable automatic update checks, set the environment variable NO_ALBUMENTATIONS_UPDATE to 1.\n",
      "  check_for_updates()\n",
      "C:\\Users\\alper\\PycharmProjects\\PhotographyProject\\White-box-Cartoonization-PyTorch\\utils.py:85: FutureWarning: You are using `torch.load` with `weights_only=False` (the current default value), which uses the default pickle module implicitly. It is possible to construct malicious pickle data which will execute arbitrary code during unpickling (See https://github.com/pytorch/pytorch/blob/main/SECURITY.md#untrusted-models for more details). In a future release, the default value for `weights_only` will be flipped to `True`. This limits the functions that could be executed during unpickling. Arbitrary objects will no longer be allowed to be loaded via this mode unless they are explicitly allowlisted by the user via `torch.serialization.add_safe_globals`. We recommend you start setting `weights_only=True` for any use case where you don't have full control of the loaded file. Please open an issue on GitHub for any issues related to this experimental feature.\n",
      "  checkpoint = torch.load(path, map_location=config.DEVICE)\n"
     ]
    },
    {
     "name": "stdout",
     "output_type": "stream",
     "text": [
      "Using Device: cuda\n",
      "=> Loading checkpoint\n",
      "checkpoint file White-box-Cartoonization-PyTorch/weights/sceneryonly.pth.tar loaded.\n",
      "=> Finish Inference.\n",
      "Using Device: cuda\n",
      "=> Loading checkpoint\n",
      "checkpoint file White-box-Cartoonization-PyTorch/weights/sceneryonly.pth.tar loaded.\n",
      "=> Finish Inference.\n"
     ]
    },
    {
     "name": "stderr",
     "output_type": "stream",
     "text": [
      "C:\\Users\\alper\\AppData\\Roaming\\Python\\Python312\\site-packages\\albumentations\\__init__.py:28: UserWarning: A new version of Albumentations is available: '2.0.7' (you have '2.0.6'). Upgrade using: pip install -U albumentations. To disable automatic update checks, set the environment variable NO_ALBUMENTATIONS_UPDATE to 1.\n",
      "  check_for_updates()\n",
      "C:\\Users\\alper\\PycharmProjects\\PhotographyProject\\White-box-Cartoonization-PyTorch\\utils.py:85: FutureWarning: You are using `torch.load` with `weights_only=False` (the current default value), which uses the default pickle module implicitly. It is possible to construct malicious pickle data which will execute arbitrary code during unpickling (See https://github.com/pytorch/pytorch/blob/main/SECURITY.md#untrusted-models for more details). In a future release, the default value for `weights_only` will be flipped to `True`. This limits the functions that could be executed during unpickling. Arbitrary objects will no longer be allowed to be loaded via this mode unless they are explicitly allowlisted by the user via `torch.serialization.add_safe_globals`. We recommend you start setting `weights_only=True` for any use case where you don't have full control of the loaded file. Please open an issue on GitHub for any issues related to this experimental feature.\n",
      "  checkpoint = torch.load(path, map_location=config.DEVICE)\n",
      "C:\\Users\\alper\\AppData\\Roaming\\Python\\Python312\\site-packages\\albumentations\\__init__.py:28: UserWarning: A new version of Albumentations is available: '2.0.7' (you have '2.0.6'). Upgrade using: pip install -U albumentations. To disable automatic update checks, set the environment variable NO_ALBUMENTATIONS_UPDATE to 1.\n",
      "  check_for_updates()\n",
      "C:\\Users\\alper\\PycharmProjects\\PhotographyProject\\White-box-Cartoonization-PyTorch\\utils.py:85: FutureWarning: You are using `torch.load` with `weights_only=False` (the current default value), which uses the default pickle module implicitly. It is possible to construct malicious pickle data which will execute arbitrary code during unpickling (See https://github.com/pytorch/pytorch/blob/main/SECURITY.md#untrusted-models for more details). In a future release, the default value for `weights_only` will be flipped to `True`. This limits the functions that could be executed during unpickling. Arbitrary objects will no longer be allowed to be loaded via this mode unless they are explicitly allowlisted by the user via `torch.serialization.add_safe_globals`. We recommend you start setting `weights_only=True` for any use case where you don't have full control of the loaded file. Please open an issue on GitHub for any issues related to this experimental feature.\n",
      "  checkpoint = torch.load(path, map_location=config.DEVICE)\n"
     ]
    },
    {
     "name": "stdout",
     "output_type": "stream",
     "text": [
      "Using Device: cuda\n",
      "=> Loading checkpoint\n",
      "checkpoint file White-box-Cartoonization-PyTorch/weights/sceneryonly.pth.tar loaded.\n",
      "=> Finish Inference.\n"
     ]
    }
   ],
   "execution_count": 33
  },
  {
   "metadata": {
    "ExecuteTime": {
     "end_time": "2025-05-27T16:03:17.767194Z",
     "start_time": "2025-05-27T16:03:17.725462Z"
    }
   },
   "cell_type": "code",
   "source": [
    "df_guided_fuse = pd.DataFrame(results_fuse_guided)\n",
    "df_guided_fuse.to_excel(\"results_guided_fuse.xlsx\", index=False)"
   ],
   "id": "723ef77e3b347982",
   "outputs": [],
   "execution_count": 34
  },
  {
   "metadata": {
    "ExecuteTime": {
     "end_time": "2025-05-27T16:03:18.901839Z",
     "start_time": "2025-05-27T16:03:18.886273Z"
    }
   },
   "cell_type": "code",
   "source": "print(df_guided_fuse)",
   "id": "c1fcaf571cceb375",
   "outputs": [
    {
     "name": "stdout",
     "output_type": "stream",
     "text": [
      "            image  psnr_whitebox  ssim_whitebox  edge_density_whitebox  \\\n",
      "0   10_guided_k16      18.268660       0.768694               0.048604   \n",
      "1   11_guided_k16      17.498173       0.680154               0.078902   \n",
      "2   12_guided_k16      18.462430       0.736609               0.067412   \n",
      "3   13_guided_k16      17.431525       0.707426               0.089428   \n",
      "4   14_guided_k16      16.343638       0.760260               0.077196   \n",
      "5   15_guided_k16      18.955941       0.592482               0.051765   \n",
      "6   16_guided_k16      21.823366       0.883137               0.037434   \n",
      "7   17_guided_k16      20.645692       0.776018               0.042046   \n",
      "8   18_guided_k16      20.472681       0.865229               0.028821   \n",
      "9   19_guided_k16      23.538542       0.856417               0.014264   \n",
      "10   1_guided_k16      16.426935       0.679871               0.105446   \n",
      "11  20_guided_k16      18.832443       0.792211               0.054948   \n",
      "12  21_guided_k16      19.848853       0.798460               0.013042   \n",
      "13  22_guided_k16      21.385708       0.924858               0.016555   \n",
      "14  23_guided_k16      21.326070       0.860994               0.022352   \n",
      "15  24_guided_k16      18.624222       0.815755               0.016771   \n",
      "16  25_guided_k16      17.847514       0.787218               0.015528   \n",
      "17  26_guided_k16      19.754859       0.891399               0.017833   \n",
      "18  27_guided_k16      19.096671       0.868157               0.019221   \n",
      "19  28_guided_k16      20.385154       0.847011               0.030662   \n",
      "20  29_guided_k16      18.611946       0.876905               0.013848   \n",
      "21   2_guided_k16      16.776462       0.693702               0.084917   \n",
      "22  30_guided_k16      20.213887       0.870543               0.040322   \n",
      "23  31_guided_k16      22.384579       0.886161               0.026885   \n",
      "24  32_guided_k16      19.209716       0.821989               0.028123   \n",
      "25  33_guided_k16      17.219980       0.796751               0.067318   \n",
      "26  34_guided_k16      17.791874       0.613022               0.061175   \n",
      "27  35_guided_k16      18.219059       0.890367               0.033843   \n",
      "28  36_guided_k16      19.977688       0.769402               0.036614   \n",
      "29  37_guided_k16      20.951558       0.714491               0.015884   \n",
      "30  38_guided_k16      20.113498       0.878151               0.015461   \n",
      "31  39_guided_k16      18.931372       0.784010               0.024692   \n",
      "32   3_guided_k16      18.775940       0.709096               0.051046   \n",
      "33  40_guided_k16      19.227098       0.775031               0.043985   \n",
      "34   4_guided_k16      17.056090       0.571495               0.055443   \n",
      "35   5_guided_k16      17.232838       0.738987               0.069632   \n",
      "36   6_guided_k16      18.074008       0.638271               0.040511   \n",
      "37   7_guided_k16      17.810539       0.790597               0.052883   \n",
      "38   8_guided_k16      17.892779       0.791376               0.051541   \n",
      "39   9_guided_k16      19.106277       0.830599               0.059339   \n",
      "\n",
      "    inference_time_whitebox  psnr_animegan  ssim_animegan  \\\n",
      "0                  6.244356      12.389718       0.406356   \n",
      "1                  5.655863      10.328230       0.210277   \n",
      "2                  6.081223      10.012322       0.276462   \n",
      "3                  6.026277      11.383303       0.243467   \n",
      "4                  6.323982      11.463388       0.424357   \n",
      "5                  6.285120      11.801330       0.246826   \n",
      "6                  5.924871      13.747464       0.465835   \n",
      "7                  6.232479      13.757488       0.425055   \n",
      "8                  5.985795      14.214594       0.535104   \n",
      "9                  6.098238      14.191414       0.549528   \n",
      "10                 5.830276      10.071427       0.206737   \n",
      "11                 5.988499      10.662999       0.431663   \n",
      "12                 6.046662      13.335403       0.571878   \n",
      "13                 5.695756      15.920109       0.709133   \n",
      "14                 5.862657      15.123111       0.623018   \n",
      "15                 5.719969      19.516704       0.713856   \n",
      "16                 5.863120      13.493789       0.684636   \n",
      "17                 5.719229      12.152239       0.582172   \n",
      "18                 6.139307      14.739442       0.612296   \n",
      "19                 5.756645      12.531465       0.560073   \n",
      "20                 5.876697      16.295066       0.597847   \n",
      "21                 6.104285       9.569928       0.262722   \n",
      "22                 5.926739      14.162007       0.533571   \n",
      "23                 5.904013      13.061926       0.515525   \n",
      "24                 6.140329      13.613799       0.598844   \n",
      "25                 5.612421      15.409085       0.515107   \n",
      "26                 5.831588      14.336300       0.320676   \n",
      "27                 5.655960      12.450860       0.544432   \n",
      "28                 5.882228      13.652255       0.424747   \n",
      "29                 5.849240      15.889953       0.487976   \n",
      "30                 6.114671      21.424029       0.745345   \n",
      "31                 5.599375      12.117103       0.524551   \n",
      "32                 5.952367      12.420211       0.327045   \n",
      "33                 5.716941      11.869070       0.332878   \n",
      "34                 6.116075      12.446253       0.296228   \n",
      "35                 6.237572      13.176256       0.353490   \n",
      "36                 6.333150      12.960538       0.371050   \n",
      "37                 6.216212      12.647395       0.443406   \n",
      "38                 5.997399      14.737134       0.568184   \n",
      "39                 6.083064      13.804200       0.380030   \n",
      "\n",
      "    edge_density_animegan  inference_time_animegan  \n",
      "0                0.066100                 1.292027  \n",
      "1                0.070546                 1.305435  \n",
      "2                0.049624                 1.399009  \n",
      "3                0.032987                 1.368558  \n",
      "4                0.038216                 1.439466  \n",
      "5                0.021950                 1.310779  \n",
      "6                0.024128                 1.285745  \n",
      "7                0.025638                 1.289818  \n",
      "8                0.022151                 1.308678  \n",
      "9                0.004725                 1.293053  \n",
      "10               0.051712                 1.556747  \n",
      "11               0.026127                 1.284027  \n",
      "12               0.008538                 1.273601  \n",
      "13               0.021359                 1.287422  \n",
      "14               0.009994                 1.305396  \n",
      "15               0.013369                 1.299368  \n",
      "16               0.011019                 1.341703  \n",
      "17               0.019376                 1.277465  \n",
      "18               0.030870                 1.296591  \n",
      "19               0.024237                 1.300350  \n",
      "20               0.019498                 1.268629  \n",
      "21               0.051112                 1.284301  \n",
      "22               0.029369                 1.299417  \n",
      "23               0.019651                 1.327384  \n",
      "24               0.018461                 1.327035  \n",
      "25               0.069016                 1.273284  \n",
      "26               0.052438                 1.279490  \n",
      "27               0.030071                 1.275018  \n",
      "28               0.026403                 1.336241  \n",
      "29               0.004729                 1.295642  \n",
      "30               0.006500                 1.293593  \n",
      "31               0.019504                 1.274544  \n",
      "32               0.035838                 1.282167  \n",
      "33               0.041573                 1.322068  \n",
      "34               0.019822                 1.300196  \n",
      "35               0.060503                 1.423378  \n",
      "36               0.013647                 1.305051  \n",
      "37               0.035990                 1.310747  \n",
      "38               0.033369                 1.316170  \n",
      "39               0.048047                 1.274905  \n"
     ]
    }
   ],
   "execution_count": 35
  }
 ],
 "metadata": {
  "kernelspec": {
   "display_name": "Python 3",
   "language": "python",
   "name": "python3"
  },
  "language_info": {
   "codemirror_mode": {
    "name": "ipython",
    "version": 2
   },
   "file_extension": ".py",
   "mimetype": "text/x-python",
   "name": "python",
   "nbconvert_exporter": "python",
   "pygments_lexer": "ipython2",
   "version": "2.7.6"
  }
 },
 "nbformat": 4,
 "nbformat_minor": 5
}
